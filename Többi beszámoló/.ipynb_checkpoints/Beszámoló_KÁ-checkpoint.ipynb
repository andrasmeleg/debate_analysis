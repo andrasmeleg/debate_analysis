{
 "cells": [
  {
   "cell_type": "markdown",
   "metadata": {},
   "source": [
    "# Kovács Ádám József\n",
    "## 2019\n",
    "### Python beszámoló"
   ]
  },
  {
   "cell_type": "code",
   "execution_count": 2,
   "metadata": {},
   "outputs": [],
   "source": [
    "import time\n",
    "import os\n",
    "from helpers import get_download_dir, chromedriver_download\n",
    "chromedriver_download()\n",
    "os.environ['PATH'] += ';' + get_download_dir()\n",
    "from selenium import webdriver\n",
    "from selenium.common.exceptions import NoSuchElementException\n",
    "\n",
    "def scrolldown():\n",
    "    lastHeight = driver.execute_script(\"return document.body.scrollHeight\")\n",
    "    while True:\n",
    "        driver.execute_script(\"window.scrollTo(0, document.body.scrollHeight);\")\n",
    "        time.sleep(1)\n",
    "        newHeight = driver.execute_script(\"return document.body.scrollHeight\")\n",
    "        if newHeight == lastHeight:\n",
    "            break\n",
    "        lastHeight = newHeight\n",
    "    return True\n",
    "\n",
    "driver = webdriver.Chrome()\n",
    "\n",
    "driver.get('https://www.premierleague.com/players?se=210&cl=-1')\n",
    "\n",
    "scrolldown()\n",
    "\n",
    "players=driver.find_element_by_id('mainContent').find_elements_by_class_name('playerName')\n",
    "\n",
    "links=[]\n",
    "newlinks=[]\n",
    "\n",
    "for player in players:\n",
    "    links.append(player.get_attribute('href'))\n",
    "\n",
    "for link in links:\n",
    "    newlinks.append(link.replace(\"overview\", \"stats\"))\n",
    "    \n",
    "#ebben a részben letöltöti a linkjeit a játékosok statisztikai oldalához"
   ]
  },
  {
   "cell_type": "code",
   "execution_count": 3,
   "metadata": {},
   "outputs": [],
   "source": [
    "import requests\n",
    "from bs4 import BeautifulSoup\n",
    "import pandas as pd\n",
    "\n",
    "lista2=[]\n",
    "for newlink in newlinks:\n",
    "    d={}\n",
    "    response2 = requests.get(newlink)\n",
    "    document2 = response2.content\n",
    "    soup2 = BeautifulSoup(document2, 'html.parser')\n",
    "    \n",
    "    d['name'] = soup2.find('div', class_='name t-colour').text\n",
    "    \n",
    "    d['position'] = soup2.find_all('div', class_='info')[1].text\n",
    "    \n",
    "    d['appearances'] = soup2.find('span', class_='allStatContainer statappearances').text[1:].rstrip().strip()\n",
    "    \n",
    "    d['homegrown'] = '1' if soup2.find('div', class_='homeGrown') else '0'\n",
    "    \n",
    "    d['club']= soup2.find_all('div', class_='info')[0].text.strip()\n",
    "    \n",
    "    d['goals']= soup2.find('span', class_='allStatContainer statgoals').text[1:].rstrip().strip()\n",
    "    \n",
    "    d['assists']= soup2.find('span', class_='allStatContainer statgoal_assist').text[1:].rstrip().strip()\n",
    "    \n",
    "    d['tackles']= soup2.find('span', class_='allStatContainer stattotal_tackle').text[1:].rstrip().strip() if soup2.find('span', class_='allStatContainer stattotal_tackle') else \"0\"\n",
    "    \n",
    "    d['saves']= soup2.find('span', class_='allStatContainer statsaves').text[1:].rstrip().strip() if soup2.find('span', class_='allStatContainer statsaves') else \"0\"\n",
    "    \n",
    "    lista2.append(d)\n",
    "\n",
    "df=pd.DataFrame(lista2)\n",
    "\n",
    "#ebben a részben leszedi és optimalizálja minden játékoshoz tartozó statisztikákat és behelyezi egy dataframebe"
   ]
  },
  {
   "cell_type": "code",
   "execution_count": 5,
   "metadata": {},
   "outputs": [
    {
     "data": {
      "text/html": [
       "<div>\n",
       "<style scoped>\n",
       "    .dataframe tbody tr th:only-of-type {\n",
       "        vertical-align: middle;\n",
       "    }\n",
       "\n",
       "    .dataframe tbody tr th {\n",
       "        vertical-align: top;\n",
       "    }\n",
       "\n",
       "    .dataframe thead th {\n",
       "        text-align: right;\n",
       "    }\n",
       "</style>\n",
       "<table border=\"1\" class=\"dataframe\">\n",
       "  <thead>\n",
       "    <tr style=\"text-align: right;\">\n",
       "      <th></th>\n",
       "      <th>name</th>\n",
       "      <th>club</th>\n",
       "      <th>position</th>\n",
       "      <th>homegrown</th>\n",
       "      <th>appearances</th>\n",
       "      <th>goals</th>\n",
       "      <th>assists</th>\n",
       "      <th>tackles</th>\n",
       "      <th>saves</th>\n",
       "      <th>value</th>\n",
       "    </tr>\n",
       "  </thead>\n",
       "  <tbody>\n",
       "    <tr>\n",
       "      <th>0</th>\n",
       "      <td>Rolando Aarons</td>\n",
       "      <td>without club</td>\n",
       "      <td>Midfielder</td>\n",
       "      <td>1</td>\n",
       "      <td>18</td>\n",
       "      <td>2</td>\n",
       "      <td>1</td>\n",
       "      <td>20</td>\n",
       "      <td>0.0</td>\n",
       "      <td>500000</td>\n",
       "    </tr>\n",
       "    <tr>\n",
       "      <th>1</th>\n",
       "      <td>Abdul Rahman Baba</td>\n",
       "      <td>without club</td>\n",
       "      <td>Defender</td>\n",
       "      <td>0</td>\n",
       "      <td>15</td>\n",
       "      <td>0</td>\n",
       "      <td>1</td>\n",
       "      <td>47</td>\n",
       "      <td>0.0</td>\n",
       "      <td>5e+06</td>\n",
       "    </tr>\n",
       "    <tr>\n",
       "      <th>2</th>\n",
       "      <td>Tammy Abraham</td>\n",
       "      <td>Chelsea</td>\n",
       "      <td>Forward</td>\n",
       "      <td>1</td>\n",
       "      <td>48</td>\n",
       "      <td>16</td>\n",
       "      <td>4</td>\n",
       "      <td>13</td>\n",
       "      <td>0.0</td>\n",
       "      <td>3.2e+07</td>\n",
       "    </tr>\n",
       "    <tr>\n",
       "      <th>3</th>\n",
       "      <td>Adrián</td>\n",
       "      <td>Liverpool</td>\n",
       "      <td>Goalkeeper</td>\n",
       "      <td>0</td>\n",
       "      <td>135</td>\n",
       "      <td>0</td>\n",
       "      <td>0</td>\n",
       "      <td>0</td>\n",
       "      <td>452.0</td>\n",
       "      <td>5e+06</td>\n",
       "    </tr>\n",
       "    <tr>\n",
       "      <th>4</th>\n",
       "      <td>Adrien Silva</td>\n",
       "      <td>without club</td>\n",
       "      <td>Midfielder</td>\n",
       "      <td>0</td>\n",
       "      <td>14</td>\n",
       "      <td>0</td>\n",
       "      <td>1</td>\n",
       "      <td>24</td>\n",
       "      <td>0.0</td>\n",
       "      <td>1.3e+07</td>\n",
       "    </tr>\n",
       "  </tbody>\n",
       "</table>\n",
       "</div>"
      ],
      "text/plain": [
       "                name          club    position  homegrown  appearances  goals  \\\n",
       "0     Rolando Aarons  without club  Midfielder          1           18      2   \n",
       "1  Abdul Rahman Baba  without club    Defender          0           15      0   \n",
       "2      Tammy Abraham       Chelsea     Forward          1           48     16   \n",
       "3             Adrián     Liverpool  Goalkeeper          0          135      0   \n",
       "4       Adrien Silva  without club  Midfielder          0           14      0   \n",
       "\n",
       "   assists  tackles  saves    value  \n",
       "0        1       20    0.0   500000  \n",
       "1        1       47    0.0    5e+06  \n",
       "2        4       13    0.0  3.2e+07  \n",
       "3        0        0  452.0    5e+06  \n",
       "4        1       24    0.0  1.3e+07  "
      ]
     },
     "execution_count": 5,
     "metadata": {},
     "output_type": "execute_result"
    }
   ],
   "source": [
    "import numpy as np\n",
    "USER_AGENTS = [\n",
    "    # Chrome\n",
    "    'Mozilla/5.0 (Windows NT 6.2; Win64; x64) AppleWebKit/537.36 (KHTML, like Gecko) Chrome/32.0.1667.0 Safari/537.36',\n",
    "    # Firefox\n",
    "    'Mozilla/5.0 (Windows NT 6.1; Win64; x64; rv:25.0) Gecko/20100101 Firefox/25.0',\n",
    "    # Opera\n",
    "    'Opera/9.80 (Windows NT 6.0) Presto/2.12.388 Version/12.14',\n",
    "    # Safari\n",
    "    'Mozilla/5.0 (iPad; CPU OS 6_0 like Mac OS X) AppleWebKit/536.26 (KHTML, like Gecko) Version/6.0 Mobile/10A5355d Safari/8536.25',\n",
    "    # Internet Explorer, probably a good idea to leave this one out...\n",
    "    'Mozilla/5.0 (compatible; MSIE 10.6; Windows NT 6.1; Trident/5.0; InfoPath.2; SLCC1; .NET CLR 3.0.4506.2152; .NET CLR 3.5.30729; .NET CLR 2.0.50727) 3gpp-gba UNTRUSTED/1.0',\n",
    "]\n",
    "\n",
    "lista3=[]\n",
    "\n",
    "import random\n",
    "def get_header(agents):\n",
    "    return {'User-agent': random.choice(agents)}\n",
    "\n",
    "for item in lista2:\n",
    "   \n",
    "    d2={}\n",
    "\n",
    "    base_url = 'https://www.transfermarkt.de/schnellsuche/ergebnis/schnellsuche?query='    \n",
    "\n",
    "    end_url='&x=0&y=0'\n",
    "\n",
    "    name = item['name']\n",
    "    \n",
    "    url=base_url+\"+\".join(name.split(\" \"))+end_url\n",
    "\n",
    "    response = requests.get(url, headers=get_header(USER_AGENTS))\n",
    "    \n",
    "    document2 = response.content\n",
    "    \n",
    "    soup2 = BeautifulSoup(document2, 'html.parser')\n",
    "    \n",
    "    d2['value']= soup2.find('td', class_='rechts hauptlink').text if soup2.find('td', class_='rechts hauptlink') else np.nan\n",
    "    \n",
    "    lista3.append(d2)\n",
    "\n",
    "df2=pd.DataFrame(lista3)\n",
    "\n",
    "merged=df.join(df2)\n",
    "\n",
    "merged = merged.stack().str.replace(',','.').unstack()\n",
    "\n",
    "d3 = {' Mio. €': 1000000, ' Tsd. €': 1000}\n",
    "\n",
    "merged.loc[:, 'value'] = pd.to_numeric(merged['value'].str[:-7]) * merged['value'].str[-7:].replace(d3)\n",
    "\n",
    "cols=['name','club','position','homegrown','appearances','goals','assists','tackles','saves','value']\n",
    "\n",
    "merged.loc[merged['club'] == merged['position'], 'club'] = 'without club'\n",
    "\n",
    "merged=merged[cols].dropna()\n",
    "\n",
    "merged['homegrown']=merged['homegrown'].astype(np.int)\n",
    "merged['appearances']=merged['appearances'].astype(np.int)\n",
    "merged['goals']=merged['goals'].astype(np.int)\n",
    "merged['assists']=merged['assists'].astype(np.int)\n",
    "merged['tackles']=merged['tackles'].astype(np.int)\n",
    "merged['saves']=merged['saves'].astype(float)\n",
    "merged['value']=merged['value'].astype(np.int)\n",
    "merged['goals/app'] = merged['goals']/merged['appearances'] \n",
    "merged['assists/app'] = merged['assists']/merged['appearances'] \n",
    "merged['tackles/app'] = merged['tackles']/merged['appearances'] \n",
    "merged['saves/app'] = merged['saves']/merged['appearances'] \n",
    "merged.head()\n",
    "\n",
    "#ebben a részben letölti egy másik honlapról minden játékkoshoz tartozó piaci értéket(,amiket szintén optimalizálni kellett),\n",
    "#és hozzáadja a dataframehez, valamint kiszámolja a meccsenkénti statisztikákat és külön oszlopokba azokat is hozzáilleszti\n",
    "#továbbá az oszlopok típusait is optimalizálja"
   ]
  },
  {
   "cell_type": "code",
   "execution_count": 67,
   "metadata": {},
   "outputs": [
    {
     "data": {
      "image/png": "[encoded data removed]",
      "text/plain": [
       "<Figure size 432x288 with 1 Axes>"
      ]
     },
     "metadata": {
      "needs_background": "light"
     },
     "output_type": "display_data"
    }
   ],
   "source": [
    "%matplotlib inline\n",
    "import matplotlib.pyplot as plt\n",
    "import seaborn as sns\n",
    "sns.regplot(x='goals/app',y='value', data=merged);"
   ]
  },
  {
   "cell_type": "code",
   "execution_count": 74,
   "metadata": {},
   "outputs": [
    {
     "data": {
      "text/html": [
       "<div>\n",
       "<style scoped>\n",
       "    .dataframe tbody tr th:only-of-type {\n",
       "        vertical-align: middle;\n",
       "    }\n",
       "\n",
       "    .dataframe tbody tr th {\n",
       "        vertical-align: top;\n",
       "    }\n",
       "\n",
       "    .dataframe thead th {\n",
       "        text-align: right;\n",
       "    }\n",
       "</style>\n",
       "<table border=\"1\" class=\"dataframe\">\n",
       "  <thead>\n",
       "    <tr style=\"text-align: right;\">\n",
       "      <th></th>\n",
       "      <th>homegrown</th>\n",
       "      <th>goals/app</th>\n",
       "      <th>assists/app</th>\n",
       "      <th>tackles/app</th>\n",
       "      <th>saves/app</th>\n",
       "      <th>value</th>\n",
       "    </tr>\n",
       "  </thead>\n",
       "  <tbody>\n",
       "    <tr>\n",
       "      <th>homegrown</th>\n",
       "      <td>1.000000</td>\n",
       "      <td>0.043567</td>\n",
       "      <td>0.048000</td>\n",
       "      <td>0.015446</td>\n",
       "      <td>0.011229</td>\n",
       "      <td>-0.005496</td>\n",
       "    </tr>\n",
       "    <tr>\n",
       "      <th>goals/app</th>\n",
       "      <td>0.043567</td>\n",
       "      <td>1.000000</td>\n",
       "      <td>0.392599</td>\n",
       "      <td>-0.088473</td>\n",
       "      <td>-0.214405</td>\n",
       "      <td>0.484329</td>\n",
       "    </tr>\n",
       "    <tr>\n",
       "      <th>assists/app</th>\n",
       "      <td>0.048000</td>\n",
       "      <td>0.392599</td>\n",
       "      <td>1.000000</td>\n",
       "      <td>0.092556</td>\n",
       "      <td>-0.210286</td>\n",
       "      <td>0.361825</td>\n",
       "    </tr>\n",
       "    <tr>\n",
       "      <th>tackles/app</th>\n",
       "      <td>0.015446</td>\n",
       "      <td>-0.088473</td>\n",
       "      <td>0.092556</td>\n",
       "      <td>1.000000</td>\n",
       "      <td>-0.425632</td>\n",
       "      <td>0.068075</td>\n",
       "    </tr>\n",
       "    <tr>\n",
       "      <th>saves/app</th>\n",
       "      <td>0.011229</td>\n",
       "      <td>-0.214405</td>\n",
       "      <td>-0.210286</td>\n",
       "      <td>-0.425632</td>\n",
       "      <td>1.000000</td>\n",
       "      <td>-0.085147</td>\n",
       "    </tr>\n",
       "    <tr>\n",
       "      <th>value</th>\n",
       "      <td>-0.005496</td>\n",
       "      <td>0.484329</td>\n",
       "      <td>0.361825</td>\n",
       "      <td>0.068075</td>\n",
       "      <td>-0.085147</td>\n",
       "      <td>1.000000</td>\n",
       "    </tr>\n",
       "  </tbody>\n",
       "</table>\n",
       "</div>"
      ],
      "text/plain": [
       "             homegrown  goals/app  assists/app  tackles/app  saves/app  \\\n",
       "homegrown     1.000000   0.043567     0.048000     0.015446   0.011229   \n",
       "goals/app     0.043567   1.000000     0.392599    -0.088473  -0.214405   \n",
       "assists/app   0.048000   0.392599     1.000000     0.092556  -0.210286   \n",
       "tackles/app   0.015446  -0.088473     0.092556     1.000000  -0.425632   \n",
       "saves/app     0.011229  -0.214405    -0.210286    -0.425632   1.000000   \n",
       "value        -0.005496   0.484329     0.361825     0.068075  -0.085147   \n",
       "\n",
       "                value  \n",
       "homegrown   -0.005496  \n",
       "goals/app    0.484329  \n",
       "assists/app  0.361825  \n",
       "tackles/app  0.068075  \n",
       "saves/app   -0.085147  \n",
       "value        1.000000  "
      ]
     },
     "execution_count": 74,
     "metadata": {},
     "output_type": "execute_result"
    }
   ],
   "source": [
    "submerge=merged[['homegrown','goals/app','assists/app','tackles/app','saves/app','value']]\n",
    "corr=submerge.corr()\n",
    "corr"
   ]
  },
  {
   "cell_type": "code",
   "execution_count": 75,
   "metadata": {},
   "outputs": [
    {
     "data": {
      "image/png": "[encoded data removed]",
      "text/plain": [
       "<Figure size 432x288 with 2 Axes>"
      ]
     },
     "metadata": {
      "needs_background": "light"
     },
     "output_type": "display_data"
    }
   ],
   "source": [
    "sns.heatmap(corr, \n",
    "        xticklabels=corr.columns,\n",
    "        yticklabels=corr.columns);"
   ]
  },
  {
   "cell_type": "code",
   "execution_count": 76,
   "metadata": {},
   "outputs": [
    {
     "data": {
      "image/png": "[encoded data removed]",
      "text/plain": [
       "<Figure size 1080x1080 with 42 Axes>"
      ]
     },
     "metadata": {
      "needs_background": "light"
     },
     "output_type": "display_data"
    }
   ],
   "source": [
    "sns.pairplot(submerge)\n",
    "plt.show()"
   ]
  },
  {
   "cell_type": "code",
   "execution_count": 208,
   "metadata": {},
   "outputs": [
    {
     "data": {
      "image/png": "[encoded data removed]",
      "text/plain": [
       "<Figure size 432x288 with 1 Axes>"
      ]
     },
     "metadata": {
      "needs_background": "light"
     },
     "output_type": "display_data"
    }
   ],
   "source": [
    "subdf1= (\n",
    "    merged.loc[merged['position'] == 'Goalkeeper'] \n",
    "    [['name', 'saves/app','value']]\n",
    "    .sort_values('value', ascending=False)\n",
    ")  \n",
    "sns.regplot(x='saves/app',y='value', data=subdf1,scatter_kws={'alpha':0.25}, color='pink');\n",
    "# a kapusok piaci értéke és meccsenkénti védésszámuk között negatív a kapcsolat"
   ]
  },
  {
   "cell_type": "code",
   "execution_count": 96,
   "metadata": {},
   "outputs": [
    {
     "data": {
      "text/html": [
       "<div>\n",
       "<style scoped>\n",
       "    .dataframe tbody tr th:only-of-type {\n",
       "        vertical-align: middle;\n",
       "    }\n",
       "\n",
       "    .dataframe tbody tr th {\n",
       "        vertical-align: top;\n",
       "    }\n",
       "\n",
       "    .dataframe thead th {\n",
       "        text-align: right;\n",
       "    }\n",
       "</style>\n",
       "<table border=\"1\" class=\"dataframe\">\n",
       "  <thead>\n",
       "    <tr style=\"text-align: right;\">\n",
       "      <th></th>\n",
       "      <th>saves/app</th>\n",
       "      <th>value</th>\n",
       "    </tr>\n",
       "  </thead>\n",
       "  <tbody>\n",
       "    <tr>\n",
       "      <th>saves/app</th>\n",
       "      <td>1.00000</td>\n",
       "      <td>-0.12871</td>\n",
       "    </tr>\n",
       "    <tr>\n",
       "      <th>value</th>\n",
       "      <td>-0.12871</td>\n",
       "      <td>1.00000</td>\n",
       "    </tr>\n",
       "  </tbody>\n",
       "</table>\n",
       "</div>"
      ],
      "text/plain": [
       "           saves/app    value\n",
       "saves/app    1.00000 -0.12871\n",
       "value       -0.12871  1.00000"
      ]
     },
     "execution_count": 96,
     "metadata": {},
     "output_type": "execute_result"
    }
   ],
   "source": [
    "subdf1.corr()"
   ]
  },
  {
   "cell_type": "code",
   "execution_count": 82,
   "metadata": {},
   "outputs": [
    {
     "data": {
      "image/png": "[encoded data removed]",
      "text/plain": [
       "<Figure size 432x288 with 1 Axes>"
      ]
     },
     "metadata": {
      "needs_background": "light"
     },
     "output_type": "display_data"
    }
   ],
   "source": [
    "subdf1=subdf1.dropna()\n",
    "sns.distplot(subdf1['saves/app']);"
   ]
  },
  {
   "cell_type": "code",
   "execution_count": 207,
   "metadata": {},
   "outputs": [
    {
     "data": {
      "image/png": "[encoded data removed]",
      "text/plain": [
       "<Figure size 432x288 with 1 Axes>"
      ]
     },
     "metadata": {
      "needs_background": "light"
     },
     "output_type": "display_data"
    }
   ],
   "source": [
    "subdf2=(\n",
    "    merged.loc[merged['position'] == 'Defender'] \n",
    "    [['name', 'tackles/app','value']]\n",
    "    .sort_values('value', ascending=False)\n",
    ")  \n",
    "sns.regplot(x='tackles/app',y='value', data=subdf2,scatter_kws={'alpha':0.25},color='green');\n",
    "# a védők piaci értéke és meccsenkénti szerelésszámuk között gyenge pozitív kapcsolat van"
   ]
  },
  {
   "cell_type": "code",
   "execution_count": 100,
   "metadata": {},
   "outputs": [
    {
     "data": {
      "image/png": "[encoded data removed]",
      "text/plain": [
       "<Figure size 432x288 with 1 Axes>"
      ]
     },
     "metadata": {
      "needs_background": "light"
     },
     "output_type": "display_data"
    }
   ],
   "source": [
    "subdf2=subdf2.dropna()\n",
    "sns.distplot(subdf2['tackles/app']);"
   ]
  },
  {
   "cell_type": "code",
   "execution_count": 101,
   "metadata": {},
   "outputs": [
    {
     "data": {
      "text/html": [
       "<div>\n",
       "<style scoped>\n",
       "    .dataframe tbody tr th:only-of-type {\n",
       "        vertical-align: middle;\n",
       "    }\n",
       "\n",
       "    .dataframe tbody tr th {\n",
       "        vertical-align: top;\n",
       "    }\n",
       "\n",
       "    .dataframe thead th {\n",
       "        text-align: right;\n",
       "    }\n",
       "</style>\n",
       "<table border=\"1\" class=\"dataframe\">\n",
       "  <thead>\n",
       "    <tr style=\"text-align: right;\">\n",
       "      <th></th>\n",
       "      <th>tackles/app</th>\n",
       "      <th>value</th>\n",
       "    </tr>\n",
       "  </thead>\n",
       "  <tbody>\n",
       "    <tr>\n",
       "      <th>tackles/app</th>\n",
       "      <td>1.000000</td>\n",
       "      <td>0.091016</td>\n",
       "    </tr>\n",
       "    <tr>\n",
       "      <th>value</th>\n",
       "      <td>0.091016</td>\n",
       "      <td>1.000000</td>\n",
       "    </tr>\n",
       "  </tbody>\n",
       "</table>\n",
       "</div>"
      ],
      "text/plain": [
       "             tackles/app     value\n",
       "tackles/app     1.000000  0.091016\n",
       "value           0.091016  1.000000"
      ]
     },
     "execution_count": 101,
     "metadata": {},
     "output_type": "execute_result"
    }
   ],
   "source": [
    "subdf2.corr()"
   ]
  },
  {
   "cell_type": "code",
   "execution_count": 209,
   "metadata": {},
   "outputs": [
    {
     "data": {
      "image/png": "[encoded data removed]",
      "text/plain": [
       "<Figure size 432x288 with 1 Axes>"
      ]
     },
     "metadata": {
      "needs_background": "light"
     },
     "output_type": "display_data"
    }
   ],
   "source": [
    "subdf3=(\n",
    "    merged.loc[merged['position'] == 'Midfielder'] \n",
    "    [['name', 'assists/app','value']]\n",
    "    .sort_values('value', ascending=False)\n",
    ")  \n",
    "sns.regplot(x='assists/app',y='value', data=subdf3,scatter_kws={'alpha':0.25}, color='grey');\n",
    "# a középpályások piaci értéke és meccsenkénti asszisztszámuk között erősebb pozitív kapcsolat van"
   ]
  },
  {
   "cell_type": "code",
   "execution_count": 104,
   "metadata": {},
   "outputs": [
    {
     "data": {
      "image/png": "[encoded data removed]",
      "text/plain": [
       "<Figure size 432x288 with 1 Axes>"
      ]
     },
     "metadata": {
      "needs_background": "light"
     },
     "output_type": "display_data"
    }
   ],
   "source": [
    "subdf3=subdf3.dropna()\n",
    "sns.distplot(subdf3['assists/app']);"
   ]
  },
  {
   "cell_type": "code",
   "execution_count": 105,
   "metadata": {},
   "outputs": [
    {
     "data": {
      "text/html": [
       "<div>\n",
       "<style scoped>\n",
       "    .dataframe tbody tr th:only-of-type {\n",
       "        vertical-align: middle;\n",
       "    }\n",
       "\n",
       "    .dataframe tbody tr th {\n",
       "        vertical-align: top;\n",
       "    }\n",
       "\n",
       "    .dataframe thead th {\n",
       "        text-align: right;\n",
       "    }\n",
       "</style>\n",
       "<table border=\"1\" class=\"dataframe\">\n",
       "  <thead>\n",
       "    <tr style=\"text-align: right;\">\n",
       "      <th></th>\n",
       "      <th>assists/app</th>\n",
       "      <th>value</th>\n",
       "    </tr>\n",
       "  </thead>\n",
       "  <tbody>\n",
       "    <tr>\n",
       "      <th>assists/app</th>\n",
       "      <td>1.000000</td>\n",
       "      <td>0.295795</td>\n",
       "    </tr>\n",
       "    <tr>\n",
       "      <th>value</th>\n",
       "      <td>0.295795</td>\n",
       "      <td>1.000000</td>\n",
       "    </tr>\n",
       "  </tbody>\n",
       "</table>\n",
       "</div>"
      ],
      "text/plain": [
       "             assists/app     value\n",
       "assists/app     1.000000  0.295795\n",
       "value           0.295795  1.000000"
      ]
     },
     "execution_count": 105,
     "metadata": {},
     "output_type": "execute_result"
    }
   ],
   "source": [
    "subdf3.corr()"
   ]
  },
  {
   "cell_type": "code",
   "execution_count": 210,
   "metadata": {},
   "outputs": [
    {
     "data": {
      "image/png": "[encoded data removed]",
      "text/plain": [
       "<Figure size 432x288 with 1 Axes>"
      ]
     },
     "metadata": {
      "needs_background": "light"
     },
     "output_type": "display_data"
    }
   ],
   "source": [
    "subdf4=(\n",
    "    merged.loc[merged['position'] == 'Forward'] \n",
    "    [['name', 'goals/app','value']]\n",
    "    .sort_values('value', ascending=False)\n",
    ")  \n",
    "sns.regplot(x='goals/app',y='value', data=subdf4,scatter_kws={'alpha':0.25});\n",
    "# a csatárok piaci értéke és meccsenkénti gólszámuk között erős pozitív kapcsolat van"
   ]
  },
  {
   "cell_type": "code",
   "execution_count": 107,
   "metadata": {},
   "outputs": [
    {
     "data": {
      "image/png": "[encoded data removed]",
      "text/plain": [
       "<Figure size 432x288 with 1 Axes>"
      ]
     },
     "metadata": {
      "needs_background": "light"
     },
     "output_type": "display_data"
    }
   ],
   "source": [
    "subdf4=subdf4.dropna()\n",
    "sns.distplot(subdf4['goals/app']);"
   ]
  },
  {
   "cell_type": "code",
   "execution_count": 109,
   "metadata": {},
   "outputs": [
    {
     "data": {
      "text/html": [
       "<div>\n",
       "<style scoped>\n",
       "    .dataframe tbody tr th:only-of-type {\n",
       "        vertical-align: middle;\n",
       "    }\n",
       "\n",
       "    .dataframe tbody tr th {\n",
       "        vertical-align: top;\n",
       "    }\n",
       "\n",
       "    .dataframe thead th {\n",
       "        text-align: right;\n",
       "    }\n",
       "</style>\n",
       "<table border=\"1\" class=\"dataframe\">\n",
       "  <thead>\n",
       "    <tr style=\"text-align: right;\">\n",
       "      <th></th>\n",
       "      <th>goals/app</th>\n",
       "      <th>value</th>\n",
       "    </tr>\n",
       "  </thead>\n",
       "  <tbody>\n",
       "    <tr>\n",
       "      <th>goals/app</th>\n",
       "      <td>1.00000</td>\n",
       "      <td>0.63591</td>\n",
       "    </tr>\n",
       "    <tr>\n",
       "      <th>value</th>\n",
       "      <td>0.63591</td>\n",
       "      <td>1.00000</td>\n",
       "    </tr>\n",
       "  </tbody>\n",
       "</table>\n",
       "</div>"
      ],
      "text/plain": [
       "           goals/app    value\n",
       "goals/app    1.00000  0.63591\n",
       "value        0.63591  1.00000"
      ]
     },
     "execution_count": 109,
     "metadata": {},
     "output_type": "execute_result"
    }
   ],
   "source": [
    "subdf4.corr()"
   ]
  },
  {
   "cell_type": "code",
   "execution_count": 131,
   "metadata": {},
   "outputs": [
    {
     "data": {
      "text/html": [
       "<div>\n",
       "<style scoped>\n",
       "    .dataframe tbody tr th:only-of-type {\n",
       "        vertical-align: middle;\n",
       "    }\n",
       "\n",
       "    .dataframe tbody tr th {\n",
       "        vertical-align: top;\n",
       "    }\n",
       "\n",
       "    .dataframe thead th {\n",
       "        text-align: right;\n",
       "    }\n",
       "</style>\n",
       "<table border=\"1\" class=\"dataframe\">\n",
       "  <thead>\n",
       "    <tr style=\"text-align: right;\">\n",
       "      <th></th>\n",
       "      <th>homegrown</th>\n",
       "      <th>goals/app</th>\n",
       "      <th>assists/app</th>\n",
       "      <th>tackles/app</th>\n",
       "      <th>saves/app</th>\n",
       "      <th>value</th>\n",
       "    </tr>\n",
       "    <tr>\n",
       "      <th>club</th>\n",
       "      <th></th>\n",
       "      <th></th>\n",
       "      <th></th>\n",
       "      <th></th>\n",
       "      <th></th>\n",
       "      <th></th>\n",
       "    </tr>\n",
       "  </thead>\n",
       "  <tbody>\n",
       "    <tr>\n",
       "      <th>Liverpool</th>\n",
       "      <td>5</td>\n",
       "      <td>2.819543</td>\n",
       "      <td>2.163734</td>\n",
       "      <td>25.619075</td>\n",
       "      <td>5.348148</td>\n",
       "      <td>1047800000</td>\n",
       "    </tr>\n",
       "    <tr>\n",
       "      <th>Manchester City</th>\n",
       "      <td>2</td>\n",
       "      <td>2.701759</td>\n",
       "      <td>2.164709</td>\n",
       "      <td>20.014497</td>\n",
       "      <td>3.219101</td>\n",
       "      <td>959500000</td>\n",
       "    </tr>\n",
       "    <tr>\n",
       "      <th>Tottenham Hotspur</th>\n",
       "      <td>4</td>\n",
       "      <td>2.449360</td>\n",
       "      <td>2.070676</td>\n",
       "      <td>26.770983</td>\n",
       "      <td>8.831892</td>\n",
       "      <td>790800000</td>\n",
       "    </tr>\n",
       "    <tr>\n",
       "      <th>Chelsea</th>\n",
       "      <td>5</td>\n",
       "      <td>2.392030</td>\n",
       "      <td>1.536998</td>\n",
       "      <td>25.201004</td>\n",
       "      <td>4.387363</td>\n",
       "      <td>787500000</td>\n",
       "    </tr>\n",
       "    <tr>\n",
       "      <th>Manchester United</th>\n",
       "      <td>7</td>\n",
       "      <td>1.744474</td>\n",
       "      <td>1.558285</td>\n",
       "      <td>28.696263</td>\n",
       "      <td>5.671576</td>\n",
       "      <td>729600000</td>\n",
       "    </tr>\n",
       "    <tr>\n",
       "      <th>Arsenal</th>\n",
       "      <td>6</td>\n",
       "      <td>1.739359</td>\n",
       "      <td>1.412606</td>\n",
       "      <td>24.639573</td>\n",
       "      <td>5.138298</td>\n",
       "      <td>541750000</td>\n",
       "    </tr>\n",
       "    <tr>\n",
       "      <th>Everton</th>\n",
       "      <td>10</td>\n",
       "      <td>1.984530</td>\n",
       "      <td>1.506913</td>\n",
       "      <td>28.128746</td>\n",
       "      <td>8.767525</td>\n",
       "      <td>507500000</td>\n",
       "    </tr>\n",
       "    <tr>\n",
       "      <th>Leicester City</th>\n",
       "      <td>10</td>\n",
       "      <td>1.830684</td>\n",
       "      <td>1.542043</td>\n",
       "      <td>28.926450</td>\n",
       "      <td>6.222734</td>\n",
       "      <td>359250000</td>\n",
       "    </tr>\n",
       "    <tr>\n",
       "      <th>AFC Bournemouth</th>\n",
       "      <td>18</td>\n",
       "      <td>2.191081</td>\n",
       "      <td>1.395091</td>\n",
       "      <td>26.139218</td>\n",
       "      <td>10.742188</td>\n",
       "      <td>303300000</td>\n",
       "    </tr>\n",
       "    <tr>\n",
       "      <th>West Ham United</th>\n",
       "      <td>5</td>\n",
       "      <td>1.444973</td>\n",
       "      <td>1.055844</td>\n",
       "      <td>30.609642</td>\n",
       "      <td>3.336283</td>\n",
       "      <td>269500000</td>\n",
       "    </tr>\n",
       "    <tr>\n",
       "      <th>Wolverhampton Wanderers</th>\n",
       "      <td>3</td>\n",
       "      <td>1.168523</td>\n",
       "      <td>0.756616</td>\n",
       "      <td>19.178070</td>\n",
       "      <td>5.884292</td>\n",
       "      <td>266250000</td>\n",
       "    </tr>\n",
       "    <tr>\n",
       "      <th>Brighton and Hove Albion</th>\n",
       "      <td>8</td>\n",
       "      <td>1.094388</td>\n",
       "      <td>0.735115</td>\n",
       "      <td>27.511943</td>\n",
       "      <td>3.500000</td>\n",
       "      <td>250500000</td>\n",
       "    </tr>\n",
       "    <tr>\n",
       "      <th>Crystal Palace</th>\n",
       "      <td>10</td>\n",
       "      <td>1.902729</td>\n",
       "      <td>1.050033</td>\n",
       "      <td>28.289384</td>\n",
       "      <td>6.381699</td>\n",
       "      <td>226000000</td>\n",
       "    </tr>\n",
       "    <tr>\n",
       "      <th>Newcastle United</th>\n",
       "      <td>9</td>\n",
       "      <td>1.036831</td>\n",
       "      <td>0.974651</td>\n",
       "      <td>24.636737</td>\n",
       "      <td>8.518016</td>\n",
       "      <td>184500000</td>\n",
       "    </tr>\n",
       "    <tr>\n",
       "      <th>Southampton</th>\n",
       "      <td>6</td>\n",
       "      <td>0.940403</td>\n",
       "      <td>0.667382</td>\n",
       "      <td>20.997470</td>\n",
       "      <td>2.863636</td>\n",
       "      <td>179200000</td>\n",
       "    </tr>\n",
       "    <tr>\n",
       "      <th>Burnley</th>\n",
       "      <td>17</td>\n",
       "      <td>1.298891</td>\n",
       "      <td>1.179211</td>\n",
       "      <td>22.726848</td>\n",
       "      <td>5.944118</td>\n",
       "      <td>165250000</td>\n",
       "    </tr>\n",
       "    <tr>\n",
       "      <th>Watford</th>\n",
       "      <td>7</td>\n",
       "      <td>1.446743</td>\n",
       "      <td>1.062449</td>\n",
       "      <td>26.561862</td>\n",
       "      <td>3.187861</td>\n",
       "      <td>159150000</td>\n",
       "    </tr>\n",
       "    <tr>\n",
       "      <th>Aston Villa</th>\n",
       "      <td>4</td>\n",
       "      <td>0.223558</td>\n",
       "      <td>0.146635</td>\n",
       "      <td>3.060096</td>\n",
       "      <td>3.545455</td>\n",
       "      <td>47000000</td>\n",
       "    </tr>\n",
       "    <tr>\n",
       "      <th>Sheffield United</th>\n",
       "      <td>1</td>\n",
       "      <td>0.163736</td>\n",
       "      <td>0.067582</td>\n",
       "      <td>7.010285</td>\n",
       "      <td>0.000000</td>\n",
       "      <td>17000000</td>\n",
       "    </tr>\n",
       "    <tr>\n",
       "      <th>West Bromwich Albion</th>\n",
       "      <td>1</td>\n",
       "      <td>0.203883</td>\n",
       "      <td>0.038835</td>\n",
       "      <td>0.485437</td>\n",
       "      <td>0.000000</td>\n",
       "      <td>15000000</td>\n",
       "    </tr>\n",
       "    <tr>\n",
       "      <th>Norwich City</th>\n",
       "      <td>2</td>\n",
       "      <td>0.000000</td>\n",
       "      <td>0.041176</td>\n",
       "      <td>1.843137</td>\n",
       "      <td>2.982353</td>\n",
       "      <td>12500000</td>\n",
       "    </tr>\n",
       "    <tr>\n",
       "      <th>Liverpool U19</th>\n",
       "      <td>0</td>\n",
       "      <td>0.000000</td>\n",
       "      <td>0.000000</td>\n",
       "      <td>0.000000</td>\n",
       "      <td>0.000000</td>\n",
       "      <td>4000000</td>\n",
       "    </tr>\n",
       "    <tr>\n",
       "      <th>Luton Town</th>\n",
       "      <td>0</td>\n",
       "      <td>0.000000</td>\n",
       "      <td>0.000000</td>\n",
       "      <td>0.200000</td>\n",
       "      <td>0.000000</td>\n",
       "      <td>3000000</td>\n",
       "    </tr>\n",
       "  </tbody>\n",
       "</table>\n",
       "</div>"
      ],
      "text/plain": [
       "                          homegrown  goals/app  assists/app  tackles/app  \\\n",
       "club                                                                       \n",
       "Liverpool                         5   2.819543     2.163734    25.619075   \n",
       "Manchester City                   2   2.701759     2.164709    20.014497   \n",
       "Tottenham Hotspur                 4   2.449360     2.070676    26.770983   \n",
       "Chelsea                           5   2.392030     1.536998    25.201004   \n",
       "Manchester United                 7   1.744474     1.558285    28.696263   \n",
       "Arsenal                           6   1.739359     1.412606    24.639573   \n",
       "Everton                          10   1.984530     1.506913    28.128746   \n",
       "Leicester City                   10   1.830684     1.542043    28.926450   \n",
       "AFC Bournemouth                  18   2.191081     1.395091    26.139218   \n",
       "West Ham United                   5   1.444973     1.055844    30.609642   \n",
       "Wolverhampton Wanderers           3   1.168523     0.756616    19.178070   \n",
       "Brighton and Hove Albion          8   1.094388     0.735115    27.511943   \n",
       "Crystal Palace                   10   1.902729     1.050033    28.289384   \n",
       "Newcastle United                  9   1.036831     0.974651    24.636737   \n",
       "Southampton                       6   0.940403     0.667382    20.997470   \n",
       "Burnley                          17   1.298891     1.179211    22.726848   \n",
       "Watford                           7   1.446743     1.062449    26.561862   \n",
       "Aston Villa                       4   0.223558     0.146635     3.060096   \n",
       "Sheffield United                  1   0.163736     0.067582     7.010285   \n",
       "West Bromwich Albion              1   0.203883     0.038835     0.485437   \n",
       "Norwich City                      2   0.000000     0.041176     1.843137   \n",
       "Liverpool U19                     0   0.000000     0.000000     0.000000   \n",
       "Luton Town                        0   0.000000     0.000000     0.200000   \n",
       "\n",
       "                          saves/app       value  \n",
       "club                                             \n",
       "Liverpool                  5.348148  1047800000  \n",
       "Manchester City            3.219101   959500000  \n",
       "Tottenham Hotspur          8.831892   790800000  \n",
       "Chelsea                    4.387363   787500000  \n",
       "Manchester United          5.671576   729600000  \n",
       "Arsenal                    5.138298   541750000  \n",
       "Everton                    8.767525   507500000  \n",
       "Leicester City             6.222734   359250000  \n",
       "AFC Bournemouth           10.742188   303300000  \n",
       "West Ham United            3.336283   269500000  \n",
       "Wolverhampton Wanderers    5.884292   266250000  \n",
       "Brighton and Hove Albion   3.500000   250500000  \n",
       "Crystal Palace             6.381699   226000000  \n",
       "Newcastle United           8.518016   184500000  \n",
       "Southampton                2.863636   179200000  \n",
       "Burnley                    5.944118   165250000  \n",
       "Watford                    3.187861   159150000  \n",
       "Aston Villa                3.545455    47000000  \n",
       "Sheffield United           0.000000    17000000  \n",
       "West Bromwich Albion       0.000000    15000000  \n",
       "Norwich City               2.982353    12500000  \n",
       "Liverpool U19              0.000000     4000000  \n",
       "Luton Town                 0.000000     3000000  "
      ]
     },
     "execution_count": 131,
     "metadata": {},
     "output_type": "execute_result"
    }
   ],
   "source": [
    "clubs = (\n",
    "    merged.loc[~(merged['club'] == 'without club')] \n",
    "    [['club','homegrown','goals/app','assists/app','tackles/app','saves/app','value']]\n",
    "    .groupby('club')\n",
    "    .sum()\n",
    "    .sort_values('value', ascending=False)\n",
    ")\n",
    "clubs.head()\n",
    "#csapatonkénti statisztikák"
   ]
  },
  {
   "cell_type": "code",
   "execution_count": 132,
   "metadata": {},
   "outputs": [
    {
     "data": {
      "text/html": [
       "<div>\n",
       "<style scoped>\n",
       "    .dataframe tbody tr th:only-of-type {\n",
       "        vertical-align: middle;\n",
       "    }\n",
       "\n",
       "    .dataframe tbody tr th {\n",
       "        vertical-align: top;\n",
       "    }\n",
       "\n",
       "    .dataframe thead th {\n",
       "        text-align: right;\n",
       "    }\n",
       "</style>\n",
       "<table border=\"1\" class=\"dataframe\">\n",
       "  <thead>\n",
       "    <tr style=\"text-align: right;\">\n",
       "      <th></th>\n",
       "      <th>homegrown</th>\n",
       "      <th>goals/app</th>\n",
       "      <th>assists/app</th>\n",
       "      <th>tackles/app</th>\n",
       "      <th>saves/app</th>\n",
       "      <th>value</th>\n",
       "    </tr>\n",
       "  </thead>\n",
       "  <tbody>\n",
       "    <tr>\n",
       "      <th>homegrown</th>\n",
       "      <td>1.000000</td>\n",
       "      <td>0.431699</td>\n",
       "      <td>0.406714</td>\n",
       "      <td>0.629508</td>\n",
       "      <td>0.736042</td>\n",
       "      <td>0.071527</td>\n",
       "    </tr>\n",
       "    <tr>\n",
       "      <th>goals/app</th>\n",
       "      <td>0.431699</td>\n",
       "      <td>1.000000</td>\n",
       "      <td>0.973885</td>\n",
       "      <td>0.815489</td>\n",
       "      <td>0.662223</td>\n",
       "      <td>0.881622</td>\n",
       "    </tr>\n",
       "    <tr>\n",
       "      <th>assists/app</th>\n",
       "      <td>0.406714</td>\n",
       "      <td>0.973885</td>\n",
       "      <td>1.000000</td>\n",
       "      <td>0.800854</td>\n",
       "      <td>0.661276</td>\n",
       "      <td>0.904716</td>\n",
       "    </tr>\n",
       "    <tr>\n",
       "      <th>tackles/app</th>\n",
       "      <td>0.629508</td>\n",
       "      <td>0.815489</td>\n",
       "      <td>0.800854</td>\n",
       "      <td>1.000000</td>\n",
       "      <td>0.707168</td>\n",
       "      <td>0.578491</td>\n",
       "    </tr>\n",
       "    <tr>\n",
       "      <th>saves/app</th>\n",
       "      <td>0.736042</td>\n",
       "      <td>0.662223</td>\n",
       "      <td>0.661276</td>\n",
       "      <td>0.707168</td>\n",
       "      <td>1.000000</td>\n",
       "      <td>0.424083</td>\n",
       "    </tr>\n",
       "    <tr>\n",
       "      <th>value</th>\n",
       "      <td>0.071527</td>\n",
       "      <td>0.881622</td>\n",
       "      <td>0.904716</td>\n",
       "      <td>0.578491</td>\n",
       "      <td>0.424083</td>\n",
       "      <td>1.000000</td>\n",
       "    </tr>\n",
       "  </tbody>\n",
       "</table>\n",
       "</div>"
      ],
      "text/plain": [
       "             homegrown  goals/app  assists/app  tackles/app  saves/app  \\\n",
       "homegrown     1.000000   0.431699     0.406714     0.629508   0.736042   \n",
       "goals/app     0.431699   1.000000     0.973885     0.815489   0.662223   \n",
       "assists/app   0.406714   0.973885     1.000000     0.800854   0.661276   \n",
       "tackles/app   0.629508   0.815489     0.800854     1.000000   0.707168   \n",
       "saves/app     0.736042   0.662223     0.661276     0.707168   1.000000   \n",
       "value         0.071527   0.881622     0.904716     0.578491   0.424083   \n",
       "\n",
       "                value  \n",
       "homegrown    0.071527  \n",
       "goals/app    0.881622  \n",
       "assists/app  0.904716  \n",
       "tackles/app  0.578491  \n",
       "saves/app    0.424083  \n",
       "value        1.000000  "
      ]
     },
     "execution_count": 132,
     "metadata": {},
     "output_type": "execute_result"
    }
   ],
   "source": [
    "ccorr=clubs.corr()\n",
    "ccorr"
   ]
  },
  {
   "cell_type": "code",
   "execution_count": 133,
   "metadata": {},
   "outputs": [
    {
     "data": {
      "image/png": "[encoded data removed]",
      "text/plain": [
       "<Figure size 432x288 with 2 Axes>"
      ]
     },
     "metadata": {
      "needs_background": "light"
     },
     "output_type": "display_data"
    }
   ],
   "source": [
    "sns.heatmap(ccorr, \n",
    "        xticklabels=corr.columns,\n",
    "        yticklabels=corr.columns);"
   ]
  },
  {
   "cell_type": "code",
   "execution_count": 139,
   "metadata": {},
   "outputs": [],
   "source": [
    "clubs = clubs.reset_index()"
   ]
  },
  {
   "cell_type": "code",
   "execution_count": 204,
   "metadata": {},
   "outputs": [
    {
     "data": {
      "image/png": "[encoded data removed]",
      "text/plain": [
       "<Figure size 432x288 with 1 Axes>"
      ]
     },
     "metadata": {
      "needs_background": "light"
     },
     "output_type": "display_data"
    }
   ],
   "source": [
    "teamColours = ['#034694','#001C58','#5CBFEB','#D00027',\n",
    "              '#EF0107','#DA020E','#274488','#ED1A3B',\n",
    "               '#000000','#091453','#60223B','#0053A0',\n",
    "               '#E03A3E','#1B458F','#000000','#53162f',\n",
    "               '#FBEE23','#EF6610','#C92520','#BA1F1A',\n",
    "               '#148F77','#4A235A','#A6ACAF','#CACFD2']\n",
    "\n",
    "\n",
    "plt.hlines(y=np.arange(1,24),xmin=0,xmax=clubs['value'],color=teamColours)\n",
    "plt.plot(clubs['value'], np.arange(1,24), \"o\")\n",
    "plt.yticks(np.arange(1,24), clubs['club'])\n",
    "\n",
    "plt.ylabel(\"Club\")\n",
    "plt.xlabel(\"Value\")\n",
    "\n",
    "plt.title(\"Premier League club values\")\n",
    "\n",
    "plt.show()"
   ]
  },
  {
   "cell_type": "code",
   "execution_count": 205,
   "metadata": {
    "scrolled": false
   },
   "outputs": [
    {
     "data": {
      "application/vnd.plotly.v1+json": {
       "config": {
        "plotlyServerURL": "https://plot.ly"
       },
       "data": [
        {
         "hoverlabel": {
          "namelength": 0
         },
         "hovertemplate": "club=without club<br>goals/app=%{x}<br>value=%{y}<br>name=%{text}",
         "legendgroup": "club=without club",
         "marker": {
          "color": "#636efa",
          "symbol": "circle"
         },
         "mode": "markers+text",
         "name": "club=without club",
         "showlegend": true,
         "text": [
          "Rolando Aarons",
          "Abdul Rahman Baba",
          "Adrien Silva",
          "Benik Afobe",
          "Daniel Agyei",
          "Soufyan Ahannach",
          "Chuba Akpom",
          "Alberto Moreno",
          "Aleix García",
          "Alexis Mac Allister",
          "Paulo Alves",
          "Luke Amos",
          "Ethan Ampadu",
          "Nordin Amrabat",
          "Tom Anderson",
          "Florin Andone",
          "Antonio Valencia",
          "Billy Arce",
          "Adam Armstrong",
          "Marko Arnautovic",
          "Harry Arter",
          "Daniel Arzani",
          "Charlie Austin",
          "Taiwo Awoniyi",
          "Floyd Ayité",
          "Ryan Babel",
          "Tiemoué Bakayoko",
          "Lewis Baker",
          "Sam Baldock",
          "Antonio Barreca",
          "Danny Batth",
          "Asmir Begovic",
          "Yohan Benalouane",
          "Joe Bennett",
          "Marcus Bettinelli",
          "Daley Blind",
          "Jeremie Boga",
          "Adam Bogdan",
          "Yohan Cabaye",
          "Gary Cahill",
          "Tom Cairney",
          "Lee Camp",
          "Joel Campbell",
          "Emre Can",
          "Baily Cargill",
          "Guido Carrillo",
          "Cameron Carter-Vickers",
          "Ivan Cavaleiro",
          "Trevoh Chalobah",
          "Chicharito",
          "Omar Bogle",
          "Joshua Bohui",
          "Yannick Bolasie",
          "Luke Bolton",
          "Brian Murphy",
          "Marcus Browne",
          "Tyias Browning",
          "Bruno",
          "Joe Bryan",
          "Craig Bryson",
          "Marcin Bulka",
          "Harry Burgoyne",
          "Reece Burke",
          "Cyrus Christie",
          "Ibrahima Cissé",
          "Jordy Clasie",
          "Jack Colback",
          "Will Collar",
          "Bradley Collins",
          "Thibaut Courtois",
          "Cristián Cuevas",
          "Josh Cullen",
          "Greg Cunningham",
          "Loïc Damour",
          "Danilo",
          "Matteo Darmian",
          "Steven Davis",
          "Bobby De Cordova-Reid",
          "Luca De La Torre",
          "Jermain Defoe",
          "Steven Defour",
          "Mousa Dembélé",
          "Jason Denayer",
          "Laurent Depoitre",
          "Sylvain Deslandes",
          "Fousseni Diabaté",
          "Adama Diakhaby",
          "Mohamed Diamé",
          "Grady Diangana",
          "Brahim Díaz",
          "Diego Cavalieri",
          "Brice Dja Djédjé",
          "Barry Douglas",
          "Kieran Dowell",
          "Vlad Dragomir",
          "Aleksandar Dragovic",
          "Erik Durm",
          "Ethan Ebanks-Landell",
          "Bruno Ecuele Manga",
          "Eddie Nketiah",
          "Rarmani Edmonds-Green",
          "Eduardo",
          "Callum Elder",
          "Bright Enobakhare",
          "Neil Etheridge",
          "Cesc Fàbregas",
          "Fabri",
          "Adam Federici",
          "Liam Feeney",
          "Marouane Fellaini",
          "Edimilson Fernandes",
          "Jon Flanagan",
          "Fraser Forster",
          "Paul Gladon",
          "Connor Goldson",
          "Claudio Gomes",
          "Kamil Grabara",
          "Lewis Grabban",
          "Jordan Graham",
          "Karlan Grant",
          "Robert Green",
          "Marko Grujic",
          "Idrissa Gueye",
          "Aron Gunnarsson",
          "Viktor Gyökeres",
          "Florent Hadergjonaj",
          "Massadio Haidara",
          "Sead Haksabanovic",
          "Greg Halford",
          "Ben Hamer",
          "Freddy Woodman",
          "Ramiro Funes Mori",
          "Manolo Gabbiadini",
          "Sam Gallagher",
          "Brendan Galloway",
          "Luke Garbutt",
          "Florin Gardos",
          "Anthony Georgiou",
          "Rachid Ghezzal",
          "Charlie Gilmour",
          "Kadeem Harris",
          "Jack Harrison",
          "Eden Hazard",
          "Rhys Healey",
          "Michael Hector",
          "Michael Hefele",
          "Hélder Costa",
          "Tomer Hemed",
          "Dion Henry",
          "Ander Herrera",
          "Jake Hesketh",
          "Mateusz Hewelt",
          "Gonzalo Higuaín",
          "Jordy Hiwula-Mayifuila",
          "Tommie Hoban",
          "Wesley Hoedt",
          "Jonathan Hogg",
          "Tareiq Holmes-Dennis",
          "Fraser Hornby",
          "Jordan Hugill",
          "Cameron Humphreys-Grant",
          "Uwe Hünemeier",
          "Emerson Hyndman",
          "Vicente Iborra",
          "Rohan Ince",
          "Ryan Inniss",
          "Jaroslaw Jach",
          "Vincent Janssen",
          "Jazz Richards",
          "Carl Jenkinson",
          "Jesús Gámez",
          "João Mário",
          "João Virgínia",
          "Joel Pereira",
          "Stefan Johansen",
          "Declan John",
          "George Johnston",
          "Sam Johnstone",
          "Jordan Williams",
          "Joselu",
          "Josh Dasilva",
          "Josh Sims",
          "Juninho Bacuna",
          "Elias Kachunga",
          "Sullay Kaikai",
          "Mattias Kait",
          "Tomas Kalas",
          "Aboubakar Kamara",
          "Bartosz Kapustka",
          "Loris Karius",
          "Orestis Karnezis",
          "Beram Kayal",
          "Olarenwaju Kayode",
          "Neeskens Kebano",
          "Kenedy",
          "Matthew Kennedy",
          "Jonjoe Kenny",
          "Ryan Kent",
          "Davy Klaassen",
          "Ragnar Klavan",
          "Anthony Knockaert",
          "Vincent Kompany",
          "Terence Kongolo",
          "Laurent Koscielny",
          "Shayne Lavery",
          "Achraf Lazaar",
          "Maxime Le Marchand",
          "Leandro Bacuna",
          "Chung-Yong Lee",
          "Mario Lemina",
          "Léo Bonatini",
          "Thakgalo Leshabela",
          "Stephan Lichtsteiner",
          "Anders Lindegaard",
          "Fernando Llorente",
          "Jürgen Locadia",
          "Ademola Lookman",
          "Chris Löwe",
          "Lucas Perri",
          "Lucas Piazon",
          "Romelu Lukaku",
          "Dodi Lukebakio",
          "Gary Madine",
          "Niki Mäenpää",
          "Pablo Maffeo",
          "Connor Mahoney",
          "Scott Malone",
          "Eliaquim Mangala",
          "Marcelo Djaló",
          "Lazar Markovic",
          "Dean Marney",
          "Ben Marshall",
          "Brandon Mason",
          "Conor Masterson",
          "Ales Mateju",
          "Rabbi Matondo",
          "Matty Daly",
          "Alfie Mawson",
          "Chancel Mbemba",
          "Isaac Mbenza",
          "Kevin McDonald",
          "Allan McGregor",
          "Ibrahim Meite",
          "Nathaniel Mendez-Laing",
          "Mikel Merino",
          "Matt Miazga",
          "Simon Mignolet",
          "Kevin Mirallas",
          "Demetri Mitchell",
          "Aleksandar Mitrovic",
          "Henrikh Mkhitaryan",
          "Jan Mlakar",
          "Mohamed Elneny",
          "Mohamed Elyounoussi",
          "Jayson Molumby",
          "Álvaro Morata",
          "Marlos Moreno",
          "Sean Morrison",
          "Victor Moses",
          "Steve Mounie",
          "Arijanet Muric",
          "Josh Murphy",
          "Ahmed Musa",
          "Charly Musonda",
          "Jordon Mutch",
          "Alfred N'Diaye",
          "Nacho Monreal",
          "Samir Nasri",
          "Marc Navarro",
          "Mikael Ndjoli",
          "Didier Ndong",
          "Georges-Kévin Nkoudou",
          "Lukas Nmecha",
          "Håvard Nordtveit",
          "Magnus Norman",
          "Mathias Normann",
          "Will Norris",
          "Lewis O'Brien",
          "Stuart O'Keefe",
          "Aiden O'Neill",
          "Matt O'Riley",
          "Pedro Obiang",
          "Denis Odoi",
          "Nnamdi Ofoborh",
          "Phil Ofosu-Ayeh",
          "Stefano Okaka",
          "Shinji Okazaki",
          "Ola Aina",
          "Prince Oniangué",
          "Josh Onomah",
          "Henry Onyekuru",
          "Jordi Osei-Tutu",
          "David Ospina",
          "Leo Ostigard",
          "Obbi Oularé",
          "Ovie Ejaria",
          "Reece Oxford",
          "Kasey Palmer",
          "Erik Palmer-Brown",
          "Costel Pantilimon",
          "Mario Pasalic",
          "Josh Pask",
          "Callum Paterson",
          "Jack Payne",
          "Lee Peltier",
          "Adalberto Peñaranda",
          "Matthew Pennington",
          "Pedro Pereira",
          "Lucas Pérez",
          "Nathaniel Phillips",
          "Jérémy Pied",
          "Anthony Pilkington",
          "Julio Pleguezuelo",
          "Pote",
          "Alex Pritchard",
          "Marc Pugh",
          "Jason Puncheon",
          "Collin Quaner",
          "Rafa Mir",
          "Rafael Camacho",
          "Erdal Rakip",
          "Joe Ralls",
          "Ramadan Sobhi",
          "Sandro Ramírez",
          "Aaron Ramsey",
          "Connor Randall",
          "Tim Ream",
          "Harrison Reed",
          "Jeff Reine-Adélaïde",
          "Joel Robles",
          "Marek Rodák",
          "Roderick Miranda",
          "Connor Ronan",
          "Salomón Rondón",
          "Rui Fonte",
          "Abdelhamid Sabiri",
          "Henri Saivet",
          "Bakary Sako",
          "Martin Samuelsen",
          "Philippe Sandler",
          "Santi Cazorla",
          "Sean Scannell",
          "Christopher Schindler",
          "Ryan Schofield",
          "André Schürrle",
          "Kyle Scott",
          "Matz Sels",
          "Ken Sema",
          "Jean Michael Seri",
          "Sheyi Ojo",
          "Jerome Sinclair",
          "Jiri Skalak",
          "Islam Slimani",
          "Chris Smalling",
          "Alex Smithies",
          "Sol Bamba",
          "Pape Souaré",
          "Julian Speroni",
          "Jon Gorenc Stankovic",
          "Jason Steele",
          "Dujon Sterling",
          "Jamie Sterry",
          "Steven Sessegnon",
          "Ben Stevenson",
          "Carl Stewart",
          "Daniel Sturridge",
          "Denis Suárez",
          "Sam Surridge",
          "Markus Suttner",
          "Alexander Sørloth",
          "Dusan Tadic",
          "Shani Tarashaj",
          "Percy Tau",
          "Tayo Edun",
          "George Thomas",
          "Jon Dagur Thorsteinsson",
          "Lee Tomlin",
          "Toni Martínez",
          "Tosin Adarabioyo",
          "Yaya Touré",
          "Richard Towell",
          "Armand Traore",
          "Kieran Trippier",
          "Leonardo Ulloa",
          "Rajiv van La Parra",
          "Luciano Vietto",
          "Nikola Vlasic",
          "Sam Vokes",
          "Anton Walkes",
          "Stephen Ward",
          "Nahki Wells",
          "Ben White",
          "Yanic Wildschut",
          "Jonathan Williams",
          "Ben Wilmot",
          "Ben Woodburn",
          "Cauley Woodrow",
          "André-Frank Zambo Anguissa",
          "Zanka",
          "Davide Zappacosta",
          "Mauro Zárate",
          "Kenneth Zohore",
          "Michal Zyro"
         ],
         "type": "scatter",
         "x": [
          0.1111111111111111,
          0,
          0,
          0.15873015873015872,
          0,
          null,
          0,
          0.03333333333333333,
          0,
          null,
          null,
          0,
          0,
          0,
          null,
          0.15384615384615385,
          0.07384615384615385,
          null,
          0,
          0.23369565217391305,
          0.031914893617021274,
          null,
          0.32075471698113206,
          null,
          0.0625,
          0.1588785046728972,
          0.06896551724137931,
          null,
          0,
          0,
          null,
          0.003968253968253968,
          0,
          0,
          0,
          0.044444444444444446,
          0,
          0,
          0.14857142857142858,
          0.07479224376731301,
          0.047619047619047616,
          0,
          0.13043478260869565,
          0.08695652173913043,
          0,
          0,
          null,
          0.13043478260869565,
          null,
          0.33544303797468356,
          null,
          null,
          0.09243697478991597,
          null,
          null,
          null,
          0,
          0,
          0,
          null,
          null,
          null,
          0,
          0,
          0,
          0.02631578947368421,
          0.05027932960893855,
          null,
          null,
          0,
          null,
          0,
          0,
          0,
          0.11764705882352941,
          0.016666666666666666,
          0.05555555555555555,
          0.18518518518518517,
          null,
          0.32661290322580644,
          0.0392156862745098,
          0.04938271604938271,
          0,
          0.10714285714285714,
          null,
          0,
          0,
          0.07531380753138076,
          0,
          0,
          null,
          null,
          null,
          0,
          null,
          0,
          0,
          null,
          0,
          0.125,
          null,
          null,
          null,
          null,
          0,
          0.14285714285714285,
          0,
          0,
          null,
          0.1423076923076923,
          0,
          0.021739130434782608,
          0,
          null,
          0,
          null,
          null,
          0.041666666666666664,
          null,
          0.3076923076923077,
          0,
          0,
          0.022388059701492536,
          0.0392156862745098,
          null,
          0,
          0,
          null,
          0,
          0,
          null,
          0.07272727272727272,
          0.19607843137254902,
          0.045454545454545456,
          0,
          0,
          0,
          null,
          0.05263157894736842,
          null,
          0.07692307692307693,
          null,
          0.3469387755102041,
          0,
          null,
          0,
          0.04,
          0.125,
          null,
          0.09090909090909091,
          0,
          null,
          0.35714285714285715,
          null,
          null,
          0,
          0,
          null,
          null,
          0,
          null,
          0,
          0,
          0.1111111111111111,
          null,
          null,
          null,
          0.06451612903225806,
          0,
          0.03225806451612903,
          0,
          0.15384615384615385,
          null,
          0,
          0,
          0,
          null,
          null,
          null,
          0.14705882352941177,
          null,
          0,
          0.047619047619047616,
          0.02564102564102564,
          0,
          null,
          0,
          0.23076923076923078,
          null,
          0,
          0,
          0.02702702702702703,
          null,
          0,
          0.07407407407407407,
          null,
          0,
          null,
          0,
          0.02564102564102564,
          0.06944444444444445,
          0.06792452830188679,
          0.022222222222222223,
          0.08627450980392157,
          null,
          null,
          0,
          0.0625,
          0.0761904761904762,
          0.043478260869565216,
          0,
          null,
          0,
          0,
          0.2463768115942029,
          0.08823529411764706,
          0.027777777777777776,
          0,
          null,
          0,
          0.44841269841269843,
          0,
          0,
          null,
          null,
          null,
          0,
          0,
          null,
          0.125,
          0.041666666666666664,
          null,
          0,
          null,
          null,
          null,
          0,
          0.075,
          0,
          0.045454545454545456,
          0.024390243902439025,
          0,
          null,
          0.2,
          0.041666666666666664,
          0,
          0,
          0.19205298013245034,
          0,
          0.2727272727272727,
          0.16666666666666666,
          null,
          0,
          0,
          null,
          0.3404255319148936,
          null,
          0.06,
          0.09090909090909091,
          0.15254237288135594,
          null,
          0.07894736842105263,
          0.09523809523809523,
          0,
          0.08974358974358974,
          0.03225806451612903,
          0.0374331550802139,
          0.16363636363636364,
          0,
          null,
          0.03225806451612903,
          0,
          0,
          0,
          null,
          null,
          0,
          null,
          0.07142857142857142,
          0,
          null,
          0.03296703296703297,
          0,
          null,
          null,
          0.14893617021276595,
          0.12280701754385964,
          0,
          null,
          0,
          null,
          null,
          0,
          null,
          0,
          0,
          0,
          0,
          null,
          0,
          null,
          null,
          0.14814814814814814,
          null,
          0,
          null,
          0.14285714285714285,
          null,
          0.15384615384615385,
          null,
          0,
          0.18666666666666668,
          null,
          null,
          0.0625,
          0.07462686567164178,
          0.11764705882352941,
          0,
          null,
          0,
          null,
          0,
          0.044444444444444446,
          0,
          0.15267175572519084,
          0,
          0,
          0,
          null,
          0,
          null,
          null,
          null,
          0.25,
          null,
          0,
          0.2,
          0.10638297872340426,
          null,
          null,
          0.1937984496124031,
          null,
          0.013513513513513514,
          null,
          0.25,
          null,
          null,
          0.058823529411764705,
          0.03125,
          0,
          0,
          null,
          0.20512820512820512,
          0.0547945205479452,
          null,
          0.14285714285714285,
          0,
          0,
          0.09090909090909091,
          null,
          null,
          0,
          null,
          null,
          null,
          0.3486238532110092,
          0,
          0,
          0,
          0,
          0.14925373134328357,
          null,
          null,
          null,
          null,
          null,
          0,
          null,
          null,
          0.26956521739130435,
          null,
          0.010309278350515464,
          0.018691588785046728,
          0.19791666666666666,
          0.07894736842105263,
          0.05,
          0,
          0.1504424778761062,
          null,
          0.03508771929824561,
          0,
          null,
          null,
          0,
          0,
          0,
          0.16666666666666666,
          0,
          0.04838709677419355,
          0.038461538461538464,
          0.20930232558139536,
          0.05263157894736842,
          null
         ],
         "xaxis": "x",
         "y": [
          500000,
          5000000,
          13000000,
          8000000,
          250000,
          450000,
          3000000,
          9000000,
          3000000,
          12500000,
          100000,
          750000,
          10000000,
          5000000,
          250000,
          4500000,
          5000000,
          600000,
          2500000,
          32000000,
          7000000,
          1000000,
          5000000,
          4500000,
          1500000,
          5000000,
          35000000,
          4000000,
          1500000,
          7000000,
          4000000,
          7000000,
          1000000,
          3000000,
          3500000,
          24000000,
          6000000,
          500000,
          2000000,
          6000000,
          15000000,
          2000000,
          2500000,
          33000000,
          250000,
          7500000,
          2500000,
          10000000,
          3000000,
          12000000,
          750000,
          250000,
          6000000,
          1500000,
          150000,
          750000,
          850000,
          75000000,
          6000000,
          1000000,
          500000,
          200000,
          2500000,
          3500000,
          750000,
          3000000,
          3000000,
          50000,
          250000,
          55000000,
          550000,
          1000000,
          3000000,
          750000,
          30000000,
          10000000,
          2000000,
          10000000,
          500000,
          1750000,
          5000000,
          8000000,
          15000000,
          3500000,
          100000,
          3000000,
          8000000,
          5000000,
          5000000,
          17000000,
          500000,
          700000,
          3500000,
          3000000,
          1500000,
          9000000,
          2000000,
          250000,
          3000000,
          8000000,
          150000,
          20000000,
          250000,
          500000,
          6000000,
          12000000,
          6000000,
          350000,
          750000,
          9500000,
          8000000,
          1500000,
          8000000,
          600000,
          3250000,
          400000,
          5000000,
          4500000,
          500000,
          5000000,
          175000,
          20000000,
          30000000,
          2500000,
          500000,
          7000000,
          1000000,
          1200000,
          500000,
          500000,
          2000000,
          8000000,
          12000000,
          3000000,
          1500000,
          750000,
          650000,
          50000,
          8000000,
          250000,
          1000000,
          4000000,
          150000000,
          250000,
          3000000,
          1000000,
          12000000,
          1500000,
          50000,
          25000000,
          200000,
          25000,
          35000000,
          250000,
          500000,
          8000000,
          3500000,
          250000,
          650000,
          6000000,
          350000,
          400000,
          1500000,
          9000000,
          500000,
          150000,
          850000,
          8000000,
          750000,
          2000000,
          500000,
          18000000,
          150000,
          850000,
          4000000,
          800000,
          250000,
          7000000,
          250000,
          4000000,
          750000,
          2000000,
          3500000,
          3000000,
          350000,
          200000,
          6000000,
          2750000,
          2500000,
          5000000,
          1500000,
          1500000,
          2000000,
          3000000,
          10000000,
          375000,
          8000000,
          4500000,
          22000000,
          1500000,
          8000000,
          6500000,
          12000000,
          5000000,
          50000,
          1000000,
          3500000,
          3000000,
          800000,
          15000000,
          4000000,
          100000,
          1500000,
          500000,
          5000000,
          10000000,
          20000000,
          1500000,
          300000,
          1500000,
          75000000,
          18000000,
          2500000,
          500000,
          3500000,
          750000,
          3500000,
          10000000,
          500000,
          4000000,
          1000000,
          1500000,
          50000,
          100000,
          1700000,
          9000000,
          150000,
          12000000,
          3500000,
          7000000,
          3000000,
          750000,
          50000,
          3000000,
          15000000,
          3000000,
          8000000,
          5000000,
          400000,
          25000000,
          25000000,
          2000000,
          6300000,
          15000000,
          500000,
          50000000,
          400000,
          5000000,
          10000000,
          10000000,
          2000000,
          10000000,
          12000000,
          1250000,
          1000000,
          3500000,
          8000000,
          5000000,
          2000000,
          250000,
          4000000,
          4500000,
          1000000,
          2500000,
          25000,
          2000000,
          250000,
          500000,
          500000,
          550000,
          250000,
          7000000,
          2500000,
          150000,
          300000,
          5000000,
          4000000,
          10000000,
          1500000,
          3000000,
          13000000,
          250000,
          4000000,
          300000,
          1800000,
          1500000,
          3000000,
          3000000,
          600000,
          1000000,
          10000000,
          100000,
          5000000,
          350000,
          1500000,
          2000000,
          1000000,
          2000000,
          4000000,
          1000000,
          2500000,
          1000000,
          600000,
          1000000,
          9000000,
          1500000,
          600000,
          1500000,
          3000000,
          3000000,
          500000,
          5000000,
          5000000,
          4000000,
          40000000,
          500000,
          2500000,
          2000000,
          25000000,
          5000000,
          1500000,
          1750000,
          500000,
          15000000,
          2500000,
          1000000,
          1000000,
          800000,
          500000,
          4500000,
          4000000,
          500000,
          7000000,
          150000,
          12000000,
          50000,
          7000000,
          3500000,
          18000000,
          2000000,
          1000000,
          1000000,
          5000000,
          20000000,
          3500000,
          1000000,
          2000000,
          250000,
          1500000,
          750000,
          1000000,
          75000,
          2500000,
          500000,
          25000,
          11000000,
          12000000,
          500000,
          1500000,
          6000000,
          25000000,
          500000,
          6000000,
          500000,
          500000,
          500000,
          2000000,
          1200000,
          3500000,
          250000,
          200000,
          200000,
          35000000,
          1000000,
          3000000,
          7000000,
          20000000,
          5000000,
          500000,
          2000000,
          4000000,
          2500000,
          2000000,
          1000000,
          1500000,
          5000000,
          1000000,
          25000000,
          3500000,
          15000000,
          2500000,
          7000000,
          250000
         ],
         "yaxis": "y"
        },
        {
         "hoverlabel": {
          "namelength": 0
         },
         "hovertemplate": "club=Chelsea<br>goals/app=%{x}<br>value=%{y}<br>name=%{text}",
         "legendgroup": "club=Chelsea",
         "marker": {
          "color": "#EF553B",
          "symbol": "circle"
         },
         "mode": "markers+text",
         "name": "club=Chelsea",
         "showlegend": true,
         "text": [
          "Tammy Abraham",
          "Marcos Alonso",
          "Kepa Arrizabalaga",
          "César Azpilicueta",
          "Ross Barkley",
          "Michy Batshuayi",
          "Willy Caballero",
          "Andreas Christensen",
          "Jamie Cumming",
          "Emerson",
          "Olivier Giroud",
          "Callum Hudson-Odoi",
          "Jorginho",
          "N'Golo Kanté",
          "Mateo Kovacic",
          "Ruben Loftus-Cheek",
          "Pedro",
          "Christian Pulisic",
          "Antonio Rüdiger",
          "Fikayo Tomori",
          "Willian",
          "Kurt Zouma"
         ],
         "type": "scatter",
         "x": [
          0.3333333333333333,
          0.13385826771653545,
          0,
          0.024096385542168676,
          0.12972972972972974,
          0.24528301886792453,
          0,
          0,
          null,
          0,
          0.3466666666666667,
          0,
          0.058823529411764705,
          0.06622516556291391,
          0.020833333333333332,
          0.12857142857142856,
          0.2153846153846154,
          0.38461538461538464,
          0.04918032786885246,
          0.08333333333333333,
          0.14084507042253522,
          0.03125
         ],
         "xaxis": "x",
         "y": [
          32000000,
          32000000,
          60000000,
          35000000,
          30000000,
          25000000,
          1000000,
          35000000,
          500000,
          25000000,
          12000000,
          35000000,
          65000000,
          100000000,
          35000000,
          30000000,
          55000000,
          60000000,
          50000000,
          10000000,
          35000000,
          25000000
         ],
         "yaxis": "y"
        },
        {
         "hoverlabel": {
          "namelength": 0
         },
         "hovertemplate": "club=Liverpool<br>goals/app=%{x}<br>value=%{y}<br>name=%{text}",
         "legendgroup": "club=Liverpool",
         "marker": {
          "color": "#00cc96",
          "symbol": "circle"
         },
         "mode": "markers+text",
         "name": "club=Liverpool",
         "showlegend": true,
         "text": [
          "Adrián",
          "Trent Alexander-Arnold",
          "Alisson",
          "Pedro Chirivella",
          "Nathaniel Clyne",
          "Harvey Elliott",
          "Fabinho",
          "Jordan Henderson",
          "Ki-Jana Hoever",
          "Curtis Jones",
          "Naby Keita",
          "Caoimhin Kelleher",
          "Adam Lallana",
          "Dejan Lovren",
          "Sadio Mané",
          "Joel Matip",
          "James Milner",
          "Mohamed Salah",
          "Divock Origi",
          "Alex Oxlade-Chamberlain",
          "Roberto Firmino",
          "Andrew Robertson",
          "Xherdan Shaqiri",
          "Virgil van Dijk",
          "Georginio Wijnaldum"
         ],
         "type": "scatter",
         "x": [
          0,
          0.04225352112676056,
          0,
          0,
          0.021621621621621623,
          0,
          0.05,
          0.08307692307692308,
          null,
          0,
          0.10714285714285714,
          null,
          0.1595744680851064,
          0.04375,
          0.43103448275862066,
          0.04819277108433735,
          0.10227272727272728,
          0.63,
          0.24,
          0.07344632768361582,
          0.33986928104575165,
          0.022900763358778626,
          0.19642857142857142,
          0.08148148148148149,
          0.1464968152866242
         ],
         "xaxis": "x",
         "y": [
          5000000,
          80000000,
          80000000,
          800000,
          12000000,
          4000000,
          50000000,
          35000000,
          4000000,
          1500000,
          50000000,
          500000,
          15000000,
          20000000,
          120000000,
          35000000,
          15000000,
          150000000,
          20000000,
          35000000,
          80000000,
          60000000,
          25000000,
          100000000,
          50000000
         ],
         "yaxis": "y"
        },
        {
         "hoverlabel": {
          "namelength": 0
         },
         "hovertemplate": "club=Manchester City<br>goals/app=%{x}<br>value=%{y}<br>name=%{text}",
         "legendgroup": "club=Manchester City",
         "marker": {
          "color": "#ab63fa",
          "symbol": "circle"
         },
         "mode": "markers+text",
         "name": "club=Manchester City",
         "showlegend": true,
         "text": [
          "Sergio Agüero",
          "Adrián Bernabé",
          "Bernardo Silva",
          "Claudio Bravo",
          "David Silva",
          "Kevin De Bruyne",
          "Ederson",
          "Eric García",
          "Fernandinho",
          "Phil Foden",
          "Ilkay Gündogan",
          "Gabriel Jesus",
          "Aymeric Laporte",
          "Riyad Mahrez",
          "Nicolás Otamendi",
          "Leroy Sané",
          "John Stones",
          "Kyle Walker",
          "Oleksandr Zinchenko"
         ],
         "type": "scatter",
         "x": [
          0.6892430278884463,
          null,
          0.21176470588235294,
          0,
          0.1919191919191919,
          0.2,
          0,
          0,
          0.08737864077669903,
          0.04,
          0.16470588235294117,
          0.3950617283950617,
          0.0625,
          0.2808988764044944,
          0.06557377049180328,
          0.2808988764044944,
          0.0064516129032258064,
          0.025362318840579712,
          0
         ],
         "xaxis": "x",
         "y": [
          65000000,
          2500000,
          100000000,
          3000000,
          20000000,
          130000000,
          70000000,
          7000000,
          12000000,
          30000000,
          50000000,
          70000000,
          75000000,
          60000000,
          25000000,
          100000000,
          60000000,
          50000000,
          30000000
         ],
         "yaxis": "y"
        },
        {
         "hoverlabel": {
          "namelength": 0
         },
         "hovertemplate": "club=AFC Bournemouth<br>goals/app=%{x}<br>value=%{y}<br>name=%{text}",
         "legendgroup": "club=AFC Bournemouth",
         "marker": {
          "color": "#FFA15A",
          "symbol": "circle"
         },
         "mode": "markers+text",
         "name": "club=AFC Bournemouth",
         "showlegend": true,
         "text": [
          "Nathan Aké",
          "Philip Billing",
          "Callum Wilson",
          "Artur Boruc",
          "David Brooks",
          "Charlie Daniels",
          "Mihai-Alexandru Dobre",
          "Dan Gosling",
          "Simon Francis",
          "Ryan Fraser",
          "Harry Wilson",
          "Jordon Ibe",
          "Joshua King",
          "Jefferson Lerma",
          "Lewis Cook",
          "Chris Mepham",
          "Aaron Ramsdale",
          "Diego Rico",
          "Jack Simpson",
          "Brad Smith",
          "Dominic Solanke",
          "Junior Stanislas",
          "Steve Cook",
          "Andrew Surman",
          "Mark Travers"
         ],
         "type": "scatter",
         "x": [
          0.08270676691729323,
          0.034482758620689655,
          0.35514018691588783,
          0,
          0.23333333333333334,
          0.06976744186046512,
          null,
          0.08588957055214724,
          0,
          0.14953271028037382,
          0.42857142857142855,
          0.03361344537815126,
          0.30612244897959184,
          0.045454545454545456,
          0,
          0.05263157894736842,
          0,
          0,
          0,
          0,
          0.022222222222222223,
          0.184,
          0.06535947712418301,
          0.04225352112676056,
          0
         ],
         "xaxis": "x",
         "y": [
          35000000,
          15000000,
          30000000,
          1000000,
          30000000,
          3000000,
          50000,
          3500000,
          2000000,
          30000000,
          18000000,
          8000000,
          20000000,
          25000000,
          20000000,
          13000000,
          6000000,
          7000000,
          1500000,
          1000000,
          18000000,
          3500000,
          10000000,
          2500000,
          250000
         ],
         "yaxis": "y"
        },
        {
         "hoverlabel": {
          "namelength": 0
         },
         "hovertemplate": "club=Leicester City<br>goals/app=%{x}<br>value=%{y}<br>name=%{text}",
         "legendgroup": "club=Leicester City",
         "marker": {
          "color": "#19d3f3",
          "symbol": "circle"
         },
         "mode": "markers+text",
         "name": "club=Leicester City",
         "showlegend": true,
         "text": [
          "Marc Albrighton",
          "Daniel Amartey",
          "Ayoze Pérez",
          "Filip Benkovic",
          "Ben Chilwell",
          "Hamza Choudhury",
          "Jonny Evans",
          "Demarai Gray",
          "Christian Fuchs",
          "Kelechi Iheanacho",
          "Eldin Jakupovic",
          "Matty James",
          "James Maddison",
          "Nampalys Mendy",
          "Wes Morgan",
          "Ricardo Pereira",
          "Kasper Schmeichel",
          "Çaglar Söyüncü",
          "Youri Tielemans",
          "Jamie Vardy",
          "Wilfred Ndidi"
         ],
         "type": "scatter",
         "x": [
          0.06995884773662552,
          0.021739130434782608,
          0.2356687898089172,
          null,
          0.023809523809523808,
          0,
          0.0364963503649635,
          0.06666666666666667,
          0.02,
          0.17346938775510204,
          0,
          0,
          0.24,
          0,
          0.05,
          0.08,
          0,
          0.047619047619047616,
          0.21428571428571427,
          0.49214659685863876,
          0.058823529411764705
         ],
         "xaxis": "x",
         "y": [
          10000000,
          7000000,
          20000000,
          11000000,
          35000000,
          10000000,
          12000000,
          20000000,
          3000000,
          12000000,
          750000,
          1500000,
          45000000,
          8000000,
          2000000,
          30000000,
          12000000,
          20000000,
          45000000,
          20000000,
          35000000
         ],
         "yaxis": "y"
        },
        {
         "hoverlabel": {
          "namelength": 0
         },
         "hovertemplate": "club=Tottenham Hotspur<br>goals/app=%{x}<br>value=%{y}<br>name=%{text}",
         "legendgroup": "club=Tottenham Hotspur",
         "marker": {
          "color": "#FF6692",
          "symbol": "circle"
         },
         "mode": "markers+text",
         "name": "club=Tottenham Hotspur",
         "showlegend": true,
         "text": [
          "Toby Alderweireld",
          "Serge Aurier",
          "Dele Alli",
          "Eric Dier",
          "Christian Eriksen",
          "Juan Foyth",
          "Paulo Gazzaniga",
          "Harry Kane",
          "Erik Lamela",
          "Hugo Lloris",
          "Lucas Moura",
          "Danny Rose",
          "Ryan Sessegnon",
          "Moussa Sissoko",
          "Oliver Skipp",
          "Son Heung-Min",
          "Japhet Tanganga",
          "Jan Vertonghen",
          "Michel Vorm",
          "Kyle Walker-Peters",
          "Victor Wanyama",
          "Harry Winks"
         ],
         "type": "scatter",
         "x": [
          0.03821656050955414,
          0.05555555555555555,
          0.3357142857142857,
          0.062111801242236024,
          0.22935779816513763,
          0.07142857142857142,
          0,
          0.6836734693877551,
          0.11594202898550725,
          0,
          0.25,
          0.049723756906077346,
          0.05405405405405406,
          0.06334841628959276,
          0,
          0.3263888888888889,
          null,
          0.022935779816513763,
          0,
          0,
          0.06493506493506493,
          0.025974025974025976
         ],
         "xaxis": "x",
         "y": [
          40000000,
          15000000,
          90000000,
          30000000,
          100000000,
          15000000,
          2000000,
          150000000,
          22000000,
          25000000,
          40000000,
          25000000,
          35000000,
          25000000,
          8000000,
          80000000,
          800000,
          22000000,
          1000000,
          10000000,
          15000000,
          40000000
         ],
         "yaxis": "y"
        },
        {
         "hoverlabel": {
          "namelength": 0
         },
         "hovertemplate": "club=Newcastle United<br>goals/app=%{x}<br>value=%{y}<br>name=%{text}",
         "legendgroup": "club=Newcastle United",
         "marker": {
          "color": "#B6E880",
          "symbol": "circle"
         },
         "mode": "markers+text",
         "name": "club=Newcastle United",
         "showlegend": true,
         "text": [
          "Miguel Almirón",
          "Christian Atsu",
          "Andy Carroll",
          "Ciaran Clark",
          "Karl Darlow",
          "Martin Dubravka",
          "Paul Dummett",
          "Robert Elliot",
          "Federico Fernández",
          "Isaac Hayden",
          "Ki Sung-Yueng",
          "Jamaal Lascelles",
          "Florian Lejeune",
          "Javier Manquillo",
          "Yoshinori Muto",
          "Matt Ritchie",
          "Fabian Schär",
          "Sean Longstaff",
          "Jonjo Shelvey",
          "DeAndre Yedlin"
         ],
         "type": "scatter",
         "x": [
          0,
          0.04054054054054054,
          0.2420091324200913,
          0.08092485549132948,
          0,
          0,
          0.016129032258064516,
          0,
          0.020689655172413793,
          0.031746031746031744,
          0.08021390374331551,
          0.06315789473684211,
          0,
          0.013333333333333334,
          0.045454545454545456,
          0.07964601769911504,
          0.15151515151515152,
          0.058823529411764705,
          0.09137055837563451,
          0.02127659574468085
         ],
         "xaxis": "x",
         "y": [
          20000000,
          6000000,
          6000000,
          6000000,
          3500000,
          7000000,
          7000000,
          1000000,
          7000000,
          10000000,
          6000000,
          18000000,
          8000000,
          5000000,
          9000000,
          12000000,
          12000000,
          18000000,
          15000000,
          8000000
         ],
         "yaxis": "y"
        },
        {
         "hoverlabel": {
          "namelength": 0
         },
         "hovertemplate": "club=Everton<br>goals/app=%{x}<br>value=%{y}<br>name=%{text}",
         "legendgroup": "club=Everton",
         "marker": {
          "color": "#FF97FF",
          "symbol": "circle"
         },
         "mode": "markers+text",
         "name": "club=Everton",
         "showlegend": true,
         "text": [
          "André Gomes",
          "Leighton Baines",
          "Beni Baningime",
          "Bernard",
          "Dominic Calvert-Lewin",
          "Séamus Coleman",
          "Cuco Martina",
          "Tom Davies",
          "Fabian Delph",
          "Lucas Digne",
          "Anthony Gordon",
          "Mason Holgate",
          "Alex Iwobi",
          "Michael Keane",
          "Jonas Lössl",
          "Yerry Mina",
          "Oumar Niasse",
          "Jordan Pickford",
          "Richarlison",
          "Morgan Schneiderlin",
          "Gylfi Sigurdsson",
          "Maarten Stekelenburg",
          "Cenk Tosun",
          "Theo Walcott"
         ],
         "type": "scatter",
         "x": [
          0.02857142857142857,
          0.0774818401937046,
          0,
          0.06818181818181818,
          0.17391304347826086,
          0.078125,
          0.022222222222222223,
          0.058823529411764705,
          0.03977272727272727,
          0.0784313725490196,
          null,
          0,
          0.10526315789473684,
          0.029850746268656716,
          0,
          0.037037037037037035,
          0.1935483870967742,
          0,
          0.2696629213483146,
          0.0663265306122449,
          0.22813688212927757,
          0,
          0.20930232558139536,
          0.21987951807228914
         ],
         "xaxis": "x",
         "y": [
          28000000,
          3500000,
          2000000,
          100000000,
          20000000,
          15000000,
          1500000,
          15000000,
          15000000,
          30000000,
          1500000,
          7000000,
          32000000,
          30000000,
          5000000,
          25000000,
          6000000,
          40000000,
          50000000,
          15000000,
          35000000,
          1000000,
          15000000,
          15000000
         ],
         "yaxis": "y"
        },
        {
         "hoverlabel": {
          "namelength": 0
         },
         "hovertemplate": "club=Manchester United<br>goals/app=%{x}<br>value=%{y}<br>name=%{text}",
         "legendgroup": "club=Manchester United",
         "marker": {
          "color": "#FECB52",
          "symbol": "circle"
         },
         "mode": "markers+text",
         "name": "club=Manchester United",
         "showlegend": true,
         "text": [
          "Andreas Pereira",
          "Eric Bailly",
          "Tahith Chong",
          "David de Gea",
          "Diogo Dalot",
          "Mason Greenwood",
          "Timothy Fosu-Mensah",
          "Fred",
          "Matej Kovar",
          "Victor Lindelöf",
          "Jesse Lingard",
          "Harry Maguire",
          "Anthony Martial",
          "Juan Mata",
          "Nemanja Matic",
          "Scott McTominay",
          "Paul Pogba",
          "Marcus Rashford",
          "Marcos Rojo",
          "Sergio Romero",
          "Luke Shaw",
          "Axel Tuanzebe",
          "Aaron Wan-Bissaka",
          "Ashley Young"
         ],
         "type": "scatter",
         "x": [
          0.05714285714285714,
          0.02,
          0,
          0,
          0,
          0.06666666666666667,
          0,
          0.034482758620689655,
          null,
          0.03225806451612903,
          0.13709677419354838,
          0.05982905982905983,
          0.3089430894308943,
          0.20318725099601595,
          0.031578947368421054,
          0.1111111111111111,
          0.24,
          0.29133858267716534,
          0.013157894736842105,
          0,
          0.007246376811594203,
          0,
          0,
          0.13043478260869565
         ],
         "xaxis": "x",
         "y": [
          15000000,
          25000000,
          7000000,
          65000000,
          20000000,
          10000000,
          7000000,
          35000000,
          100000,
          35000000,
          40000000,
          70000000,
          60000000,
          20000000,
          25000000,
          20000000,
          100000000,
          80000000,
          10000000,
          3500000,
          30000000,
          7000000,
          40000000,
          5000000
         ],
         "yaxis": "y"
        },
        {
         "hoverlabel": {
          "namelength": 0
         },
         "hovertemplate": "club=West Ham United<br>goals/app=%{x}<br>value=%{y}<br>name=%{text}",
         "legendgroup": "club=West Ham United",
         "marker": {
          "color": "#636efa",
          "symbol": "circle"
         },
         "mode": "markers+text",
         "name": "club=West Ham United",
         "showlegend": true,
         "text": [
          "Michail Antonio",
          "Fabián Balbuena",
          "Carlos Sánchez",
          "Aaron Cresswell",
          "Issa Diop",
          "Lukasz Fabianski",
          "Felipe Anderson",
          "Ryan Fredericks",
          "Manuel Lanzini",
          "Arthur Masuaku",
          "Mark Noble",
          "Angelo Ogbonna",
          "Winston Reid",
          "Declan Rice",
          "Robert Snodgrass",
          "Jack Wilshere",
          "Xande Silva",
          "Andriy Yarmolenko",
          "Pablo Zabaleta"
         ],
         "type": "scatter",
         "x": [
          0.23684210526315788,
          0.06666666666666667,
          0.01694915254237288,
          0.04790419161676647,
          0.021739130434782608,
          0,
          0.18,
          0.034482758620689655,
          0.1834862385321101,
          0,
          0.11878453038674033,
          0.02608695652173913,
          0.03614457831325301,
          0.02631578947368421,
          0.15753424657534246,
          0.044444444444444446,
          0,
          0.21739130434782608,
          0.030201342281879196
         ],
         "xaxis": "x",
         "y": [
          15000000,
          12000000,
          2500000,
          8000000,
          35000000,
          5000000,
          45000000,
          7000000,
          20000000,
          10000000,
          7000000,
          8000000,
          5000000,
          50000000,
          7000000,
          10000000,
          1000000,
          20000000,
          2000000
         ],
         "yaxis": "y"
        },
        {
         "hoverlabel": {
          "namelength": 0
         },
         "hovertemplate": "club=Arsenal<br>goals/app=%{x}<br>value=%{y}<br>name=%{text}",
         "legendgroup": "club=Arsenal",
         "marker": {
          "color": "#EF553B",
          "symbol": "circle"
         },
         "mode": "markers+text",
         "name": "club=Arsenal",
         "showlegend": true,
         "text": [
          "Pierre-Emerick Aubameyang",
          "Héctor Bellerín",
          "Calum Chambers",
          "David Luiz",
          "Matteo Guendouzi",
          "Rob Holding",
          "Sead Kolasinac",
          "Alexandre Lacazette",
          "Bernd Leno",
          "Matt Macey",
          "Ainsley Maitland-Niles",
          "Emiliano Martínez",
          "Konstantinos Mavropanos",
          "Shkodran Mustafi",
          "Reiss Nelson",
          "Mesut Özil",
          "Bukayo Saka",
          "Emile Smith Rowe",
          "Sokratis",
          "Lucas Torreira",
          "Joseph Willock",
          "Granit Xhaka"
         ],
         "type": "scatter",
         "x": [
          0.65625,
          0.0410958904109589,
          0.044444444444444446,
          0.07471264367816093,
          0,
          0,
          0.031746031746031744,
          0.4155844155844156,
          0,
          null,
          0.02564102564102564,
          0,
          0,
          0.08235294117647059,
          0,
          0.18604651162790697,
          0,
          null,
          0.05263157894736842,
          0.06521739130434782,
          0,
          0.06363636363636363
         ],
         "xaxis": "x",
         "y": [
          70000000,
          40000000,
          14000000,
          20000000,
          45000000,
          12000000,
          20000000,
          70000000,
          30000000,
          250000,
          18000000,
          3500000,
          3000000,
          18000000,
          17000000,
          25000000,
          7000000,
          4000000,
          20000000,
          55000000,
          10000000,
          40000000
         ],
         "yaxis": "y"
        },
        {
         "hoverlabel": {
          "namelength": 0
         },
         "hovertemplate": "club=Crystal Palace<br>goals/app=%{x}<br>value=%{y}<br>name=%{text}",
         "legendgroup": "club=Crystal Palace",
         "marker": {
          "color": "#00cc96",
          "symbol": "circle"
         },
         "mode": "markers+text",
         "name": "club=Crystal Palace",
         "showlegend": true,
         "text": [
          "Jordan Ayew",
          "Christian Benteke",
          "Víctor Camarasa",
          "Scott Dann",
          "Vicente Guaita",
          "Wayne Hennessey",
          "Martin Kelly",
          "Cheikhou Kouyaté",
          "James McArthur",
          "James McCarthy",
          "Max Meyer",
          "Luka Milivojevic",
          "Jairo Riedewald",
          "Mamadou Sakho",
          "Jeffrey Schlupp",
          "James Tomkins",
          "Andros Townsend",
          "Patrick van Aanholt",
          "Connor Wickham",
          "Wilfried Zaha"
         ],
         "type": "scatter",
         "x": [
          0.17391304347826086,
          0.32710280373831774,
          0.15151515151515152,
          0.07009345794392523,
          0,
          0,
          0,
          0.06896551724137931,
          0.08914728682170543,
          0.05555555555555555,
          0.030303030303030304,
          0.2524271844660194,
          0,
          0.02608695652173913,
          0.06993006993006994,
          0.043478260869565216,
          0.10552763819095477,
          0.10734463276836158,
          0.15517241379310345,
          0.17616580310880828
         ],
         "xaxis": "x",
         "y": [
          8000000,
          15000000,
          10000000,
          4000000,
          5000000,
          5000000,
          3000000,
          10000000,
          7000000,
          5000000,
          15000000,
          20000000,
          5000000,
          15000000,
          10000000,
          6000000,
          15000000,
          10000000,
          3000000,
          55000000
         ],
         "yaxis": "y"
        },
        {
         "hoverlabel": {
          "namelength": 0
         },
         "hovertemplate": "club=Watford<br>goals/app=%{x}<br>value=%{y}<br>name=%{text}",
         "legendgroup": "club=Watford",
         "marker": {
          "color": "#ab63fa",
          "symbol": "circle"
         },
         "mode": "markers+text",
         "name": "club=Watford",
         "showlegend": true,
         "text": [
          "Daniel Bachmann",
          "Etienne Capoue",
          "Craig Cathcart",
          "Tom Cleverley",
          "Pontus Dahlberg",
          "Troy Deeney",
          "Gerard Deulofeu",
          "Domingos Quina",
          "Abdoulaye Doucouré",
          "Ben Foster",
          "Dimitri Foulquier",
          "Heurelho Gomes",
          "José Holebas",
          "Isaac Success",
          "Daryl Janmaat",
          "Christian Kabasele",
          "Kiko Femenía",
          "Adrian Mariappa",
          "Adam Masina",
          "Roberto Pereyra",
          "Sebastian Prödl",
          "Tom Dele-Bashiru",
          "Danny Welbeck",
          "Marvin Zeegelaar"
         ],
         "type": "scatter",
         "x": [
          null,
          0.062111801242236024,
          0.0364963503649635,
          0.06829268292682927,
          null,
          0.2624113475177305,
          0.1565217391304348,
          0.1,
          0.12962962962962962,
          0,
          0,
          0,
          0.04504504504504504,
          0.038461538461538464,
          0.05517241379310345,
          0.0547945205479452,
          0.03125,
          0.012987012987012988,
          0,
          0.15555555555555556,
          0.03896103896103896,
          null,
          0.1990521327014218,
          0
         ],
         "xaxis": "x",
         "y": [
          500000,
          8000000,
          5000000,
          7000000,
          1000000,
          10000000,
          25000000,
          5000000,
          25000000,
          3000000,
          3500000,
          1000000,
          2000000,
          5000000,
          6000000,
          8000000,
          6000000,
          3000000,
          5000000,
          13000000,
          2500000,
          150000,
          12000000,
          2500000
         ],
         "yaxis": "y"
        },
        {
         "hoverlabel": {
          "namelength": 0
         },
         "hovertemplate": "club=Brighton and Hove Albion<br>goals/app=%{x}<br>value=%{y}<br>name=%{text}",
         "legendgroup": "club=Brighton and Hove Albion",
         "marker": {
          "color": "#FFA15A",
          "symbol": "circle"
         },
         "mode": "markers+text",
         "name": "club=Brighton and Hove Albion",
         "showlegend": true,
         "text": [
          "Leon Balogun",
          "Tudor Baluta",
          "Bernardo",
          "Yves Bissouma",
          "Gaëtan Bong",
          "Dan Burn",
          "David Button",
          "Aaron Connolly",
          "Shane Duffy",
          "Lewis Dunk",
          "Pascal Groß",
          "José Izquierdo",
          "Alireza Jahanbakhsh",
          "Solly March",
          "Martín Montoya",
          "Aaron Mooy",
          "Glenn Murray",
          "Davy Pröpper",
          "Ezequiel Schelotto",
          "Dale Stephens"
         ],
         "type": "scatter",
         "x": [
          0.125,
          null,
          0,
          0,
          0,
          0,
          0,
          0.18181818181818182,
          0.06976744186046512,
          0.056818181818181816,
          0.14285714285714285,
          0.10638297872340426,
          0,
          0.02531645569620253,
          0,
          0.0945945945945946,
          0.26666666666666666,
          0.01282051282051282,
          0,
          0.012345679012345678
         ],
         "xaxis": "x",
         "y": [
          2000000,
          4500000,
          100000000,
          15000000,
          2000000,
          3000000,
          1500000,
          2500000,
          12000000,
          20000000,
          10000000,
          10000000,
          12000000,
          8000000,
          8000000,
          14000000,
          3000000,
          15000000,
          2000000,
          6000000
         ],
         "yaxis": "y"
        },
        {
         "hoverlabel": {
          "namelength": 0
         },
         "hovertemplate": "club=Burnley<br>goals/app=%{x}<br>value=%{y}<br>name=%{text}",
         "legendgroup": "club=Burnley",
         "marker": {
          "color": "#19d3f3",
          "symbol": "circle"
         },
         "mode": "markers+text",
         "name": "club=Burnley",
         "showlegend": true,
         "text": [
          "Phil Bardsley",
          "Ashley Barnes",
          "Robbie Brady",
          "Jack Cork",
          "Daniel Drinkwater",
          "Ben Gibson",
          "Joe Hart",
          "Jeff Hendrick",
          "Adam Legzdins",
          "Aaron Lennon",
          "Kevin Long",
          "Matthew Lowton",
          "Dwight McNeil",
          "Ben Mee",
          "Nick Pope",
          "James Tarkowski",
          "Matej Vydra",
          "Ashley Westwood",
          "Chris Wood"
         ],
         "type": "scatter",
         "x": [
          0.024822695035460994,
          0.25333333333333335,
          0.06766917293233082,
          0.03225806451612903,
          0.04,
          0.05128205128205128,
          0,
          0.08108108108108109,
          null,
          0.08877284595300261,
          0.038461538461538464,
          0.011976047904191617,
          0.10526315789473684,
          0.02,
          0,
          0.039603960396039604,
          0.09523809523809523,
          0.035175879396984924,
          0.313953488372093
         ],
         "xaxis": "x",
         "y": [
          1500000,
          10000000,
          8000000,
          15000000,
          8000000,
          10000000,
          4000000,
          10000000,
          250000,
          5000000,
          2500000,
          5000000,
          15000000,
          10000000,
          10000000,
          18000000,
          8000000,
          7000000,
          18000000
         ],
         "yaxis": "y"
        },
        {
         "hoverlabel": {
          "namelength": 0
         },
         "hovertemplate": "club=Southampton<br>goals/app=%{x}<br>value=%{y}<br>name=%{text}",
         "legendgroup": "club=Southampton",
         "marker": {
          "color": "#FF6692",
          "symbol": "circle"
         },
         "mode": "markers+text",
         "name": "club=Southampton",
         "showlegend": true,
         "text": [
          "Jan Bednarek",
          "Ryan Bertrand",
          "Cédric Soares",
          "Sofiane Boufal",
          "Angus Gunn",
          "Pierre-Emile Højbjerg",
          "Danny Ings",
          "Harry Lewis",
          "Sam McQueen",
          "Michael Obafemi",
          "Oriol Romeu",
          "Nathan Redmond",
          "Yan Valery",
          "Jannik Vestergaard",
          "James Ward-Prowse",
          "Maya Yoshida"
         ],
         "type": "scatter",
         "x": [
          0.022222222222222223,
          0.033816425120772944,
          0.009009009009009009,
          0.04918032786885246,
          0,
          0.044444444444444446,
          0.32954545454545453,
          null,
          0,
          0.07692307692307693,
          0.024390243902439025,
          0.11702127659574468,
          0.06451612903225806,
          0.029411764705882353,
          0.10096153846153846,
          0.03896103896103896
         ],
         "xaxis": "x",
         "y": [
          15000000,
          15000000,
          12000000,
          12000000,
          10000000,
          15000000,
          15000000,
          200000,
          1000000,
          2000000,
          10000000,
          20000000,
          7000000,
          20000000,
          18000000,
          7000000
         ],
         "yaxis": "y"
        },
        {
         "hoverlabel": {
          "namelength": 0
         },
         "hovertemplate": "club=Wolverhampton Wanderers<br>goals/app=%{x}<br>value=%{y}<br>name=%{text}",
         "legendgroup": "club=Wolverhampton Wanderers",
         "marker": {
          "color": "#B6E880",
          "symbol": "circle"
         },
         "mode": "markers+text",
         "name": "club=Wolverhampton Wanderers",
         "showlegend": true,
         "text": [
          "Benny Ashley-Seal",
          "Willy Boly",
          "Oskar Buur",
          "Conor Coady",
          "Leander Dendoncker",
          "Diogo Jota",
          "Matt Doherty",
          "Morgan Gibbs-White",
          "Raúl Jiménez",
          "João Moutinho",
          "Jonny",
          "Rúben Neves",
          "Rúben Vinagre",
          "John Ruddy",
          "Rui Patrício",
          "Romain Saïss"
         ],
         "type": "scatter",
         "x": [
          null,
          0.09090909090909091,
          null,
          0,
          0.08823529411764706,
          0.21739130434782608,
          0.11320754716981132,
          0,
          0.3584905660377358,
          0.03773584905660377,
          0.0425531914893617,
          0.12,
          0,
          0,
          0,
          0.1
         ],
         "xaxis": "x",
         "y": [
          150000,
          15000000,
          100000,
          15000000,
          25000000,
          35000000,
          15000000,
          8000000,
          35000000,
          10000000,
          20000000,
          50000000,
          10000000,
          3000000,
          20000000,
          5000000
         ],
         "yaxis": "y"
        },
        {
         "hoverlabel": {
          "namelength": 0
         },
         "hovertemplate": "club=Sheffield United<br>goals/app=%{x}<br>value=%{y}<br>name=%{text}",
         "legendgroup": "club=Sheffield United",
         "marker": {
          "color": "#FF97FF",
          "symbol": "circle"
         },
         "mode": "markers+text",
         "name": "club=Sheffield United",
         "showlegend": true,
         "text": [
          "Muhamed Besic",
          "Phil Jagielka",
          "Lys Mousset",
          "Oliver Norwood"
         ],
         "type": "scatter",
         "x": [
          0,
          0.04945054945054945,
          0.11428571428571428,
          0
         ],
         "xaxis": "x",
         "y": [
          5000000,
          1000000,
          6000000,
          5000000
         ],
         "yaxis": "y"
        },
        {
         "hoverlabel": {
          "namelength": 0
         },
         "hovertemplate": "club=Liverpool U19<br>goals/app=%{x}<br>value=%{y}<br>name=%{text}",
         "legendgroup": "club=Liverpool U19",
         "marker": {
          "color": "#FECB52",
          "symbol": "circle"
         },
         "mode": "markers+text",
         "name": "club=Liverpool U19",
         "showlegend": true,
         "text": [
          "Rhian Brewster"
         ],
         "type": "scatter",
         "x": [
          null
         ],
         "xaxis": "x",
         "y": [
          4000000
         ],
         "yaxis": "y"
        },
        {
         "hoverlabel": {
          "namelength": 0
         },
         "hovertemplate": "club=Norwich City<br>goals/app=%{x}<br>value=%{y}<br>name=%{text}",
         "legendgroup": "club=Norwich City",
         "marker": {
          "color": "#636efa",
          "symbol": "circle"
         },
         "mode": "markers+text",
         "name": "club=Norwich City",
         "showlegend": true,
         "text": [
          "Sam Byram",
          "Tim Krul",
          "Patrick Roberts"
         ],
         "type": "scatter",
         "x": [
          0,
          0,
          0
         ],
         "xaxis": "x",
         "y": [
          3500000,
          4000000,
          5000000
         ],
         "yaxis": "y"
        },
        {
         "hoverlabel": {
          "namelength": 0
         },
         "hovertemplate": "club=Aston Villa<br>goals/app=%{x}<br>value=%{y}<br>name=%{text}",
         "legendgroup": "club=Aston Villa",
         "marker": {
          "color": "#EF553B",
          "symbol": "circle"
         },
         "mode": "markers+text",
         "name": "club=Aston Villa",
         "showlegend": true,
         "text": [
          "Douglas Luiz",
          "Kortney Hause",
          "Tom Heaton",
          "Tyrone Mings",
          "Matt Targett"
         ],
         "type": "scatter",
         "x": [
          0.15384615384615385,
          null,
          0,
          0.03125,
          0.038461538461538464
         ],
         "xaxis": "x",
         "y": [
          10000000,
          3000000,
          6000000,
          18000000,
          10000000
         ],
         "yaxis": "y"
        },
        {
         "hoverlabel": {
          "namelength": 0
         },
         "hovertemplate": "club=West Bromwich Albion<br>goals/app=%{x}<br>value=%{y}<br>name=%{text}",
         "legendgroup": "club=West Bromwich Albion",
         "marker": {
          "color": "#00cc96",
          "symbol": "circle"
         },
         "mode": "markers+text",
         "name": "club=West Bromwich Albion",
         "showlegend": true,
         "text": [
          "Dwight Gayle"
         ],
         "type": "scatter",
         "x": [
          0.20388349514563106
         ],
         "xaxis": "x",
         "y": [
          15000000
         ],
         "yaxis": "y"
        },
        {
         "hoverlabel": {
          "namelength": 0
         },
         "hovertemplate": "club=Luton Town<br>goals/app=%{x}<br>value=%{y}<br>name=%{text}",
         "legendgroup": "club=Luton Town",
         "marker": {
          "color": "#ab63fa",
          "symbol": "circle"
         },
         "mode": "markers+text",
         "name": "club=Luton Town",
         "showlegend": true,
         "text": [
          "Isaiah Brown"
         ],
         "type": "scatter",
         "x": [
          0
         ],
         "xaxis": "x",
         "y": [
          3000000
         ],
         "yaxis": "y"
        }
       ],
       "layout": {
        "height": 600,
        "legend": {
         "tracegroupgap": 0
        },
        "template": {
         "data": {
          "bar": [
           {
            "error_x": {
             "color": "#2a3f5f"
            },
            "error_y": {
             "color": "#2a3f5f"
            },
            "marker": {
             "line": {
              "color": "#E5ECF6",
              "width": 0.5
             }
            },
            "type": "bar"
           }
          ],
          "barpolar": [
           {
            "marker": {
             "line": {
              "color": "#E5ECF6",
              "width": 0.5
             }
            },
            "type": "barpolar"
           }
          ],
          "carpet": [
           {
            "aaxis": {
             "endlinecolor": "#2a3f5f",
             "gridcolor": "white",
             "linecolor": "white",
             "minorgridcolor": "white",
             "startlinecolor": "#2a3f5f"
            },
            "baxis": {
             "endlinecolor": "#2a3f5f",
             "gridcolor": "white",
             "linecolor": "white",
             "minorgridcolor": "white",
             "startlinecolor": "#2a3f5f"
            },
            "type": "carpet"
           }
          ],
          "choropleth": [
           {
            "colorbar": {
             "outlinewidth": 0,
             "ticks": ""
            },
            "type": "choropleth"
           }
          ],
          "contour": [
           {
            "colorbar": {
             "outlinewidth": 0,
             "ticks": ""
            },
            "colorscale": [
             [
              0,
              "#0d0887"
             ],
             [
              0.1111111111111111,
              "#46039f"
             ],
             [
              0.2222222222222222,
              "#7201a8"
             ],
             [
              0.3333333333333333,
              "#9c179e"
             ],
             [
              0.4444444444444444,
              "#bd3786"
             ],
             [
              0.5555555555555556,
              "#d8576b"
             ],
             [
              0.6666666666666666,
              "#ed7953"
             ],
             [
              0.7777777777777778,
              "#fb9f3a"
             ],
             [
              0.8888888888888888,
              "#fdca26"
             ],
             [
              1,
              "#f0f921"
             ]
            ],
            "type": "contour"
           }
          ],
          "contourcarpet": [
           {
            "colorbar": {
             "outlinewidth": 0,
             "ticks": ""
            },
            "type": "contourcarpet"
           }
          ],
          "heatmap": [
           {
            "colorbar": {
             "outlinewidth": 0,
             "ticks": ""
            },
            "colorscale": [
             [
              0,
              "#0d0887"
             ],
             [
              0.1111111111111111,
              "#46039f"
             ],
             [
              0.2222222222222222,
              "#7201a8"
             ],
             [
              0.3333333333333333,
              "#9c179e"
             ],
             [
              0.4444444444444444,
              "#bd3786"
             ],
             [
              0.5555555555555556,
              "#d8576b"
             ],
             [
              0.6666666666666666,
              "#ed7953"
             ],
             [
              0.7777777777777778,
              "#fb9f3a"
             ],
             [
              0.8888888888888888,
              "#fdca26"
             ],
             [
              1,
              "#f0f921"
             ]
            ],
            "type": "heatmap"
           }
          ],
          "heatmapgl": [
           {
            "colorbar": {
             "outlinewidth": 0,
             "ticks": ""
            },
            "colorscale": [
             [
              0,
              "#0d0887"
             ],
             [
              0.1111111111111111,
              "#46039f"
             ],
             [
              0.2222222222222222,
              "#7201a8"
             ],
             [
              0.3333333333333333,
              "#9c179e"
             ],
             [
              0.4444444444444444,
              "#bd3786"
             ],
             [
              0.5555555555555556,
              "#d8576b"
             ],
             [
              0.6666666666666666,
              "#ed7953"
             ],
             [
              0.7777777777777778,
              "#fb9f3a"
             ],
             [
              0.8888888888888888,
              "#fdca26"
             ],
             [
              1,
              "#f0f921"
             ]
            ],
            "type": "heatmapgl"
           }
          ],
          "histogram": [
           {
            "marker": {
             "colorbar": {
              "outlinewidth": 0,
              "ticks": ""
             }
            },
            "type": "histogram"
           }
          ],
          "histogram2d": [
           {
            "colorbar": {
             "outlinewidth": 0,
             "ticks": ""
            },
            "colorscale": [
             [
              0,
              "#0d0887"
             ],
             [
              0.1111111111111111,
              "#46039f"
             ],
             [
              0.2222222222222222,
              "#7201a8"
             ],
             [
              0.3333333333333333,
              "#9c179e"
             ],
             [
              0.4444444444444444,
              "#bd3786"
             ],
             [
              0.5555555555555556,
              "#d8576b"
             ],
             [
              0.6666666666666666,
              "#ed7953"
             ],
             [
              0.7777777777777778,
              "#fb9f3a"
             ],
             [
              0.8888888888888888,
              "#fdca26"
             ],
             [
              1,
              "#f0f921"
             ]
            ],
            "type": "histogram2d"
           }
          ],
          "histogram2dcontour": [
           {
            "colorbar": {
             "outlinewidth": 0,
             "ticks": ""
            },
            "colorscale": [
             [
              0,
              "#0d0887"
             ],
             [
              0.1111111111111111,
              "#46039f"
             ],
             [
              0.2222222222222222,
              "#7201a8"
             ],
             [
              0.3333333333333333,
              "#9c179e"
             ],
             [
              0.4444444444444444,
              "#bd3786"
             ],
             [
              0.5555555555555556,
              "#d8576b"
             ],
             [
              0.6666666666666666,
              "#ed7953"
             ],
             [
              0.7777777777777778,
              "#fb9f3a"
             ],
             [
              0.8888888888888888,
              "#fdca26"
             ],
             [
              1,
              "#f0f921"
             ]
            ],
            "type": "histogram2dcontour"
           }
          ],
          "mesh3d": [
           {
            "colorbar": {
             "outlinewidth": 0,
             "ticks": ""
            },
            "type": "mesh3d"
           }
          ],
          "parcoords": [
           {
            "line": {
             "colorbar": {
              "outlinewidth": 0,
              "ticks": ""
             }
            },
            "type": "parcoords"
           }
          ],
          "pie": [
           {
            "automargin": true,
            "type": "pie"
           }
          ],
          "scatter": [
           {
            "marker": {
             "colorbar": {
              "outlinewidth": 0,
              "ticks": ""
             }
            },
            "type": "scatter"
           }
          ],
          "scatter3d": [
           {
            "line": {
             "colorbar": {
              "outlinewidth": 0,
              "ticks": ""
             }
            },
            "marker": {
             "colorbar": {
              "outlinewidth": 0,
              "ticks": ""
             }
            },
            "type": "scatter3d"
           }
          ],
          "scattercarpet": [
           {
            "marker": {
             "colorbar": {
              "outlinewidth": 0,
              "ticks": ""
             }
            },
            "type": "scattercarpet"
           }
          ],
          "scattergeo": [
           {
            "marker": {
             "colorbar": {
              "outlinewidth": 0,
              "ticks": ""
             }
            },
            "type": "scattergeo"
           }
          ],
          "scattergl": [
           {
            "marker": {
             "colorbar": {
              "outlinewidth": 0,
              "ticks": ""
             }
            },
            "type": "scattergl"
           }
          ],
          "scattermapbox": [
           {
            "marker": {
             "colorbar": {
              "outlinewidth": 0,
              "ticks": ""
             }
            },
            "type": "scattermapbox"
           }
          ],
          "scatterpolar": [
           {
            "marker": {
             "colorbar": {
              "outlinewidth": 0,
              "ticks": ""
             }
            },
            "type": "scatterpolar"
           }
          ],
          "scatterpolargl": [
           {
            "marker": {
             "colorbar": {
              "outlinewidth": 0,
              "ticks": ""
             }
            },
            "type": "scatterpolargl"
           }
          ],
          "scatterternary": [
           {
            "marker": {
             "colorbar": {
              "outlinewidth": 0,
              "ticks": ""
             }
            },
            "type": "scatterternary"
           }
          ],
          "surface": [
           {
            "colorbar": {
             "outlinewidth": 0,
             "ticks": ""
            },
            "colorscale": [
             [
              0,
              "#0d0887"
             ],
             [
              0.1111111111111111,
              "#46039f"
             ],
             [
              0.2222222222222222,
              "#7201a8"
             ],
             [
              0.3333333333333333,
              "#9c179e"
             ],
             [
              0.4444444444444444,
              "#bd3786"
             ],
             [
              0.5555555555555556,
              "#d8576b"
             ],
             [
              0.6666666666666666,
              "#ed7953"
             ],
             [
              0.7777777777777778,
              "#fb9f3a"
             ],
             [
              0.8888888888888888,
              "#fdca26"
             ],
             [
              1,
              "#f0f921"
             ]
            ],
            "type": "surface"
           }
          ],
          "table": [
           {
            "cells": {
             "fill": {
              "color": "#EBF0F8"
             },
             "line": {
              "color": "white"
             }
            },
            "header": {
             "fill": {
              "color": "#C8D4E3"
             },
             "line": {
              "color": "white"
             }
            },
            "type": "table"
           }
          ]
         },
         "layout": {
          "annotationdefaults": {
           "arrowcolor": "#2a3f5f",
           "arrowhead": 0,
           "arrowwidth": 1
          },
          "coloraxis": {
           "colorbar": {
            "outlinewidth": 0,
            "ticks": ""
           }
          },
          "colorscale": {
           "diverging": [
            [
             0,
             "#8e0152"
            ],
            [
             0.1,
             "#c51b7d"
            ],
            [
             0.2,
             "#de77ae"
            ],
            [
             0.3,
             "#f1b6da"
            ],
            [
             0.4,
             "#fde0ef"
            ],
            [
             0.5,
             "#f7f7f7"
            ],
            [
             0.6,
             "#e6f5d0"
            ],
            [
             0.7,
             "#b8e186"
            ],
            [
             0.8,
             "#7fbc41"
            ],
            [
             0.9,
             "#4d9221"
            ],
            [
             1,
             "#276419"
            ]
           ],
           "sequential": [
            [
             0,
             "#0d0887"
            ],
            [
             0.1111111111111111,
             "#46039f"
            ],
            [
             0.2222222222222222,
             "#7201a8"
            ],
            [
             0.3333333333333333,
             "#9c179e"
            ],
            [
             0.4444444444444444,
             "#bd3786"
            ],
            [
             0.5555555555555556,
             "#d8576b"
            ],
            [
             0.6666666666666666,
             "#ed7953"
            ],
            [
             0.7777777777777778,
             "#fb9f3a"
            ],
            [
             0.8888888888888888,
             "#fdca26"
            ],
            [
             1,
             "#f0f921"
            ]
           ],
           "sequentialminus": [
            [
             0,
             "#0d0887"
            ],
            [
             0.1111111111111111,
             "#46039f"
            ],
            [
             0.2222222222222222,
             "#7201a8"
            ],
            [
             0.3333333333333333,
             "#9c179e"
            ],
            [
             0.4444444444444444,
             "#bd3786"
            ],
            [
             0.5555555555555556,
             "#d8576b"
            ],
            [
             0.6666666666666666,
             "#ed7953"
            ],
            [
             0.7777777777777778,
             "#fb9f3a"
            ],
            [
             0.8888888888888888,
             "#fdca26"
            ],
            [
             1,
             "#f0f921"
            ]
           ]
          },
          "colorway": [
           "#636efa",
           "#EF553B",
           "#00cc96",
           "#ab63fa",
           "#FFA15A",
           "#19d3f3",
           "#FF6692",
           "#B6E880",
           "#FF97FF",
           "#FECB52"
          ],
          "font": {
           "color": "#2a3f5f"
          },
          "geo": {
           "bgcolor": "white",
           "lakecolor": "white",
           "landcolor": "#E5ECF6",
           "showlakes": true,
           "showland": true,
           "subunitcolor": "white"
          },
          "hoverlabel": {
           "align": "left"
          },
          "hovermode": "closest",
          "mapbox": {
           "style": "light"
          },
          "paper_bgcolor": "white",
          "plot_bgcolor": "#E5ECF6",
          "polar": {
           "angularaxis": {
            "gridcolor": "white",
            "linecolor": "white",
            "ticks": ""
           },
           "bgcolor": "#E5ECF6",
           "radialaxis": {
            "gridcolor": "white",
            "linecolor": "white",
            "ticks": ""
           }
          },
          "scene": {
           "xaxis": {
            "backgroundcolor": "#E5ECF6",
            "gridcolor": "white",
            "gridwidth": 2,
            "linecolor": "white",
            "showbackground": true,
            "ticks": "",
            "zerolinecolor": "white"
           },
           "yaxis": {
            "backgroundcolor": "#E5ECF6",
            "gridcolor": "white",
            "gridwidth": 2,
            "linecolor": "white",
            "showbackground": true,
            "ticks": "",
            "zerolinecolor": "white"
           },
           "zaxis": {
            "backgroundcolor": "#E5ECF6",
            "gridcolor": "white",
            "gridwidth": 2,
            "linecolor": "white",
            "showbackground": true,
            "ticks": "",
            "zerolinecolor": "white"
           }
          },
          "shapedefaults": {
           "line": {
            "color": "#2a3f5f"
           }
          },
          "ternary": {
           "aaxis": {
            "gridcolor": "white",
            "linecolor": "white",
            "ticks": ""
           },
           "baxis": {
            "gridcolor": "white",
            "linecolor": "white",
            "ticks": ""
           },
           "bgcolor": "#E5ECF6",
           "caxis": {
            "gridcolor": "white",
            "linecolor": "white",
            "ticks": ""
           }
          },
          "title": {
           "x": 0.05
          },
          "xaxis": {
           "automargin": true,
           "gridcolor": "white",
           "linecolor": "white",
           "ticks": "",
           "title": {
            "standoff": 15
           },
           "zerolinecolor": "white",
           "zerolinewidth": 2
          },
          "yaxis": {
           "automargin": true,
           "gridcolor": "white",
           "linecolor": "white",
           "ticks": "",
           "title": {
            "standoff": 15
           },
           "zerolinecolor": "white",
           "zerolinewidth": 2
          }
         }
        },
        "title": {
         "text": "Goals/app vs Value"
        },
        "xaxis": {
         "anchor": "y",
         "domain": [
          0,
          1
         ],
         "title": {
          "text": "goals/app"
         }
        },
        "yaxis": {
         "anchor": "x",
         "domain": [
          0,
          1
         ],
         "title": {
          "text": "value"
         }
        }
       }
      },
      "text/html": [
       "<div>\n",
       "        \n",
       "        \n",
       "            <div id=\"8c7b9f97-b1a8-4a1e-9d7f-436e214f9597\" class=\"plotly-graph-div\" style=\"height:600px; width:100%;\"></div>\n",
       "            <script type=\"text/javascript\">\n",
       "                require([\"plotly\"], function(Plotly) {\n",
       "                    window.PLOTLYENV=window.PLOTLYENV || {};\n",
       "                    \n",
       "                if (document.getElementById(\"8c7b9f97-b1a8-4a1e-9d7f-436e214f9597\")) {\n",
       "                    Plotly.newPlot(\n",
       "                        '8c7b9f97-b1a8-4a1e-9d7f-436e214f9597',\n",
       "                        [{\"hoverlabel\": {\"namelength\": 0}, \"hovertemplate\": \"club=without club<br>goals/app=%{x}<br>value=%{y}<br>name=%{text}\", \"legendgroup\": \"club=without club\", \"marker\": {\"color\": \"#636efa\", \"symbol\": \"circle\"}, \"mode\": \"markers+text\", \"name\": \"club=without club\", \"showlegend\": true, \"text\": [\"Rolando Aarons\", \"Abdul Rahman Baba\", \"Adrien Silva\", \"Benik Afobe\", \"Daniel Agyei\", \"Soufyan Ahannach\", \"Chuba Akpom\", \"Alberto Moreno\", \"Aleix Garc\\u00eda\", \"Alexis Mac Allister\", \"Paulo Alves\", \"Luke Amos\", \"Ethan Ampadu\", \"Nordin Amrabat\", \"Tom Anderson\", \"Florin Andone\", \"Antonio Valencia\", \"Billy Arce\", \"Adam Armstrong\", \"Marko Arnautovic\", \"Harry Arter\", \"Daniel Arzani\", \"Charlie Austin\", \"Taiwo Awoniyi\", \"Floyd Ayit\\u00e9\", \"Ryan Babel\", \"Tiemou\\u00e9 Bakayoko\", \"Lewis Baker\", \"Sam Baldock\", \"Antonio Barreca\", \"Danny Batth\", \"Asmir Begovic\", \"Yohan Benalouane\", \"Joe Bennett\", \"Marcus Bettinelli\", \"Daley Blind\", \"Jeremie Boga\", \"Adam Bogdan\", \"Yohan Cabaye\", \"Gary Cahill\", \"Tom Cairney\", \"Lee Camp\", \"Joel Campbell\", \"Emre Can\", \"Baily Cargill\", \"Guido Carrillo\", \"Cameron Carter-Vickers\", \"Ivan Cavaleiro\", \"Trevoh Chalobah\", \"Chicharito\", \"Omar Bogle\", \"Joshua Bohui\", \"Yannick Bolasie\", \"Luke Bolton\", \"Brian Murphy\", \"Marcus Browne\", \"Tyias Browning\", \"Bruno\", \"Joe Bryan\", \"Craig Bryson\", \"Marcin Bulka\", \"Harry Burgoyne\", \"Reece Burke\", \"Cyrus Christie\", \"Ibrahima Ciss\\u00e9\", \"Jordy Clasie\", \"Jack Colback\", \"Will Collar\", \"Bradley Collins\", \"Thibaut Courtois\", \"Cristi\\u00e1n Cuevas\", \"Josh Cullen\", \"Greg Cunningham\", \"Lo\\u00efc Damour\", \"Danilo\", \"Matteo Darmian\", \"Steven Davis\", \"Bobby De Cordova-Reid\", \"Luca De La Torre\", \"Jermain Defoe\", \"Steven Defour\", \"Mousa Demb\\u00e9l\\u00e9\", \"Jason Denayer\", \"Laurent Depoitre\", \"Sylvain Deslandes\", \"Fousseni Diabat\\u00e9\", \"Adama Diakhaby\", \"Mohamed Diam\\u00e9\", \"Grady Diangana\", \"Brahim D\\u00edaz\", \"Diego Cavalieri\", \"Brice Dja Dj\\u00e9dj\\u00e9\", \"Barry Douglas\", \"Kieran Dowell\", \"Vlad Dragomir\", \"Aleksandar Dragovic\", \"Erik Durm\", \"Ethan Ebanks-Landell\", \"Bruno Ecuele Manga\", \"Eddie Nketiah\", \"Rarmani Edmonds-Green\", \"Eduardo\", \"Callum Elder\", \"Bright Enobakhare\", \"Neil Etheridge\", \"Cesc F\\u00e0bregas\", \"Fabri\", \"Adam Federici\", \"Liam Feeney\", \"Marouane Fellaini\", \"Edimilson Fernandes\", \"Jon Flanagan\", \"Fraser Forster\", \"Paul Gladon\", \"Connor Goldson\", \"Claudio Gomes\", \"Kamil Grabara\", \"Lewis Grabban\", \"Jordan Graham\", \"Karlan Grant\", \"Robert Green\", \"Marko Grujic\", \"Idrissa Gueye\", \"Aron Gunnarsson\", \"Viktor Gy\\u00f6keres\", \"Florent Hadergjonaj\", \"Massadio Haidara\", \"Sead Haksabanovic\", \"Greg Halford\", \"Ben Hamer\", \"Freddy Woodman\", \"Ramiro Funes Mori\", \"Manolo Gabbiadini\", \"Sam Gallagher\", \"Brendan Galloway\", \"Luke Garbutt\", \"Florin Gardos\", \"Anthony Georgiou\", \"Rachid Ghezzal\", \"Charlie Gilmour\", \"Kadeem Harris\", \"Jack Harrison\", \"Eden Hazard\", \"Rhys Healey\", \"Michael Hector\", \"Michael Hefele\", \"H\\u00e9lder Costa\", \"Tomer Hemed\", \"Dion Henry\", \"Ander Herrera\", \"Jake Hesketh\", \"Mateusz Hewelt\", \"Gonzalo Higua\\u00edn\", \"Jordy Hiwula-Mayifuila\", \"Tommie Hoban\", \"Wesley Hoedt\", \"Jonathan Hogg\", \"Tareiq Holmes-Dennis\", \"Fraser Hornby\", \"Jordan Hugill\", \"Cameron Humphreys-Grant\", \"Uwe H\\u00fcnemeier\", \"Emerson Hyndman\", \"Vicente Iborra\", \"Rohan Ince\", \"Ryan Inniss\", \"Jaroslaw Jach\", \"Vincent Janssen\", \"Jazz Richards\", \"Carl Jenkinson\", \"Jes\\u00fas G\\u00e1mez\", \"Jo\\u00e3o M\\u00e1rio\", \"Jo\\u00e3o Virg\\u00ednia\", \"Joel Pereira\", \"Stefan Johansen\", \"Declan John\", \"George Johnston\", \"Sam Johnstone\", \"Jordan Williams\", \"Joselu\", \"Josh Dasilva\", \"Josh Sims\", \"Juninho Bacuna\", \"Elias Kachunga\", \"Sullay Kaikai\", \"Mattias Kait\", \"Tomas Kalas\", \"Aboubakar Kamara\", \"Bartosz Kapustka\", \"Loris Karius\", \"Orestis Karnezis\", \"Beram Kayal\", \"Olarenwaju Kayode\", \"Neeskens Kebano\", \"Kenedy\", \"Matthew Kennedy\", \"Jonjoe Kenny\", \"Ryan Kent\", \"Davy Klaassen\", \"Ragnar Klavan\", \"Anthony Knockaert\", \"Vincent Kompany\", \"Terence Kongolo\", \"Laurent Koscielny\", \"Shayne Lavery\", \"Achraf Lazaar\", \"Maxime Le Marchand\", \"Leandro Bacuna\", \"Chung-Yong Lee\", \"Mario Lemina\", \"L\\u00e9o Bonatini\", \"Thakgalo Leshabela\", \"Stephan Lichtsteiner\", \"Anders Lindegaard\", \"Fernando Llorente\", \"J\\u00fcrgen Locadia\", \"Ademola Lookman\", \"Chris L\\u00f6we\", \"Lucas Perri\", \"Lucas Piazon\", \"Romelu Lukaku\", \"Dodi Lukebakio\", \"Gary Madine\", \"Niki M\\u00e4enp\\u00e4\\u00e4\", \"Pablo Maffeo\", \"Connor Mahoney\", \"Scott Malone\", \"Eliaquim Mangala\", \"Marcelo Djal\\u00f3\", \"Lazar Markovic\", \"Dean Marney\", \"Ben Marshall\", \"Brandon Mason\", \"Conor Masterson\", \"Ales Mateju\", \"Rabbi Matondo\", \"Matty Daly\", \"Alfie Mawson\", \"Chancel Mbemba\", \"Isaac Mbenza\", \"Kevin McDonald\", \"Allan McGregor\", \"Ibrahim Meite\", \"Nathaniel Mendez-Laing\", \"Mikel Merino\", \"Matt Miazga\", \"Simon Mignolet\", \"Kevin Mirallas\", \"Demetri Mitchell\", \"Aleksandar Mitrovic\", \"Henrikh Mkhitaryan\", \"Jan Mlakar\", \"Mohamed Elneny\", \"Mohamed Elyounoussi\", \"Jayson Molumby\", \"\\u00c1lvaro Morata\", \"Marlos Moreno\", \"Sean Morrison\", \"Victor Moses\", \"Steve Mounie\", \"Arijanet Muric\", \"Josh Murphy\", \"Ahmed Musa\", \"Charly Musonda\", \"Jordon Mutch\", \"Alfred N'Diaye\", \"Nacho Monreal\", \"Samir Nasri\", \"Marc Navarro\", \"Mikael Ndjoli\", \"Didier Ndong\", \"Georges-K\\u00e9vin Nkoudou\", \"Lukas Nmecha\", \"H\\u00e5vard Nordtveit\", \"Magnus Norman\", \"Mathias Normann\", \"Will Norris\", \"Lewis O'Brien\", \"Stuart O'Keefe\", \"Aiden O'Neill\", \"Matt O'Riley\", \"Pedro Obiang\", \"Denis Odoi\", \"Nnamdi Ofoborh\", \"Phil Ofosu-Ayeh\", \"Stefano Okaka\", \"Shinji Okazaki\", \"Ola Aina\", \"Prince Oniangu\\u00e9\", \"Josh Onomah\", \"Henry Onyekuru\", \"Jordi Osei-Tutu\", \"David Ospina\", \"Leo Ostigard\", \"Obbi Oular\\u00e9\", \"Ovie Ejaria\", \"Reece Oxford\", \"Kasey Palmer\", \"Erik Palmer-Brown\", \"Costel Pantilimon\", \"Mario Pasalic\", \"Josh Pask\", \"Callum Paterson\", \"Jack Payne\", \"Lee Peltier\", \"Adalberto Pe\\u00f1aranda\", \"Matthew Pennington\", \"Pedro Pereira\", \"Lucas P\\u00e9rez\", \"Nathaniel Phillips\", \"J\\u00e9r\\u00e9my Pied\", \"Anthony Pilkington\", \"Julio Pleguezuelo\", \"Pote\", \"Alex Pritchard\", \"Marc Pugh\", \"Jason Puncheon\", \"Collin Quaner\", \"Rafa Mir\", \"Rafael Camacho\", \"Erdal Rakip\", \"Joe Ralls\", \"Ramadan Sobhi\", \"Sandro Ram\\u00edrez\", \"Aaron Ramsey\", \"Connor Randall\", \"Tim Ream\", \"Harrison Reed\", \"Jeff Reine-Ad\\u00e9la\\u00efde\", \"Joel Robles\", \"Marek Rod\\u00e1k\", \"Roderick Miranda\", \"Connor Ronan\", \"Salom\\u00f3n Rond\\u00f3n\", \"Rui Fonte\", \"Abdelhamid Sabiri\", \"Henri Saivet\", \"Bakary Sako\", \"Martin Samuelsen\", \"Philippe Sandler\", \"Santi Cazorla\", \"Sean Scannell\", \"Christopher Schindler\", \"Ryan Schofield\", \"Andr\\u00e9 Sch\\u00fcrrle\", \"Kyle Scott\", \"Matz Sels\", \"Ken Sema\", \"Jean Michael Seri\", \"Sheyi Ojo\", \"Jerome Sinclair\", \"Jiri Skalak\", \"Islam Slimani\", \"Chris Smalling\", \"Alex Smithies\", \"Sol Bamba\", \"Pape Souar\\u00e9\", \"Julian Speroni\", \"Jon Gorenc Stankovic\", \"Jason Steele\", \"Dujon Sterling\", \"Jamie Sterry\", \"Steven Sessegnon\", \"Ben Stevenson\", \"Carl Stewart\", \"Daniel Sturridge\", \"Denis Su\\u00e1rez\", \"Sam Surridge\", \"Markus Suttner\", \"Alexander S\\u00f8rloth\", \"Dusan Tadic\", \"Shani Tarashaj\", \"Percy Tau\", \"Tayo Edun\", \"George Thomas\", \"Jon Dagur Thorsteinsson\", \"Lee Tomlin\", \"Toni Mart\\u00ednez\", \"Tosin Adarabioyo\", \"Yaya Tour\\u00e9\", \"Richard Towell\", \"Armand Traore\", \"Kieran Trippier\", \"Leonardo Ulloa\", \"Rajiv van La Parra\", \"Luciano Vietto\", \"Nikola Vlasic\", \"Sam Vokes\", \"Anton Walkes\", \"Stephen Ward\", \"Nahki Wells\", \"Ben White\", \"Yanic Wildschut\", \"Jonathan Williams\", \"Ben Wilmot\", \"Ben Woodburn\", \"Cauley Woodrow\", \"Andr\\u00e9-Frank Zambo Anguissa\", \"Zanka\", \"Davide Zappacosta\", \"Mauro Z\\u00e1rate\", \"Kenneth Zohore\", \"Michal Zyro\"], \"type\": \"scatter\", \"x\": [0.1111111111111111, 0.0, 0.0, 0.15873015873015872, 0.0, null, 0.0, 0.03333333333333333, 0.0, null, null, 0.0, 0.0, 0.0, null, 0.15384615384615385, 0.07384615384615385, null, 0.0, 0.23369565217391305, 0.031914893617021274, null, 0.32075471698113206, null, 0.0625, 0.1588785046728972, 0.06896551724137931, null, 0.0, 0.0, null, 0.003968253968253968, 0.0, 0.0, 0.0, 0.044444444444444446, 0.0, 0.0, 0.14857142857142858, 0.07479224376731301, 0.047619047619047616, 0.0, 0.13043478260869565, 0.08695652173913043, 0.0, 0.0, null, 0.13043478260869565, null, 0.33544303797468356, null, null, 0.09243697478991597, null, null, null, 0.0, 0.0, 0.0, null, null, null, 0.0, 0.0, 0.0, 0.02631578947368421, 0.05027932960893855, null, null, 0.0, null, 0.0, 0.0, 0.0, 0.11764705882352941, 0.016666666666666666, 0.05555555555555555, 0.18518518518518517, null, 0.32661290322580644, 0.0392156862745098, 0.04938271604938271, 0.0, 0.10714285714285714, null, 0.0, 0.0, 0.07531380753138076, 0.0, 0.0, null, null, null, 0.0, null, 0.0, 0.0, null, 0.0, 0.125, null, null, null, null, 0.0, 0.14285714285714285, 0.0, 0.0, null, 0.1423076923076923, 0.0, 0.021739130434782608, 0.0, null, 0.0, null, null, 0.041666666666666664, null, 0.3076923076923077, 0.0, 0.0, 0.022388059701492536, 0.0392156862745098, null, 0.0, 0.0, null, 0.0, 0.0, null, 0.07272727272727272, 0.19607843137254902, 0.045454545454545456, 0.0, 0.0, 0.0, null, 0.05263157894736842, null, 0.07692307692307693, null, 0.3469387755102041, 0.0, null, 0.0, 0.04, 0.125, null, 0.09090909090909091, 0.0, null, 0.35714285714285715, null, null, 0.0, 0.0, null, null, 0.0, null, 0.0, 0.0, 0.1111111111111111, null, null, null, 0.06451612903225806, 0.0, 0.03225806451612903, 0.0, 0.15384615384615385, null, 0.0, 0.0, 0.0, null, null, null, 0.14705882352941177, null, 0.0, 0.047619047619047616, 0.02564102564102564, 0.0, null, 0.0, 0.23076923076923078, null, 0.0, 0.0, 0.02702702702702703, null, 0.0, 0.07407407407407407, null, 0.0, null, 0.0, 0.02564102564102564, 0.06944444444444445, 0.06792452830188679, 0.022222222222222223, 0.08627450980392157, null, null, 0.0, 0.0625, 0.0761904761904762, 0.043478260869565216, 0.0, null, 0.0, 0.0, 0.2463768115942029, 0.08823529411764706, 0.027777777777777776, 0.0, null, 0.0, 0.44841269841269843, 0.0, 0.0, null, null, null, 0.0, 0.0, null, 0.125, 0.041666666666666664, null, 0.0, null, null, null, 0.0, 0.075, 0.0, 0.045454545454545456, 0.024390243902439025, 0.0, null, 0.2, 0.041666666666666664, 0.0, 0.0, 0.19205298013245034, 0.0, 0.2727272727272727, 0.16666666666666666, null, 0.0, 0.0, null, 0.3404255319148936, null, 0.06, 0.09090909090909091, 0.15254237288135594, null, 0.07894736842105263, 0.09523809523809523, 0.0, 0.08974358974358974, 0.03225806451612903, 0.0374331550802139, 0.16363636363636364, 0.0, null, 0.03225806451612903, 0.0, 0.0, 0.0, null, null, 0.0, null, 0.07142857142857142, 0.0, null, 0.03296703296703297, 0.0, null, null, 0.14893617021276595, 0.12280701754385964, 0.0, null, 0.0, null, null, 0.0, null, 0.0, 0.0, 0.0, 0.0, null, 0.0, null, null, 0.14814814814814814, null, 0.0, null, 0.14285714285714285, null, 0.15384615384615385, null, 0.0, 0.18666666666666668, null, null, 0.0625, 0.07462686567164178, 0.11764705882352941, 0.0, null, 0.0, null, 0.0, 0.044444444444444446, 0.0, 0.15267175572519084, 0.0, 0.0, 0.0, null, 0.0, null, null, null, 0.25, null, 0.0, 0.2, 0.10638297872340426, null, null, 0.1937984496124031, null, 0.013513513513513514, null, 0.25, null, null, 0.058823529411764705, 0.03125, 0.0, 0.0, null, 0.20512820512820512, 0.0547945205479452, null, 0.14285714285714285, 0.0, 0.0, 0.09090909090909091, null, null, 0.0, null, null, null, 0.3486238532110092, 0.0, 0.0, 0.0, 0.0, 0.14925373134328357, null, null, null, null, null, 0.0, null, null, 0.26956521739130435, null, 0.010309278350515464, 0.018691588785046728, 0.19791666666666666, 0.07894736842105263, 0.05, 0.0, 0.1504424778761062, null, 0.03508771929824561, 0.0, null, null, 0.0, 0.0, 0.0, 0.16666666666666666, 0.0, 0.04838709677419355, 0.038461538461538464, 0.20930232558139536, 0.05263157894736842, null], \"xaxis\": \"x\", \"y\": [500000, 5000000, 13000000, 8000000, 250000, 450000, 3000000, 9000000, 3000000, 12500000, 100000, 750000, 10000000, 5000000, 250000, 4500000, 5000000, 600000, 2500000, 32000000, 7000000, 1000000, 5000000, 4500000, 1500000, 5000000, 35000000, 4000000, 1500000, 7000000, 4000000, 7000000, 1000000, 3000000, 3500000, 24000000, 6000000, 500000, 2000000, 6000000, 15000000, 2000000, 2500000, 33000000, 250000, 7500000, 2500000, 10000000, 3000000, 12000000, 750000, 250000, 6000000, 1500000, 150000, 750000, 850000, 75000000, 6000000, 1000000, 500000, 200000, 2500000, 3500000, 750000, 3000000, 3000000, 50000, 250000, 55000000, 550000, 1000000, 3000000, 750000, 30000000, 10000000, 2000000, 10000000, 500000, 1750000, 5000000, 8000000, 15000000, 3500000, 100000, 3000000, 8000000, 5000000, 5000000, 17000000, 500000, 700000, 3500000, 3000000, 1500000, 9000000, 2000000, 250000, 3000000, 8000000, 150000, 20000000, 250000, 500000, 6000000, 12000000, 6000000, 350000, 750000, 9500000, 8000000, 1500000, 8000000, 600000, 3250000, 400000, 5000000, 4500000, 500000, 5000000, 175000, 20000000, 30000000, 2500000, 500000, 7000000, 1000000, 1200000, 500000, 500000, 2000000, 8000000, 12000000, 3000000, 1500000, 750000, 650000, 50000, 8000000, 250000, 1000000, 4000000, 150000000, 250000, 3000000, 1000000, 12000000, 1500000, 50000, 25000000, 200000, 25000, 35000000, 250000, 500000, 8000000, 3500000, 250000, 650000, 6000000, 350000, 400000, 1500000, 9000000, 500000, 150000, 850000, 8000000, 750000, 2000000, 500000, 18000000, 150000, 850000, 4000000, 800000, 250000, 7000000, 250000, 4000000, 750000, 2000000, 3500000, 3000000, 350000, 200000, 6000000, 2750000, 2500000, 5000000, 1500000, 1500000, 2000000, 3000000, 10000000, 375000, 8000000, 4500000, 22000000, 1500000, 8000000, 6500000, 12000000, 5000000, 50000, 1000000, 3500000, 3000000, 800000, 15000000, 4000000, 100000, 1500000, 500000, 5000000, 10000000, 20000000, 1500000, 300000, 1500000, 75000000, 18000000, 2500000, 500000, 3500000, 750000, 3500000, 10000000, 500000, 4000000, 1000000, 1500000, 50000, 100000, 1700000, 9000000, 150000, 12000000, 3500000, 7000000, 3000000, 750000, 50000, 3000000, 15000000, 3000000, 8000000, 5000000, 400000, 25000000, 25000000, 2000000, 6300000, 15000000, 500000, 50000000, 400000, 5000000, 10000000, 10000000, 2000000, 10000000, 12000000, 1250000, 1000000, 3500000, 8000000, 5000000, 2000000, 250000, 4000000, 4500000, 1000000, 2500000, 25000, 2000000, 250000, 500000, 500000, 550000, 250000, 7000000, 2500000, 150000, 300000, 5000000, 4000000, 10000000, 1500000, 3000000, 13000000, 250000, 4000000, 300000, 1800000, 1500000, 3000000, 3000000, 600000, 1000000, 10000000, 100000, 5000000, 350000, 1500000, 2000000, 1000000, 2000000, 4000000, 1000000, 2500000, 1000000, 600000, 1000000, 9000000, 1500000, 600000, 1500000, 3000000, 3000000, 500000, 5000000, 5000000, 4000000, 40000000, 500000, 2500000, 2000000, 25000000, 5000000, 1500000, 1750000, 500000, 15000000, 2500000, 1000000, 1000000, 800000, 500000, 4500000, 4000000, 500000, 7000000, 150000, 12000000, 50000, 7000000, 3500000, 18000000, 2000000, 1000000, 1000000, 5000000, 20000000, 3500000, 1000000, 2000000, 250000, 1500000, 750000, 1000000, 75000, 2500000, 500000, 25000, 11000000, 12000000, 500000, 1500000, 6000000, 25000000, 500000, 6000000, 500000, 500000, 500000, 2000000, 1200000, 3500000, 250000, 200000, 200000, 35000000, 1000000, 3000000, 7000000, 20000000, 5000000, 500000, 2000000, 4000000, 2500000, 2000000, 1000000, 1500000, 5000000, 1000000, 25000000, 3500000, 15000000, 2500000, 7000000, 250000], \"yaxis\": \"y\"}, {\"hoverlabel\": {\"namelength\": 0}, \"hovertemplate\": \"club=Chelsea<br>goals/app=%{x}<br>value=%{y}<br>name=%{text}\", \"legendgroup\": \"club=Chelsea\", \"marker\": {\"color\": \"#EF553B\", \"symbol\": \"circle\"}, \"mode\": \"markers+text\", \"name\": \"club=Chelsea\", \"showlegend\": true, \"text\": [\"Tammy Abraham\", \"Marcos Alonso\", \"Kepa Arrizabalaga\", \"C\\u00e9sar Azpilicueta\", \"Ross Barkley\", \"Michy Batshuayi\", \"Willy Caballero\", \"Andreas Christensen\", \"Jamie Cumming\", \"Emerson\", \"Olivier Giroud\", \"Callum Hudson-Odoi\", \"Jorginho\", \"N'Golo Kant\\u00e9\", \"Mateo Kovacic\", \"Ruben Loftus-Cheek\", \"Pedro\", \"Christian Pulisic\", \"Antonio R\\u00fcdiger\", \"Fikayo Tomori\", \"Willian\", \"Kurt Zouma\"], \"type\": \"scatter\", \"x\": [0.3333333333333333, 0.13385826771653545, 0.0, 0.024096385542168676, 0.12972972972972974, 0.24528301886792453, 0.0, 0.0, null, 0.0, 0.3466666666666667, 0.0, 0.058823529411764705, 0.06622516556291391, 0.020833333333333332, 0.12857142857142856, 0.2153846153846154, 0.38461538461538464, 0.04918032786885246, 0.08333333333333333, 0.14084507042253522, 0.03125], \"xaxis\": \"x\", \"y\": [32000000, 32000000, 60000000, 35000000, 30000000, 25000000, 1000000, 35000000, 500000, 25000000, 12000000, 35000000, 65000000, 100000000, 35000000, 30000000, 55000000, 60000000, 50000000, 10000000, 35000000, 25000000], \"yaxis\": \"y\"}, {\"hoverlabel\": {\"namelength\": 0}, \"hovertemplate\": \"club=Liverpool<br>goals/app=%{x}<br>value=%{y}<br>name=%{text}\", \"legendgroup\": \"club=Liverpool\", \"marker\": {\"color\": \"#00cc96\", \"symbol\": \"circle\"}, \"mode\": \"markers+text\", \"name\": \"club=Liverpool\", \"showlegend\": true, \"text\": [\"Adri\\u00e1n\", \"Trent Alexander-Arnold\", \"Alisson\", \"Pedro Chirivella\", \"Nathaniel Clyne\", \"Harvey Elliott\", \"Fabinho\", \"Jordan Henderson\", \"Ki-Jana Hoever\", \"Curtis Jones\", \"Naby Keita\", \"Caoimhin Kelleher\", \"Adam Lallana\", \"Dejan Lovren\", \"Sadio Man\\u00e9\", \"Joel Matip\", \"James Milner\", \"Mohamed Salah\", \"Divock Origi\", \"Alex Oxlade-Chamberlain\", \"Roberto Firmino\", \"Andrew Robertson\", \"Xherdan Shaqiri\", \"Virgil van Dijk\", \"Georginio Wijnaldum\"], \"type\": \"scatter\", \"x\": [0.0, 0.04225352112676056, 0.0, 0.0, 0.021621621621621623, 0.0, 0.05, 0.08307692307692308, null, 0.0, 0.10714285714285714, null, 0.1595744680851064, 0.04375, 0.43103448275862066, 0.04819277108433735, 0.10227272727272728, 0.63, 0.24, 0.07344632768361582, 0.33986928104575165, 0.022900763358778626, 0.19642857142857142, 0.08148148148148149, 0.1464968152866242], \"xaxis\": \"x\", \"y\": [5000000, 80000000, 80000000, 800000, 12000000, 4000000, 50000000, 35000000, 4000000, 1500000, 50000000, 500000, 15000000, 20000000, 120000000, 35000000, 15000000, 150000000, 20000000, 35000000, 80000000, 60000000, 25000000, 100000000, 50000000], \"yaxis\": \"y\"}, {\"hoverlabel\": {\"namelength\": 0}, \"hovertemplate\": \"club=Manchester City<br>goals/app=%{x}<br>value=%{y}<br>name=%{text}\", \"legendgroup\": \"club=Manchester City\", \"marker\": {\"color\": \"#ab63fa\", \"symbol\": \"circle\"}, \"mode\": \"markers+text\", \"name\": \"club=Manchester City\", \"showlegend\": true, \"text\": [\"Sergio Ag\\u00fcero\", \"Adri\\u00e1n Bernab\\u00e9\", \"Bernardo Silva\", \"Claudio Bravo\", \"David Silva\", \"Kevin De Bruyne\", \"Ederson\", \"Eric Garc\\u00eda\", \"Fernandinho\", \"Phil Foden\", \"Ilkay G\\u00fcndogan\", \"Gabriel Jesus\", \"Aymeric Laporte\", \"Riyad Mahrez\", \"Nicol\\u00e1s Otamendi\", \"Leroy San\\u00e9\", \"John Stones\", \"Kyle Walker\", \"Oleksandr Zinchenko\"], \"type\": \"scatter\", \"x\": [0.6892430278884463, null, 0.21176470588235294, 0.0, 0.1919191919191919, 0.2, 0.0, 0.0, 0.08737864077669903, 0.04, 0.16470588235294117, 0.3950617283950617, 0.0625, 0.2808988764044944, 0.06557377049180328, 0.2808988764044944, 0.0064516129032258064, 0.025362318840579712, 0.0], \"xaxis\": \"x\", \"y\": [65000000, 2500000, 100000000, 3000000, 20000000, 130000000, 70000000, 7000000, 12000000, 30000000, 50000000, 70000000, 75000000, 60000000, 25000000, 100000000, 60000000, 50000000, 30000000], \"yaxis\": \"y\"}, {\"hoverlabel\": {\"namelength\": 0}, \"hovertemplate\": \"club=AFC Bournemouth<br>goals/app=%{x}<br>value=%{y}<br>name=%{text}\", \"legendgroup\": \"club=AFC Bournemouth\", \"marker\": {\"color\": \"#FFA15A\", \"symbol\": \"circle\"}, \"mode\": \"markers+text\", \"name\": \"club=AFC Bournemouth\", \"showlegend\": true, \"text\": [\"Nathan Ak\\u00e9\", \"Philip Billing\", \"Callum Wilson\", \"Artur Boruc\", \"David Brooks\", \"Charlie Daniels\", \"Mihai-Alexandru Dobre\", \"Dan Gosling\", \"Simon Francis\", \"Ryan Fraser\", \"Harry Wilson\", \"Jordon Ibe\", \"Joshua King\", \"Jefferson Lerma\", \"Lewis Cook\", \"Chris Mepham\", \"Aaron Ramsdale\", \"Diego Rico\", \"Jack Simpson\", \"Brad Smith\", \"Dominic Solanke\", \"Junior Stanislas\", \"Steve Cook\", \"Andrew Surman\", \"Mark Travers\"], \"type\": \"scatter\", \"x\": [0.08270676691729323, 0.034482758620689655, 0.35514018691588783, 0.0, 0.23333333333333334, 0.06976744186046512, null, 0.08588957055214724, 0.0, 0.14953271028037382, 0.42857142857142855, 0.03361344537815126, 0.30612244897959184, 0.045454545454545456, 0.0, 0.05263157894736842, 0.0, 0.0, 0.0, 0.0, 0.022222222222222223, 0.184, 0.06535947712418301, 0.04225352112676056, 0.0], \"xaxis\": \"x\", \"y\": [35000000, 15000000, 30000000, 1000000, 30000000, 3000000, 50000, 3500000, 2000000, 30000000, 18000000, 8000000, 20000000, 25000000, 20000000, 13000000, 6000000, 7000000, 1500000, 1000000, 18000000, 3500000, 10000000, 2500000, 250000], \"yaxis\": \"y\"}, {\"hoverlabel\": {\"namelength\": 0}, \"hovertemplate\": \"club=Leicester City<br>goals/app=%{x}<br>value=%{y}<br>name=%{text}\", \"legendgroup\": \"club=Leicester City\", \"marker\": {\"color\": \"#19d3f3\", \"symbol\": \"circle\"}, \"mode\": \"markers+text\", \"name\": \"club=Leicester City\", \"showlegend\": true, \"text\": [\"Marc Albrighton\", \"Daniel Amartey\", \"Ayoze P\\u00e9rez\", \"Filip Benkovic\", \"Ben Chilwell\", \"Hamza Choudhury\", \"Jonny Evans\", \"Demarai Gray\", \"Christian Fuchs\", \"Kelechi Iheanacho\", \"Eldin Jakupovic\", \"Matty James\", \"James Maddison\", \"Nampalys Mendy\", \"Wes Morgan\", \"Ricardo Pereira\", \"Kasper Schmeichel\", \"\\u00c7aglar S\\u00f6y\\u00fcnc\\u00fc\", \"Youri Tielemans\", \"Jamie Vardy\", \"Wilfred Ndidi\"], \"type\": \"scatter\", \"x\": [0.06995884773662552, 0.021739130434782608, 0.2356687898089172, null, 0.023809523809523808, 0.0, 0.0364963503649635, 0.06666666666666667, 0.02, 0.17346938775510204, 0.0, 0.0, 0.24, 0.0, 0.05, 0.08, 0.0, 0.047619047619047616, 0.21428571428571427, 0.49214659685863876, 0.058823529411764705], \"xaxis\": \"x\", \"y\": [10000000, 7000000, 20000000, 11000000, 35000000, 10000000, 12000000, 20000000, 3000000, 12000000, 750000, 1500000, 45000000, 8000000, 2000000, 30000000, 12000000, 20000000, 45000000, 20000000, 35000000], \"yaxis\": \"y\"}, {\"hoverlabel\": {\"namelength\": 0}, \"hovertemplate\": \"club=Tottenham Hotspur<br>goals/app=%{x}<br>value=%{y}<br>name=%{text}\", \"legendgroup\": \"club=Tottenham Hotspur\", \"marker\": {\"color\": \"#FF6692\", \"symbol\": \"circle\"}, \"mode\": \"markers+text\", \"name\": \"club=Tottenham Hotspur\", \"showlegend\": true, \"text\": [\"Toby Alderweireld\", \"Serge Aurier\", \"Dele Alli\", \"Eric Dier\", \"Christian Eriksen\", \"Juan Foyth\", \"Paulo Gazzaniga\", \"Harry Kane\", \"Erik Lamela\", \"Hugo Lloris\", \"Lucas Moura\", \"Danny Rose\", \"Ryan Sessegnon\", \"Moussa Sissoko\", \"Oliver Skipp\", \"Son Heung-Min\", \"Japhet Tanganga\", \"Jan Vertonghen\", \"Michel Vorm\", \"Kyle Walker-Peters\", \"Victor Wanyama\", \"Harry Winks\"], \"type\": \"scatter\", \"x\": [0.03821656050955414, 0.05555555555555555, 0.3357142857142857, 0.062111801242236024, 0.22935779816513763, 0.07142857142857142, 0.0, 0.6836734693877551, 0.11594202898550725, 0.0, 0.25, 0.049723756906077346, 0.05405405405405406, 0.06334841628959276, 0.0, 0.3263888888888889, null, 0.022935779816513763, 0.0, 0.0, 0.06493506493506493, 0.025974025974025976], \"xaxis\": \"x\", \"y\": [40000000, 15000000, 90000000, 30000000, 100000000, 15000000, 2000000, 150000000, 22000000, 25000000, 40000000, 25000000, 35000000, 25000000, 8000000, 80000000, 800000, 22000000, 1000000, 10000000, 15000000, 40000000], \"yaxis\": \"y\"}, {\"hoverlabel\": {\"namelength\": 0}, \"hovertemplate\": \"club=Newcastle United<br>goals/app=%{x}<br>value=%{y}<br>name=%{text}\", \"legendgroup\": \"club=Newcastle United\", \"marker\": {\"color\": \"#B6E880\", \"symbol\": \"circle\"}, \"mode\": \"markers+text\", \"name\": \"club=Newcastle United\", \"showlegend\": true, \"text\": [\"Miguel Almir\\u00f3n\", \"Christian Atsu\", \"Andy Carroll\", \"Ciaran Clark\", \"Karl Darlow\", \"Martin Dubravka\", \"Paul Dummett\", \"Robert Elliot\", \"Federico Fern\\u00e1ndez\", \"Isaac Hayden\", \"Ki Sung-Yueng\", \"Jamaal Lascelles\", \"Florian Lejeune\", \"Javier Manquillo\", \"Yoshinori Muto\", \"Matt Ritchie\", \"Fabian Sch\\u00e4r\", \"Sean Longstaff\", \"Jonjo Shelvey\", \"DeAndre Yedlin\"], \"type\": \"scatter\", \"x\": [0.0, 0.04054054054054054, 0.2420091324200913, 0.08092485549132948, 0.0, 0.0, 0.016129032258064516, 0.0, 0.020689655172413793, 0.031746031746031744, 0.08021390374331551, 0.06315789473684211, 0.0, 0.013333333333333334, 0.045454545454545456, 0.07964601769911504, 0.15151515151515152, 0.058823529411764705, 0.09137055837563451, 0.02127659574468085], \"xaxis\": \"x\", \"y\": [20000000, 6000000, 6000000, 6000000, 3500000, 7000000, 7000000, 1000000, 7000000, 10000000, 6000000, 18000000, 8000000, 5000000, 9000000, 12000000, 12000000, 18000000, 15000000, 8000000], \"yaxis\": \"y\"}, {\"hoverlabel\": {\"namelength\": 0}, \"hovertemplate\": \"club=Everton<br>goals/app=%{x}<br>value=%{y}<br>name=%{text}\", \"legendgroup\": \"club=Everton\", \"marker\": {\"color\": \"#FF97FF\", \"symbol\": \"circle\"}, \"mode\": \"markers+text\", \"name\": \"club=Everton\", \"showlegend\": true, \"text\": [\"Andr\\u00e9 Gomes\", \"Leighton Baines\", \"Beni Baningime\", \"Bernard\", \"Dominic Calvert-Lewin\", \"S\\u00e9amus Coleman\", \"Cuco Martina\", \"Tom Davies\", \"Fabian Delph\", \"Lucas Digne\", \"Anthony Gordon\", \"Mason Holgate\", \"Alex Iwobi\", \"Michael Keane\", \"Jonas L\\u00f6ssl\", \"Yerry Mina\", \"Oumar Niasse\", \"Jordan Pickford\", \"Richarlison\", \"Morgan Schneiderlin\", \"Gylfi Sigurdsson\", \"Maarten Stekelenburg\", \"Cenk Tosun\", \"Theo Walcott\"], \"type\": \"scatter\", \"x\": [0.02857142857142857, 0.0774818401937046, 0.0, 0.06818181818181818, 0.17391304347826086, 0.078125, 0.022222222222222223, 0.058823529411764705, 0.03977272727272727, 0.0784313725490196, null, 0.0, 0.10526315789473684, 0.029850746268656716, 0.0, 0.037037037037037035, 0.1935483870967742, 0.0, 0.2696629213483146, 0.0663265306122449, 0.22813688212927757, 0.0, 0.20930232558139536, 0.21987951807228914], \"xaxis\": \"x\", \"y\": [28000000, 3500000, 2000000, 100000000, 20000000, 15000000, 1500000, 15000000, 15000000, 30000000, 1500000, 7000000, 32000000, 30000000, 5000000, 25000000, 6000000, 40000000, 50000000, 15000000, 35000000, 1000000, 15000000, 15000000], \"yaxis\": \"y\"}, {\"hoverlabel\": {\"namelength\": 0}, \"hovertemplate\": \"club=Manchester United<br>goals/app=%{x}<br>value=%{y}<br>name=%{text}\", \"legendgroup\": \"club=Manchester United\", \"marker\": {\"color\": \"#FECB52\", \"symbol\": \"circle\"}, \"mode\": \"markers+text\", \"name\": \"club=Manchester United\", \"showlegend\": true, \"text\": [\"Andreas Pereira\", \"Eric Bailly\", \"Tahith Chong\", \"David de Gea\", \"Diogo Dalot\", \"Mason Greenwood\", \"Timothy Fosu-Mensah\", \"Fred\", \"Matej Kovar\", \"Victor Lindel\\u00f6f\", \"Jesse Lingard\", \"Harry Maguire\", \"Anthony Martial\", \"Juan Mata\", \"Nemanja Matic\", \"Scott McTominay\", \"Paul Pogba\", \"Marcus Rashford\", \"Marcos Rojo\", \"Sergio Romero\", \"Luke Shaw\", \"Axel Tuanzebe\", \"Aaron Wan-Bissaka\", \"Ashley Young\"], \"type\": \"scatter\", \"x\": [0.05714285714285714, 0.02, 0.0, 0.0, 0.0, 0.06666666666666667, 0.0, 0.034482758620689655, null, 0.03225806451612903, 0.13709677419354838, 0.05982905982905983, 0.3089430894308943, 0.20318725099601595, 0.031578947368421054, 0.1111111111111111, 0.24, 0.29133858267716534, 0.013157894736842105, 0.0, 0.007246376811594203, 0.0, 0.0, 0.13043478260869565], \"xaxis\": \"x\", \"y\": [15000000, 25000000, 7000000, 65000000, 20000000, 10000000, 7000000, 35000000, 100000, 35000000, 40000000, 70000000, 60000000, 20000000, 25000000, 20000000, 100000000, 80000000, 10000000, 3500000, 30000000, 7000000, 40000000, 5000000], \"yaxis\": \"y\"}, {\"hoverlabel\": {\"namelength\": 0}, \"hovertemplate\": \"club=West Ham United<br>goals/app=%{x}<br>value=%{y}<br>name=%{text}\", \"legendgroup\": \"club=West Ham United\", \"marker\": {\"color\": \"#636efa\", \"symbol\": \"circle\"}, \"mode\": \"markers+text\", \"name\": \"club=West Ham United\", \"showlegend\": true, \"text\": [\"Michail Antonio\", \"Fabi\\u00e1n Balbuena\", \"Carlos S\\u00e1nchez\", \"Aaron Cresswell\", \"Issa Diop\", \"Lukasz Fabianski\", \"Felipe Anderson\", \"Ryan Fredericks\", \"Manuel Lanzini\", \"Arthur Masuaku\", \"Mark Noble\", \"Angelo Ogbonna\", \"Winston Reid\", \"Declan Rice\", \"Robert Snodgrass\", \"Jack Wilshere\", \"Xande Silva\", \"Andriy Yarmolenko\", \"Pablo Zabaleta\"], \"type\": \"scatter\", \"x\": [0.23684210526315788, 0.06666666666666667, 0.01694915254237288, 0.04790419161676647, 0.021739130434782608, 0.0, 0.18, 0.034482758620689655, 0.1834862385321101, 0.0, 0.11878453038674033, 0.02608695652173913, 0.03614457831325301, 0.02631578947368421, 0.15753424657534246, 0.044444444444444446, 0.0, 0.21739130434782608, 0.030201342281879196], \"xaxis\": \"x\", \"y\": [15000000, 12000000, 2500000, 8000000, 35000000, 5000000, 45000000, 7000000, 20000000, 10000000, 7000000, 8000000, 5000000, 50000000, 7000000, 10000000, 1000000, 20000000, 2000000], \"yaxis\": \"y\"}, {\"hoverlabel\": {\"namelength\": 0}, \"hovertemplate\": \"club=Arsenal<br>goals/app=%{x}<br>value=%{y}<br>name=%{text}\", \"legendgroup\": \"club=Arsenal\", \"marker\": {\"color\": \"#EF553B\", \"symbol\": \"circle\"}, \"mode\": \"markers+text\", \"name\": \"club=Arsenal\", \"showlegend\": true, \"text\": [\"Pierre-Emerick Aubameyang\", \"H\\u00e9ctor Beller\\u00edn\", \"Calum Chambers\", \"David Luiz\", \"Matteo Guendouzi\", \"Rob Holding\", \"Sead Kolasinac\", \"Alexandre Lacazette\", \"Bernd Leno\", \"Matt Macey\", \"Ainsley Maitland-Niles\", \"Emiliano Mart\\u00ednez\", \"Konstantinos Mavropanos\", \"Shkodran Mustafi\", \"Reiss Nelson\", \"Mesut \\u00d6zil\", \"Bukayo Saka\", \"Emile Smith Rowe\", \"Sokratis\", \"Lucas Torreira\", \"Joseph Willock\", \"Granit Xhaka\"], \"type\": \"scatter\", \"x\": [0.65625, 0.0410958904109589, 0.044444444444444446, 0.07471264367816093, 0.0, 0.0, 0.031746031746031744, 0.4155844155844156, 0.0, null, 0.02564102564102564, 0.0, 0.0, 0.08235294117647059, 0.0, 0.18604651162790697, 0.0, null, 0.05263157894736842, 0.06521739130434782, 0.0, 0.06363636363636363], \"xaxis\": \"x\", \"y\": [70000000, 40000000, 14000000, 20000000, 45000000, 12000000, 20000000, 70000000, 30000000, 250000, 18000000, 3500000, 3000000, 18000000, 17000000, 25000000, 7000000, 4000000, 20000000, 55000000, 10000000, 40000000], \"yaxis\": \"y\"}, {\"hoverlabel\": {\"namelength\": 0}, \"hovertemplate\": \"club=Crystal Palace<br>goals/app=%{x}<br>value=%{y}<br>name=%{text}\", \"legendgroup\": \"club=Crystal Palace\", \"marker\": {\"color\": \"#00cc96\", \"symbol\": \"circle\"}, \"mode\": \"markers+text\", \"name\": \"club=Crystal Palace\", \"showlegend\": true, \"text\": [\"Jordan Ayew\", \"Christian Benteke\", \"V\\u00edctor Camarasa\", \"Scott Dann\", \"Vicente Guaita\", \"Wayne Hennessey\", \"Martin Kelly\", \"Cheikhou Kouyat\\u00e9\", \"James McArthur\", \"James McCarthy\", \"Max Meyer\", \"Luka Milivojevic\", \"Jairo Riedewald\", \"Mamadou Sakho\", \"Jeffrey Schlupp\", \"James Tomkins\", \"Andros Townsend\", \"Patrick van Aanholt\", \"Connor Wickham\", \"Wilfried Zaha\"], \"type\": \"scatter\", \"x\": [0.17391304347826086, 0.32710280373831774, 0.15151515151515152, 0.07009345794392523, 0.0, 0.0, 0.0, 0.06896551724137931, 0.08914728682170543, 0.05555555555555555, 0.030303030303030304, 0.2524271844660194, 0.0, 0.02608695652173913, 0.06993006993006994, 0.043478260869565216, 0.10552763819095477, 0.10734463276836158, 0.15517241379310345, 0.17616580310880828], \"xaxis\": \"x\", \"y\": [8000000, 15000000, 10000000, 4000000, 5000000, 5000000, 3000000, 10000000, 7000000, 5000000, 15000000, 20000000, 5000000, 15000000, 10000000, 6000000, 15000000, 10000000, 3000000, 55000000], \"yaxis\": \"y\"}, {\"hoverlabel\": {\"namelength\": 0}, \"hovertemplate\": \"club=Watford<br>goals/app=%{x}<br>value=%{y}<br>name=%{text}\", \"legendgroup\": \"club=Watford\", \"marker\": {\"color\": \"#ab63fa\", \"symbol\": \"circle\"}, \"mode\": \"markers+text\", \"name\": \"club=Watford\", \"showlegend\": true, \"text\": [\"Daniel Bachmann\", \"Etienne Capoue\", \"Craig Cathcart\", \"Tom Cleverley\", \"Pontus Dahlberg\", \"Troy Deeney\", \"Gerard Deulofeu\", \"Domingos Quina\", \"Abdoulaye Doucour\\u00e9\", \"Ben Foster\", \"Dimitri Foulquier\", \"Heurelho Gomes\", \"Jos\\u00e9 Holebas\", \"Isaac Success\", \"Daryl Janmaat\", \"Christian Kabasele\", \"Kiko Femen\\u00eda\", \"Adrian Mariappa\", \"Adam Masina\", \"Roberto Pereyra\", \"Sebastian Pr\\u00f6dl\", \"Tom Dele-Bashiru\", \"Danny Welbeck\", \"Marvin Zeegelaar\"], \"type\": \"scatter\", \"x\": [null, 0.062111801242236024, 0.0364963503649635, 0.06829268292682927, null, 0.2624113475177305, 0.1565217391304348, 0.1, 0.12962962962962962, 0.0, 0.0, 0.0, 0.04504504504504504, 0.038461538461538464, 0.05517241379310345, 0.0547945205479452, 0.03125, 0.012987012987012988, 0.0, 0.15555555555555556, 0.03896103896103896, null, 0.1990521327014218, 0.0], \"xaxis\": \"x\", \"y\": [500000, 8000000, 5000000, 7000000, 1000000, 10000000, 25000000, 5000000, 25000000, 3000000, 3500000, 1000000, 2000000, 5000000, 6000000, 8000000, 6000000, 3000000, 5000000, 13000000, 2500000, 150000, 12000000, 2500000], \"yaxis\": \"y\"}, {\"hoverlabel\": {\"namelength\": 0}, \"hovertemplate\": \"club=Brighton and Hove Albion<br>goals/app=%{x}<br>value=%{y}<br>name=%{text}\", \"legendgroup\": \"club=Brighton and Hove Albion\", \"marker\": {\"color\": \"#FFA15A\", \"symbol\": \"circle\"}, \"mode\": \"markers+text\", \"name\": \"club=Brighton and Hove Albion\", \"showlegend\": true, \"text\": [\"Leon Balogun\", \"Tudor Baluta\", \"Bernardo\", \"Yves Bissouma\", \"Ga\\u00ebtan Bong\", \"Dan Burn\", \"David Button\", \"Aaron Connolly\", \"Shane Duffy\", \"Lewis Dunk\", \"Pascal Gro\\u00df\", \"Jos\\u00e9 Izquierdo\", \"Alireza Jahanbakhsh\", \"Solly March\", \"Mart\\u00edn Montoya\", \"Aaron Mooy\", \"Glenn Murray\", \"Davy Pr\\u00f6pper\", \"Ezequiel Schelotto\", \"Dale Stephens\"], \"type\": \"scatter\", \"x\": [0.125, null, 0.0, 0.0, 0.0, 0.0, 0.0, 0.18181818181818182, 0.06976744186046512, 0.056818181818181816, 0.14285714285714285, 0.10638297872340426, 0.0, 0.02531645569620253, 0.0, 0.0945945945945946, 0.26666666666666666, 0.01282051282051282, 0.0, 0.012345679012345678], \"xaxis\": \"x\", \"y\": [2000000, 4500000, 100000000, 15000000, 2000000, 3000000, 1500000, 2500000, 12000000, 20000000, 10000000, 10000000, 12000000, 8000000, 8000000, 14000000, 3000000, 15000000, 2000000, 6000000], \"yaxis\": \"y\"}, {\"hoverlabel\": {\"namelength\": 0}, \"hovertemplate\": \"club=Burnley<br>goals/app=%{x}<br>value=%{y}<br>name=%{text}\", \"legendgroup\": \"club=Burnley\", \"marker\": {\"color\": \"#19d3f3\", \"symbol\": \"circle\"}, \"mode\": \"markers+text\", \"name\": \"club=Burnley\", \"showlegend\": true, \"text\": [\"Phil Bardsley\", \"Ashley Barnes\", \"Robbie Brady\", \"Jack Cork\", \"Daniel Drinkwater\", \"Ben Gibson\", \"Joe Hart\", \"Jeff Hendrick\", \"Adam Legzdins\", \"Aaron Lennon\", \"Kevin Long\", \"Matthew Lowton\", \"Dwight McNeil\", \"Ben Mee\", \"Nick Pope\", \"James Tarkowski\", \"Matej Vydra\", \"Ashley Westwood\", \"Chris Wood\"], \"type\": \"scatter\", \"x\": [0.024822695035460994, 0.25333333333333335, 0.06766917293233082, 0.03225806451612903, 0.04, 0.05128205128205128, 0.0, 0.08108108108108109, null, 0.08877284595300261, 0.038461538461538464, 0.011976047904191617, 0.10526315789473684, 0.02, 0.0, 0.039603960396039604, 0.09523809523809523, 0.035175879396984924, 0.313953488372093], \"xaxis\": \"x\", \"y\": [1500000, 10000000, 8000000, 15000000, 8000000, 10000000, 4000000, 10000000, 250000, 5000000, 2500000, 5000000, 15000000, 10000000, 10000000, 18000000, 8000000, 7000000, 18000000], \"yaxis\": \"y\"}, {\"hoverlabel\": {\"namelength\": 0}, \"hovertemplate\": \"club=Southampton<br>goals/app=%{x}<br>value=%{y}<br>name=%{text}\", \"legendgroup\": \"club=Southampton\", \"marker\": {\"color\": \"#FF6692\", \"symbol\": \"circle\"}, \"mode\": \"markers+text\", \"name\": \"club=Southampton\", \"showlegend\": true, \"text\": [\"Jan Bednarek\", \"Ryan Bertrand\", \"C\\u00e9dric Soares\", \"Sofiane Boufal\", \"Angus Gunn\", \"Pierre-Emile H\\u00f8jbjerg\", \"Danny Ings\", \"Harry Lewis\", \"Sam McQueen\", \"Michael Obafemi\", \"Oriol Romeu\", \"Nathan Redmond\", \"Yan Valery\", \"Jannik Vestergaard\", \"James Ward-Prowse\", \"Maya Yoshida\"], \"type\": \"scatter\", \"x\": [0.022222222222222223, 0.033816425120772944, 0.009009009009009009, 0.04918032786885246, 0.0, 0.044444444444444446, 0.32954545454545453, null, 0.0, 0.07692307692307693, 0.024390243902439025, 0.11702127659574468, 0.06451612903225806, 0.029411764705882353, 0.10096153846153846, 0.03896103896103896], \"xaxis\": \"x\", \"y\": [15000000, 15000000, 12000000, 12000000, 10000000, 15000000, 15000000, 200000, 1000000, 2000000, 10000000, 20000000, 7000000, 20000000, 18000000, 7000000], \"yaxis\": \"y\"}, {\"hoverlabel\": {\"namelength\": 0}, \"hovertemplate\": \"club=Wolverhampton Wanderers<br>goals/app=%{x}<br>value=%{y}<br>name=%{text}\", \"legendgroup\": \"club=Wolverhampton Wanderers\", \"marker\": {\"color\": \"#B6E880\", \"symbol\": \"circle\"}, \"mode\": \"markers+text\", \"name\": \"club=Wolverhampton Wanderers\", \"showlegend\": true, \"text\": [\"Benny Ashley-Seal\", \"Willy Boly\", \"Oskar Buur\", \"Conor Coady\", \"Leander Dendoncker\", \"Diogo Jota\", \"Matt Doherty\", \"Morgan Gibbs-White\", \"Ra\\u00fal Jim\\u00e9nez\", \"Jo\\u00e3o Moutinho\", \"Jonny\", \"R\\u00faben Neves\", \"R\\u00faben Vinagre\", \"John Ruddy\", \"Rui Patr\\u00edcio\", \"Romain Sa\\u00efss\"], \"type\": \"scatter\", \"x\": [null, 0.09090909090909091, null, 0.0, 0.08823529411764706, 0.21739130434782608, 0.11320754716981132, 0.0, 0.3584905660377358, 0.03773584905660377, 0.0425531914893617, 0.12, 0.0, 0.0, 0.0, 0.1], \"xaxis\": \"x\", \"y\": [150000, 15000000, 100000, 15000000, 25000000, 35000000, 15000000, 8000000, 35000000, 10000000, 20000000, 50000000, 10000000, 3000000, 20000000, 5000000], \"yaxis\": \"y\"}, {\"hoverlabel\": {\"namelength\": 0}, \"hovertemplate\": \"club=Sheffield United<br>goals/app=%{x}<br>value=%{y}<br>name=%{text}\", \"legendgroup\": \"club=Sheffield United\", \"marker\": {\"color\": \"#FF97FF\", \"symbol\": \"circle\"}, \"mode\": \"markers+text\", \"name\": \"club=Sheffield United\", \"showlegend\": true, \"text\": [\"Muhamed Besic\", \"Phil Jagielka\", \"Lys Mousset\", \"Oliver Norwood\"], \"type\": \"scatter\", \"x\": [0.0, 0.04945054945054945, 0.11428571428571428, 0.0], \"xaxis\": \"x\", \"y\": [5000000, 1000000, 6000000, 5000000], \"yaxis\": \"y\"}, {\"hoverlabel\": {\"namelength\": 0}, \"hovertemplate\": \"club=Liverpool U19<br>goals/app=%{x}<br>value=%{y}<br>name=%{text}\", \"legendgroup\": \"club=Liverpool U19\", \"marker\": {\"color\": \"#FECB52\", \"symbol\": \"circle\"}, \"mode\": \"markers+text\", \"name\": \"club=Liverpool U19\", \"showlegend\": true, \"text\": [\"Rhian Brewster\"], \"type\": \"scatter\", \"x\": [null], \"xaxis\": \"x\", \"y\": [4000000], \"yaxis\": \"y\"}, {\"hoverlabel\": {\"namelength\": 0}, \"hovertemplate\": \"club=Norwich City<br>goals/app=%{x}<br>value=%{y}<br>name=%{text}\", \"legendgroup\": \"club=Norwich City\", \"marker\": {\"color\": \"#636efa\", \"symbol\": \"circle\"}, \"mode\": \"markers+text\", \"name\": \"club=Norwich City\", \"showlegend\": true, \"text\": [\"Sam Byram\", \"Tim Krul\", \"Patrick Roberts\"], \"type\": \"scatter\", \"x\": [0.0, 0.0, 0.0], \"xaxis\": \"x\", \"y\": [3500000, 4000000, 5000000], \"yaxis\": \"y\"}, {\"hoverlabel\": {\"namelength\": 0}, \"hovertemplate\": \"club=Aston Villa<br>goals/app=%{x}<br>value=%{y}<br>name=%{text}\", \"legendgroup\": \"club=Aston Villa\", \"marker\": {\"color\": \"#EF553B\", \"symbol\": \"circle\"}, \"mode\": \"markers+text\", \"name\": \"club=Aston Villa\", \"showlegend\": true, \"text\": [\"Douglas Luiz\", \"Kortney Hause\", \"Tom Heaton\", \"Tyrone Mings\", \"Matt Targett\"], \"type\": \"scatter\", \"x\": [0.15384615384615385, null, 0.0, 0.03125, 0.038461538461538464], \"xaxis\": \"x\", \"y\": [10000000, 3000000, 6000000, 18000000, 10000000], \"yaxis\": \"y\"}, {\"hoverlabel\": {\"namelength\": 0}, \"hovertemplate\": \"club=West Bromwich Albion<br>goals/app=%{x}<br>value=%{y}<br>name=%{text}\", \"legendgroup\": \"club=West Bromwich Albion\", \"marker\": {\"color\": \"#00cc96\", \"symbol\": \"circle\"}, \"mode\": \"markers+text\", \"name\": \"club=West Bromwich Albion\", \"showlegend\": true, \"text\": [\"Dwight Gayle\"], \"type\": \"scatter\", \"x\": [0.20388349514563106], \"xaxis\": \"x\", \"y\": [15000000], \"yaxis\": \"y\"}, {\"hoverlabel\": {\"namelength\": 0}, \"hovertemplate\": \"club=Luton Town<br>goals/app=%{x}<br>value=%{y}<br>name=%{text}\", \"legendgroup\": \"club=Luton Town\", \"marker\": {\"color\": \"#ab63fa\", \"symbol\": \"circle\"}, \"mode\": \"markers+text\", \"name\": \"club=Luton Town\", \"showlegend\": true, \"text\": [\"Isaiah Brown\"], \"type\": \"scatter\", \"x\": [0.0], \"xaxis\": \"x\", \"y\": [3000000], \"yaxis\": \"y\"}],\n",
       "                        {\"height\": 600, \"legend\": {\"tracegroupgap\": 0}, \"template\": {\"data\": {\"bar\": [{\"error_x\": {\"color\": \"#2a3f5f\"}, \"error_y\": {\"color\": \"#2a3f5f\"}, \"marker\": {\"line\": {\"color\": \"#E5ECF6\", \"width\": 0.5}}, \"type\": \"bar\"}], \"barpolar\": [{\"marker\": {\"line\": {\"color\": \"#E5ECF6\", \"width\": 0.5}}, \"type\": \"barpolar\"}], \"carpet\": [{\"aaxis\": {\"endlinecolor\": \"#2a3f5f\", \"gridcolor\": \"white\", \"linecolor\": \"white\", \"minorgridcolor\": \"white\", \"startlinecolor\": \"#2a3f5f\"}, \"baxis\": {\"endlinecolor\": \"#2a3f5f\", \"gridcolor\": \"white\", \"linecolor\": \"white\", \"minorgridcolor\": \"white\", \"startlinecolor\": \"#2a3f5f\"}, \"type\": \"carpet\"}], \"choropleth\": [{\"colorbar\": {\"outlinewidth\": 0, \"ticks\": \"\"}, \"type\": \"choropleth\"}], \"contour\": [{\"colorbar\": {\"outlinewidth\": 0, \"ticks\": \"\"}, \"colorscale\": [[0.0, \"#0d0887\"], [0.1111111111111111, \"#46039f\"], [0.2222222222222222, \"#7201a8\"], [0.3333333333333333, \"#9c179e\"], [0.4444444444444444, \"#bd3786\"], [0.5555555555555556, \"#d8576b\"], [0.6666666666666666, \"#ed7953\"], [0.7777777777777778, \"#fb9f3a\"], [0.8888888888888888, \"#fdca26\"], [1.0, \"#f0f921\"]], \"type\": \"contour\"}], \"contourcarpet\": [{\"colorbar\": {\"outlinewidth\": 0, \"ticks\": \"\"}, \"type\": \"contourcarpet\"}], \"heatmap\": [{\"colorbar\": {\"outlinewidth\": 0, \"ticks\": \"\"}, \"colorscale\": [[0.0, \"#0d0887\"], [0.1111111111111111, \"#46039f\"], [0.2222222222222222, \"#7201a8\"], [0.3333333333333333, \"#9c179e\"], [0.4444444444444444, \"#bd3786\"], [0.5555555555555556, \"#d8576b\"], [0.6666666666666666, \"#ed7953\"], [0.7777777777777778, \"#fb9f3a\"], [0.8888888888888888, \"#fdca26\"], [1.0, \"#f0f921\"]], \"type\": \"heatmap\"}], \"heatmapgl\": [{\"colorbar\": {\"outlinewidth\": 0, \"ticks\": \"\"}, \"colorscale\": [[0.0, \"#0d0887\"], [0.1111111111111111, \"#46039f\"], [0.2222222222222222, \"#7201a8\"], [0.3333333333333333, \"#9c179e\"], [0.4444444444444444, \"#bd3786\"], [0.5555555555555556, \"#d8576b\"], [0.6666666666666666, \"#ed7953\"], [0.7777777777777778, \"#fb9f3a\"], [0.8888888888888888, \"#fdca26\"], [1.0, \"#f0f921\"]], \"type\": \"heatmapgl\"}], \"histogram\": [{\"marker\": {\"colorbar\": {\"outlinewidth\": 0, \"ticks\": \"\"}}, \"type\": \"histogram\"}], \"histogram2d\": [{\"colorbar\": {\"outlinewidth\": 0, \"ticks\": \"\"}, \"colorscale\": [[0.0, \"#0d0887\"], [0.1111111111111111, \"#46039f\"], [0.2222222222222222, \"#7201a8\"], [0.3333333333333333, \"#9c179e\"], [0.4444444444444444, \"#bd3786\"], [0.5555555555555556, \"#d8576b\"], [0.6666666666666666, \"#ed7953\"], [0.7777777777777778, \"#fb9f3a\"], [0.8888888888888888, \"#fdca26\"], [1.0, \"#f0f921\"]], \"type\": \"histogram2d\"}], \"histogram2dcontour\": [{\"colorbar\": {\"outlinewidth\": 0, \"ticks\": \"\"}, \"colorscale\": [[0.0, \"#0d0887\"], [0.1111111111111111, \"#46039f\"], [0.2222222222222222, \"#7201a8\"], [0.3333333333333333, \"#9c179e\"], [0.4444444444444444, \"#bd3786\"], [0.5555555555555556, \"#d8576b\"], [0.6666666666666666, \"#ed7953\"], [0.7777777777777778, \"#fb9f3a\"], [0.8888888888888888, \"#fdca26\"], [1.0, \"#f0f921\"]], \"type\": \"histogram2dcontour\"}], \"mesh3d\": [{\"colorbar\": {\"outlinewidth\": 0, \"ticks\": \"\"}, \"type\": \"mesh3d\"}], \"parcoords\": [{\"line\": {\"colorbar\": {\"outlinewidth\": 0, \"ticks\": \"\"}}, \"type\": \"parcoords\"}], \"pie\": [{\"automargin\": true, \"type\": \"pie\"}], \"scatter\": [{\"marker\": {\"colorbar\": {\"outlinewidth\": 0, \"ticks\": \"\"}}, \"type\": \"scatter\"}], \"scatter3d\": [{\"line\": {\"colorbar\": {\"outlinewidth\": 0, \"ticks\": \"\"}}, \"marker\": {\"colorbar\": {\"outlinewidth\": 0, \"ticks\": \"\"}}, \"type\": \"scatter3d\"}], \"scattercarpet\": [{\"marker\": {\"colorbar\": {\"outlinewidth\": 0, \"ticks\": \"\"}}, \"type\": \"scattercarpet\"}], \"scattergeo\": [{\"marker\": {\"colorbar\": {\"outlinewidth\": 0, \"ticks\": \"\"}}, \"type\": \"scattergeo\"}], \"scattergl\": [{\"marker\": {\"colorbar\": {\"outlinewidth\": 0, \"ticks\": \"\"}}, \"type\": \"scattergl\"}], \"scattermapbox\": [{\"marker\": {\"colorbar\": {\"outlinewidth\": 0, \"ticks\": \"\"}}, \"type\": \"scattermapbox\"}], \"scatterpolar\": [{\"marker\": {\"colorbar\": {\"outlinewidth\": 0, \"ticks\": \"\"}}, \"type\": \"scatterpolar\"}], \"scatterpolargl\": [{\"marker\": {\"colorbar\": {\"outlinewidth\": 0, \"ticks\": \"\"}}, \"type\": \"scatterpolargl\"}], \"scatterternary\": [{\"marker\": {\"colorbar\": {\"outlinewidth\": 0, \"ticks\": \"\"}}, \"type\": \"scatterternary\"}], \"surface\": [{\"colorbar\": {\"outlinewidth\": 0, \"ticks\": \"\"}, \"colorscale\": [[0.0, \"#0d0887\"], [0.1111111111111111, \"#46039f\"], [0.2222222222222222, \"#7201a8\"], [0.3333333333333333, \"#9c179e\"], [0.4444444444444444, \"#bd3786\"], [0.5555555555555556, \"#d8576b\"], [0.6666666666666666, \"#ed7953\"], [0.7777777777777778, \"#fb9f3a\"], [0.8888888888888888, \"#fdca26\"], [1.0, \"#f0f921\"]], \"type\": \"surface\"}], \"table\": [{\"cells\": {\"fill\": {\"color\": \"#EBF0F8\"}, \"line\": {\"color\": \"white\"}}, \"header\": {\"fill\": {\"color\": \"#C8D4E3\"}, \"line\": {\"color\": \"white\"}}, \"type\": \"table\"}]}, \"layout\": {\"annotationdefaults\": {\"arrowcolor\": \"#2a3f5f\", \"arrowhead\": 0, \"arrowwidth\": 1}, \"coloraxis\": {\"colorbar\": {\"outlinewidth\": 0, \"ticks\": \"\"}}, \"colorscale\": {\"diverging\": [[0, \"#8e0152\"], [0.1, \"#c51b7d\"], [0.2, \"#de77ae\"], [0.3, \"#f1b6da\"], [0.4, \"#fde0ef\"], [0.5, \"#f7f7f7\"], [0.6, \"#e6f5d0\"], [0.7, \"#b8e186\"], [0.8, \"#7fbc41\"], [0.9, \"#4d9221\"], [1, \"#276419\"]], \"sequential\": [[0.0, \"#0d0887\"], [0.1111111111111111, \"#46039f\"], [0.2222222222222222, \"#7201a8\"], [0.3333333333333333, \"#9c179e\"], [0.4444444444444444, \"#bd3786\"], [0.5555555555555556, \"#d8576b\"], [0.6666666666666666, \"#ed7953\"], [0.7777777777777778, \"#fb9f3a\"], [0.8888888888888888, \"#fdca26\"], [1.0, \"#f0f921\"]], \"sequentialminus\": [[0.0, \"#0d0887\"], [0.1111111111111111, \"#46039f\"], [0.2222222222222222, \"#7201a8\"], [0.3333333333333333, \"#9c179e\"], [0.4444444444444444, \"#bd3786\"], [0.5555555555555556, \"#d8576b\"], [0.6666666666666666, \"#ed7953\"], [0.7777777777777778, \"#fb9f3a\"], [0.8888888888888888, \"#fdca26\"], [1.0, \"#f0f921\"]]}, \"colorway\": [\"#636efa\", \"#EF553B\", \"#00cc96\", \"#ab63fa\", \"#FFA15A\", \"#19d3f3\", \"#FF6692\", \"#B6E880\", \"#FF97FF\", \"#FECB52\"], \"font\": {\"color\": \"#2a3f5f\"}, \"geo\": {\"bgcolor\": \"white\", \"lakecolor\": \"white\", \"landcolor\": \"#E5ECF6\", \"showlakes\": true, \"showland\": true, \"subunitcolor\": \"white\"}, \"hoverlabel\": {\"align\": \"left\"}, \"hovermode\": \"closest\", \"mapbox\": {\"style\": \"light\"}, \"paper_bgcolor\": \"white\", \"plot_bgcolor\": \"#E5ECF6\", \"polar\": {\"angularaxis\": {\"gridcolor\": \"white\", \"linecolor\": \"white\", \"ticks\": \"\"}, \"bgcolor\": \"#E5ECF6\", \"radialaxis\": {\"gridcolor\": \"white\", \"linecolor\": \"white\", \"ticks\": \"\"}}, \"scene\": {\"xaxis\": {\"backgroundcolor\": \"#E5ECF6\", \"gridcolor\": \"white\", \"gridwidth\": 2, \"linecolor\": \"white\", \"showbackground\": true, \"ticks\": \"\", \"zerolinecolor\": \"white\"}, \"yaxis\": {\"backgroundcolor\": \"#E5ECF6\", \"gridcolor\": \"white\", \"gridwidth\": 2, \"linecolor\": \"white\", \"showbackground\": true, \"ticks\": \"\", \"zerolinecolor\": \"white\"}, \"zaxis\": {\"backgroundcolor\": \"#E5ECF6\", \"gridcolor\": \"white\", \"gridwidth\": 2, \"linecolor\": \"white\", \"showbackground\": true, \"ticks\": \"\", \"zerolinecolor\": \"white\"}}, \"shapedefaults\": {\"line\": {\"color\": \"#2a3f5f\"}}, \"ternary\": {\"aaxis\": {\"gridcolor\": \"white\", \"linecolor\": \"white\", \"ticks\": \"\"}, \"baxis\": {\"gridcolor\": \"white\", \"linecolor\": \"white\", \"ticks\": \"\"}, \"bgcolor\": \"#E5ECF6\", \"caxis\": {\"gridcolor\": \"white\", \"linecolor\": \"white\", \"ticks\": \"\"}}, \"title\": {\"x\": 0.05}, \"xaxis\": {\"automargin\": true, \"gridcolor\": \"white\", \"linecolor\": \"white\", \"ticks\": \"\", \"title\": {\"standoff\": 15}, \"zerolinecolor\": \"white\", \"zerolinewidth\": 2}, \"yaxis\": {\"automargin\": true, \"gridcolor\": \"white\", \"linecolor\": \"white\", \"ticks\": \"\", \"title\": {\"standoff\": 15}, \"zerolinecolor\": \"white\", \"zerolinewidth\": 2}}}, \"title\": {\"text\": \"Goals/app vs Value\"}, \"xaxis\": {\"anchor\": \"y\", \"domain\": [0.0, 1.0], \"title\": {\"text\": \"goals/app\"}}, \"yaxis\": {\"anchor\": \"x\", \"domain\": [0.0, 1.0], \"title\": {\"text\": \"value\"}}},\n",
       "                        {\"responsive\": true}\n",
       "                    ).then(function(){\n",
       "                            \n",
       "var gd = document.getElementById('8c7b9f97-b1a8-4a1e-9d7f-436e214f9597');\n",
       "var x = new MutationObserver(function (mutations, observer) {{\n",
       "        var display = window.getComputedStyle(gd).display;\n",
       "        if (!display || display === 'none') {{\n",
       "            console.log([gd, 'removed!']);\n",
       "            Plotly.purge(gd);\n",
       "            observer.disconnect();\n",
       "        }}\n",
       "}});\n",
       "\n",
       "// Listen for the removal of the full notebook cells\n",
       "var notebookContainer = gd.closest('#notebook-container');\n",
       "if (notebookContainer) {{\n",
       "    x.observe(notebookContainer, {childList: true});\n",
       "}}\n",
       "\n",
       "// Listen for the clearing of the current output cell\n",
       "var outputEl = gd.closest('.output');\n",
       "if (outputEl) {{\n",
       "    x.observe(outputEl, {childList: true});\n",
       "}}\n",
       "\n",
       "                        })\n",
       "                };\n",
       "                });\n",
       "            </script>\n",
       "        </div>"
      ]
     },
     "metadata": {},
     "output_type": "display_data"
    }
   ],
   "source": [
    "import plotly.express as px\n",
    "fig = px.scatter(merged,x='goals/app', y='value',title='Goals/app vs Value', color='club',text='name')\n",
    "fig.show()"
   ]
  },
  {
   "cell_type": "code",
   "execution_count": 230,
   "metadata": {
    "scrolled": false
   },
   "outputs": [
    {
     "data": {
      "image/png": "[encoded data removed]",
      "text/plain": [
       "<Figure size 432x288 with 1 Axes>"
      ]
     },
     "metadata": {
      "needs_background": "light"
     },
     "output_type": "display_data"
    }
   ],
   "source": [
    "from sklearn.model_selection import train_test_split\n",
    "from sklearn.linear_model import LinearRegression\n",
    "X = merged[[\"goals\",'assists','homegrown','tackles','saves']]\n",
    "y = merged[[\"value\"]]\n",
    "\n",
    "X_train, X_test, y_train, y_test = train_test_split(X, y, test_size=0.4, random_state=101)\n",
    "\n",
    "from sklearn.linear_model import LinearRegression\n",
    "lm = LinearRegression()\n",
    "lm.fit(X_train,y_train)\n",
    "\n",
    "predictions = lm.predict(X_test)\n",
    "plt.scatter(y_test,predictions);\n",
    "\n",
    "#lineáris regresszió több változóval"
   ]
  },
  {
   "cell_type": "code",
   "execution_count": 232,
   "metadata": {},
   "outputs": [
    {
     "data": {
      "text/html": [
       "<div>\n",
       "<style scoped>\n",
       "    .dataframe tbody tr th:only-of-type {\n",
       "        vertical-align: middle;\n",
       "    }\n",
       "\n",
       "    .dataframe tbody tr th {\n",
       "        vertical-align: top;\n",
       "    }\n",
       "\n",
       "    .dataframe thead th {\n",
       "        text-align: right;\n",
       "    }\n",
       "</style>\n",
       "<table border=\"1\" class=\"dataframe\">\n",
       "  <thead>\n",
       "    <tr style=\"text-align: right;\">\n",
       "      <th></th>\n",
       "      <th>homegrown</th>\n",
       "      <th>value</th>\n",
       "    </tr>\n",
       "  </thead>\n",
       "  <tbody>\n",
       "    <tr>\n",
       "      <th>homegrown</th>\n",
       "      <td>1.000000</td>\n",
       "      <td>-0.005496</td>\n",
       "    </tr>\n",
       "    <tr>\n",
       "      <th>value</th>\n",
       "      <td>-0.005496</td>\n",
       "      <td>1.000000</td>\n",
       "    </tr>\n",
       "  </tbody>\n",
       "</table>\n",
       "</div>"
      ],
      "text/plain": [
       "           homegrown     value\n",
       "homegrown   1.000000 -0.005496\n",
       "value      -0.005496  1.000000"
      ]
     },
     "execution_count": 232,
     "metadata": {},
     "output_type": "execute_result"
    }
   ],
   "source": [
    "subdf5=(\n",
    "    merged[['homegrown','value']]\n",
    "    .sort_values('value', ascending=False)\n",
    ")  \n",
    "subdf5.corr()\n",
    "#a játékosok piaci értéke között, és aközött, hogy hazai nevelésűek-e az összes játékosra nézve negatív a kapcsolat"
   ]
  },
  {
   "cell_type": "code",
   "execution_count": 233,
   "metadata": {},
   "outputs": [
    {
     "data": {
      "text/html": [
       "<div>\n",
       "<style scoped>\n",
       "    .dataframe tbody tr th:only-of-type {\n",
       "        vertical-align: middle;\n",
       "    }\n",
       "\n",
       "    .dataframe tbody tr th {\n",
       "        vertical-align: top;\n",
       "    }\n",
       "\n",
       "    .dataframe thead th {\n",
       "        text-align: right;\n",
       "    }\n",
       "</style>\n",
       "<table border=\"1\" class=\"dataframe\">\n",
       "  <thead>\n",
       "    <tr style=\"text-align: right;\">\n",
       "      <th></th>\n",
       "      <th>homegrown</th>\n",
       "      <th>value</th>\n",
       "    </tr>\n",
       "  </thead>\n",
       "  <tbody>\n",
       "    <tr>\n",
       "      <th>homegrown</th>\n",
       "      <td>1.000000</td>\n",
       "      <td>0.071527</td>\n",
       "    </tr>\n",
       "    <tr>\n",
       "      <th>value</th>\n",
       "      <td>0.071527</td>\n",
       "      <td>1.000000</td>\n",
       "    </tr>\n",
       "  </tbody>\n",
       "</table>\n",
       "</div>"
      ],
      "text/plain": [
       "           homegrown     value\n",
       "homegrown   1.000000  0.071527\n",
       "value       0.071527  1.000000"
      ]
     },
     "execution_count": 233,
     "metadata": {},
     "output_type": "execute_result"
    }
   ],
   "source": [
    "subdf6=(\n",
    "    clubs[['homegrown','value']]\n",
    "    .sort_values('value', ascending=False)\n",
    ")  \n",
    "subdf6.corr()"
   ]
  },
  {
   "cell_type": "code",
   "execution_count": 213,
   "metadata": {},
   "outputs": [
    {
     "data": {
      "image/png": "[encoded data removed]",
      "text/plain": [
       "<Figure size 432x288 with 1 Axes>"
      ]
     },
     "metadata": {
      "needs_background": "light"
     },
     "output_type": "display_data"
    }
   ],
   "source": [
    "sns.regplot(x='homegrown',y='value', data=clubs,scatter_kws={'alpha':0.25});\n",
    "#a csapatokra nézve viszont pozitív a kapcsolat(több hazai nevelésű, magasabb összérték)"
   ]
  },
  {
   "cell_type": "code",
   "execution_count": 206,
   "metadata": {},
   "outputs": [
    {
     "data": {
      "application/vnd.plotly.v1+json": {
       "config": {
        "plotlyServerURL": "https://plot.ly"
       },
       "data": [
        {
         "hoverlabel": {
          "namelength": 0
         },
         "hovertemplate": "club=Liverpool<br>homegrown=%{x}<br>value=%{y}",
         "legendgroup": "club=Liverpool",
         "marker": {
          "color": "#636efa",
          "symbol": "circle"
         },
         "mode": "markers",
         "name": "club=Liverpool",
         "showlegend": true,
         "type": "scatter",
         "x": [
          5
         ],
         "xaxis": "x",
         "y": [
          1047800000
         ],
         "yaxis": "y"
        },
        {
         "hoverlabel": {
          "namelength": 0
         },
         "hovertemplate": "club=Manchester City<br>homegrown=%{x}<br>value=%{y}",
         "legendgroup": "club=Manchester City",
         "marker": {
          "color": "#EF553B",
          "symbol": "circle"
         },
         "mode": "markers",
         "name": "club=Manchester City",
         "showlegend": true,
         "type": "scatter",
         "x": [
          2
         ],
         "xaxis": "x",
         "y": [
          959500000
         ],
         "yaxis": "y"
        },
        {
         "hoverlabel": {
          "namelength": 0
         },
         "hovertemplate": "club=Tottenham Hotspur<br>homegrown=%{x}<br>value=%{y}",
         "legendgroup": "club=Tottenham Hotspur",
         "marker": {
          "color": "#00cc96",
          "symbol": "circle"
         },
         "mode": "markers",
         "name": "club=Tottenham Hotspur",
         "showlegend": true,
         "type": "scatter",
         "x": [
          4
         ],
         "xaxis": "x",
         "y": [
          790800000
         ],
         "yaxis": "y"
        },
        {
         "hoverlabel": {
          "namelength": 0
         },
         "hovertemplate": "club=Chelsea<br>homegrown=%{x}<br>value=%{y}",
         "legendgroup": "club=Chelsea",
         "marker": {
          "color": "#ab63fa",
          "symbol": "circle"
         },
         "mode": "markers",
         "name": "club=Chelsea",
         "showlegend": true,
         "type": "scatter",
         "x": [
          5
         ],
         "xaxis": "x",
         "y": [
          787500000
         ],
         "yaxis": "y"
        },
        {
         "hoverlabel": {
          "namelength": 0
         },
         "hovertemplate": "club=Manchester United<br>homegrown=%{x}<br>value=%{y}",
         "legendgroup": "club=Manchester United",
         "marker": {
          "color": "#FFA15A",
          "symbol": "circle"
         },
         "mode": "markers",
         "name": "club=Manchester United",
         "showlegend": true,
         "type": "scatter",
         "x": [
          7
         ],
         "xaxis": "x",
         "y": [
          729600000
         ],
         "yaxis": "y"
        },
        {
         "hoverlabel": {
          "namelength": 0
         },
         "hovertemplate": "club=Arsenal<br>homegrown=%{x}<br>value=%{y}",
         "legendgroup": "club=Arsenal",
         "marker": {
          "color": "#19d3f3",
          "symbol": "circle"
         },
         "mode": "markers",
         "name": "club=Arsenal",
         "showlegend": true,
         "type": "scatter",
         "x": [
          6
         ],
         "xaxis": "x",
         "y": [
          541750000
         ],
         "yaxis": "y"
        },
        {
         "hoverlabel": {
          "namelength": 0
         },
         "hovertemplate": "club=Everton<br>homegrown=%{x}<br>value=%{y}",
         "legendgroup": "club=Everton",
         "marker": {
          "color": "#FF6692",
          "symbol": "circle"
         },
         "mode": "markers",
         "name": "club=Everton",
         "showlegend": true,
         "type": "scatter",
         "x": [
          10
         ],
         "xaxis": "x",
         "y": [
          507500000
         ],
         "yaxis": "y"
        },
        {
         "hoverlabel": {
          "namelength": 0
         },
         "hovertemplate": "club=Leicester City<br>homegrown=%{x}<br>value=%{y}",
         "legendgroup": "club=Leicester City",
         "marker": {
          "color": "#B6E880",
          "symbol": "circle"
         },
         "mode": "markers",
         "name": "club=Leicester City",
         "showlegend": true,
         "type": "scatter",
         "x": [
          10
         ],
         "xaxis": "x",
         "y": [
          359250000
         ],
         "yaxis": "y"
        },
        {
         "hoverlabel": {
          "namelength": 0
         },
         "hovertemplate": "club=AFC Bournemouth<br>homegrown=%{x}<br>value=%{y}",
         "legendgroup": "club=AFC Bournemouth",
         "marker": {
          "color": "#FF97FF",
          "symbol": "circle"
         },
         "mode": "markers",
         "name": "club=AFC Bournemouth",
         "showlegend": true,
         "type": "scatter",
         "x": [
          18
         ],
         "xaxis": "x",
         "y": [
          303300000
         ],
         "yaxis": "y"
        },
        {
         "hoverlabel": {
          "namelength": 0
         },
         "hovertemplate": "club=West Ham United<br>homegrown=%{x}<br>value=%{y}",
         "legendgroup": "club=West Ham United",
         "marker": {
          "color": "#FECB52",
          "symbol": "circle"
         },
         "mode": "markers",
         "name": "club=West Ham United",
         "showlegend": true,
         "type": "scatter",
         "x": [
          5
         ],
         "xaxis": "x",
         "y": [
          269500000
         ],
         "yaxis": "y"
        },
        {
         "hoverlabel": {
          "namelength": 0
         },
         "hovertemplate": "club=Wolverhampton Wanderers<br>homegrown=%{x}<br>value=%{y}",
         "legendgroup": "club=Wolverhampton Wanderers",
         "marker": {
          "color": "#636efa",
          "symbol": "circle"
         },
         "mode": "markers",
         "name": "club=Wolverhampton Wanderers",
         "showlegend": true,
         "type": "scatter",
         "x": [
          3
         ],
         "xaxis": "x",
         "y": [
          266250000
         ],
         "yaxis": "y"
        },
        {
         "hoverlabel": {
          "namelength": 0
         },
         "hovertemplate": "club=Brighton and Hove Albion<br>homegrown=%{x}<br>value=%{y}",
         "legendgroup": "club=Brighton and Hove Albion",
         "marker": {
          "color": "#EF553B",
          "symbol": "circle"
         },
         "mode": "markers",
         "name": "club=Brighton and Hove Albion",
         "showlegend": true,
         "type": "scatter",
         "x": [
          8
         ],
         "xaxis": "x",
         "y": [
          250500000
         ],
         "yaxis": "y"
        },
        {
         "hoverlabel": {
          "namelength": 0
         },
         "hovertemplate": "club=Crystal Palace<br>homegrown=%{x}<br>value=%{y}",
         "legendgroup": "club=Crystal Palace",
         "marker": {
          "color": "#00cc96",
          "symbol": "circle"
         },
         "mode": "markers",
         "name": "club=Crystal Palace",
         "showlegend": true,
         "type": "scatter",
         "x": [
          10
         ],
         "xaxis": "x",
         "y": [
          226000000
         ],
         "yaxis": "y"
        },
        {
         "hoverlabel": {
          "namelength": 0
         },
         "hovertemplate": "club=Newcastle United<br>homegrown=%{x}<br>value=%{y}",
         "legendgroup": "club=Newcastle United",
         "marker": {
          "color": "#ab63fa",
          "symbol": "circle"
         },
         "mode": "markers",
         "name": "club=Newcastle United",
         "showlegend": true,
         "type": "scatter",
         "x": [
          9
         ],
         "xaxis": "x",
         "y": [
          184500000
         ],
         "yaxis": "y"
        },
        {
         "hoverlabel": {
          "namelength": 0
         },
         "hovertemplate": "club=Southampton<br>homegrown=%{x}<br>value=%{y}",
         "legendgroup": "club=Southampton",
         "marker": {
          "color": "#FFA15A",
          "symbol": "circle"
         },
         "mode": "markers",
         "name": "club=Southampton",
         "showlegend": true,
         "type": "scatter",
         "x": [
          6
         ],
         "xaxis": "x",
         "y": [
          179200000
         ],
         "yaxis": "y"
        },
        {
         "hoverlabel": {
          "namelength": 0
         },
         "hovertemplate": "club=Burnley<br>homegrown=%{x}<br>value=%{y}",
         "legendgroup": "club=Burnley",
         "marker": {
          "color": "#19d3f3",
          "symbol": "circle"
         },
         "mode": "markers",
         "name": "club=Burnley",
         "showlegend": true,
         "type": "scatter",
         "x": [
          17
         ],
         "xaxis": "x",
         "y": [
          165250000
         ],
         "yaxis": "y"
        },
        {
         "hoverlabel": {
          "namelength": 0
         },
         "hovertemplate": "club=Watford<br>homegrown=%{x}<br>value=%{y}",
         "legendgroup": "club=Watford",
         "marker": {
          "color": "#FF6692",
          "symbol": "circle"
         },
         "mode": "markers",
         "name": "club=Watford",
         "showlegend": true,
         "type": "scatter",
         "x": [
          7
         ],
         "xaxis": "x",
         "y": [
          159150000
         ],
         "yaxis": "y"
        },
        {
         "hoverlabel": {
          "namelength": 0
         },
         "hovertemplate": "club=Aston Villa<br>homegrown=%{x}<br>value=%{y}",
         "legendgroup": "club=Aston Villa",
         "marker": {
          "color": "#B6E880",
          "symbol": "circle"
         },
         "mode": "markers",
         "name": "club=Aston Villa",
         "showlegend": true,
         "type": "scatter",
         "x": [
          4
         ],
         "xaxis": "x",
         "y": [
          47000000
         ],
         "yaxis": "y"
        },
        {
         "hoverlabel": {
          "namelength": 0
         },
         "hovertemplate": "club=Sheffield United<br>homegrown=%{x}<br>value=%{y}",
         "legendgroup": "club=Sheffield United",
         "marker": {
          "color": "#FF97FF",
          "symbol": "circle"
         },
         "mode": "markers",
         "name": "club=Sheffield United",
         "showlegend": true,
         "type": "scatter",
         "x": [
          1
         ],
         "xaxis": "x",
         "y": [
          17000000
         ],
         "yaxis": "y"
        },
        {
         "hoverlabel": {
          "namelength": 0
         },
         "hovertemplate": "club=West Bromwich Albion<br>homegrown=%{x}<br>value=%{y}",
         "legendgroup": "club=West Bromwich Albion",
         "marker": {
          "color": "#FECB52",
          "symbol": "circle"
         },
         "mode": "markers",
         "name": "club=West Bromwich Albion",
         "showlegend": true,
         "type": "scatter",
         "x": [
          1
         ],
         "xaxis": "x",
         "y": [
          15000000
         ],
         "yaxis": "y"
        },
        {
         "hoverlabel": {
          "namelength": 0
         },
         "hovertemplate": "club=Norwich City<br>homegrown=%{x}<br>value=%{y}",
         "legendgroup": "club=Norwich City",
         "marker": {
          "color": "#636efa",
          "symbol": "circle"
         },
         "mode": "markers",
         "name": "club=Norwich City",
         "showlegend": true,
         "type": "scatter",
         "x": [
          2
         ],
         "xaxis": "x",
         "y": [
          12500000
         ],
         "yaxis": "y"
        },
        {
         "hoverlabel": {
          "namelength": 0
         },
         "hovertemplate": "club=Liverpool U19<br>homegrown=%{x}<br>value=%{y}",
         "legendgroup": "club=Liverpool U19",
         "marker": {
          "color": "#EF553B",
          "symbol": "circle"
         },
         "mode": "markers",
         "name": "club=Liverpool U19",
         "showlegend": true,
         "type": "scatter",
         "x": [
          0
         ],
         "xaxis": "x",
         "y": [
          4000000
         ],
         "yaxis": "y"
        },
        {
         "hoverlabel": {
          "namelength": 0
         },
         "hovertemplate": "club=Luton Town<br>homegrown=%{x}<br>value=%{y}",
         "legendgroup": "club=Luton Town",
         "marker": {
          "color": "#00cc96",
          "symbol": "circle"
         },
         "mode": "markers",
         "name": "club=Luton Town",
         "showlegend": true,
         "type": "scatter",
         "x": [
          0
         ],
         "xaxis": "x",
         "y": [
          3000000
         ],
         "yaxis": "y"
        }
       ],
       "layout": {
        "height": 600,
        "legend": {
         "tracegroupgap": 0
        },
        "template": {
         "data": {
          "bar": [
           {
            "error_x": {
             "color": "#2a3f5f"
            },
            "error_y": {
             "color": "#2a3f5f"
            },
            "marker": {
             "line": {
              "color": "#E5ECF6",
              "width": 0.5
             }
            },
            "type": "bar"
           }
          ],
          "barpolar": [
           {
            "marker": {
             "line": {
              "color": "#E5ECF6",
              "width": 0.5
             }
            },
            "type": "barpolar"
           }
          ],
          "carpet": [
           {
            "aaxis": {
             "endlinecolor": "#2a3f5f",
             "gridcolor": "white",
             "linecolor": "white",
             "minorgridcolor": "white",
             "startlinecolor": "#2a3f5f"
            },
            "baxis": {
             "endlinecolor": "#2a3f5f",
             "gridcolor": "white",
             "linecolor": "white",
             "minorgridcolor": "white",
             "startlinecolor": "#2a3f5f"
            },
            "type": "carpet"
           }
          ],
          "choropleth": [
           {
            "colorbar": {
             "outlinewidth": 0,
             "ticks": ""
            },
            "type": "choropleth"
           }
          ],
          "contour": [
           {
            "colorbar": {
             "outlinewidth": 0,
             "ticks": ""
            },
            "colorscale": [
             [
              0,
              "#0d0887"
             ],
             [
              0.1111111111111111,
              "#46039f"
             ],
             [
              0.2222222222222222,
              "#7201a8"
             ],
             [
              0.3333333333333333,
              "#9c179e"
             ],
             [
              0.4444444444444444,
              "#bd3786"
             ],
             [
              0.5555555555555556,
              "#d8576b"
             ],
             [
              0.6666666666666666,
              "#ed7953"
             ],
             [
              0.7777777777777778,
              "#fb9f3a"
             ],
             [
              0.8888888888888888,
              "#fdca26"
             ],
             [
              1,
              "#f0f921"
             ]
            ],
            "type": "contour"
           }
          ],
          "contourcarpet": [
           {
            "colorbar": {
             "outlinewidth": 0,
             "ticks": ""
            },
            "type": "contourcarpet"
           }
          ],
          "heatmap": [
           {
            "colorbar": {
             "outlinewidth": 0,
             "ticks": ""
            },
            "colorscale": [
             [
              0,
              "#0d0887"
             ],
             [
              0.1111111111111111,
              "#46039f"
             ],
             [
              0.2222222222222222,
              "#7201a8"
             ],
             [
              0.3333333333333333,
              "#9c179e"
             ],
             [
              0.4444444444444444,
              "#bd3786"
             ],
             [
              0.5555555555555556,
              "#d8576b"
             ],
             [
              0.6666666666666666,
              "#ed7953"
             ],
             [
              0.7777777777777778,
              "#fb9f3a"
             ],
             [
              0.8888888888888888,
              "#fdca26"
             ],
             [
              1,
              "#f0f921"
             ]
            ],
            "type": "heatmap"
           }
          ],
          "heatmapgl": [
           {
            "colorbar": {
             "outlinewidth": 0,
             "ticks": ""
            },
            "colorscale": [
             [
              0,
              "#0d0887"
             ],
             [
              0.1111111111111111,
              "#46039f"
             ],
             [
              0.2222222222222222,
              "#7201a8"
             ],
             [
              0.3333333333333333,
              "#9c179e"
             ],
             [
              0.4444444444444444,
              "#bd3786"
             ],
             [
              0.5555555555555556,
              "#d8576b"
             ],
             [
              0.6666666666666666,
              "#ed7953"
             ],
             [
              0.7777777777777778,
              "#fb9f3a"
             ],
             [
              0.8888888888888888,
              "#fdca26"
             ],
             [
              1,
              "#f0f921"
             ]
            ],
            "type": "heatmapgl"
           }
          ],
          "histogram": [
           {
            "marker": {
             "colorbar": {
              "outlinewidth": 0,
              "ticks": ""
             }
            },
            "type": "histogram"
           }
          ],
          "histogram2d": [
           {
            "colorbar": {
             "outlinewidth": 0,
             "ticks": ""
            },
            "colorscale": [
             [
              0,
              "#0d0887"
             ],
             [
              0.1111111111111111,
              "#46039f"
             ],
             [
              0.2222222222222222,
              "#7201a8"
             ],
             [
              0.3333333333333333,
              "#9c179e"
             ],
             [
              0.4444444444444444,
              "#bd3786"
             ],
             [
              0.5555555555555556,
              "#d8576b"
             ],
             [
              0.6666666666666666,
              "#ed7953"
             ],
             [
              0.7777777777777778,
              "#fb9f3a"
             ],
             [
              0.8888888888888888,
              "#fdca26"
             ],
             [
              1,
              "#f0f921"
             ]
            ],
            "type": "histogram2d"
           }
          ],
          "histogram2dcontour": [
           {
            "colorbar": {
             "outlinewidth": 0,
             "ticks": ""
            },
            "colorscale": [
             [
              0,
              "#0d0887"
             ],
             [
              0.1111111111111111,
              "#46039f"
             ],
             [
              0.2222222222222222,
              "#7201a8"
             ],
             [
              0.3333333333333333,
              "#9c179e"
             ],
             [
              0.4444444444444444,
              "#bd3786"
             ],
             [
              0.5555555555555556,
              "#d8576b"
             ],
             [
              0.6666666666666666,
              "#ed7953"
             ],
             [
              0.7777777777777778,
              "#fb9f3a"
             ],
             [
              0.8888888888888888,
              "#fdca26"
             ],
             [
              1,
              "#f0f921"
             ]
            ],
            "type": "histogram2dcontour"
           }
          ],
          "mesh3d": [
           {
            "colorbar": {
             "outlinewidth": 0,
             "ticks": ""
            },
            "type": "mesh3d"
           }
          ],
          "parcoords": [
           {
            "line": {
             "colorbar": {
              "outlinewidth": 0,
              "ticks": ""
             }
            },
            "type": "parcoords"
           }
          ],
          "pie": [
           {
            "automargin": true,
            "type": "pie"
           }
          ],
          "scatter": [
           {
            "marker": {
             "colorbar": {
              "outlinewidth": 0,
              "ticks": ""
             }
            },
            "type": "scatter"
           }
          ],
          "scatter3d": [
           {
            "line": {
             "colorbar": {
              "outlinewidth": 0,
              "ticks": ""
             }
            },
            "marker": {
             "colorbar": {
              "outlinewidth": 0,
              "ticks": ""
             }
            },
            "type": "scatter3d"
           }
          ],
          "scattercarpet": [
           {
            "marker": {
             "colorbar": {
              "outlinewidth": 0,
              "ticks": ""
             }
            },
            "type": "scattercarpet"
           }
          ],
          "scattergeo": [
           {
            "marker": {
             "colorbar": {
              "outlinewidth": 0,
              "ticks": ""
             }
            },
            "type": "scattergeo"
           }
          ],
          "scattergl": [
           {
            "marker": {
             "colorbar": {
              "outlinewidth": 0,
              "ticks": ""
             }
            },
            "type": "scattergl"
           }
          ],
          "scattermapbox": [
           {
            "marker": {
             "colorbar": {
              "outlinewidth": 0,
              "ticks": ""
             }
            },
            "type": "scattermapbox"
           }
          ],
          "scatterpolar": [
           {
            "marker": {
             "colorbar": {
              "outlinewidth": 0,
              "ticks": ""
             }
            },
            "type": "scatterpolar"
           }
          ],
          "scatterpolargl": [
           {
            "marker": {
             "colorbar": {
              "outlinewidth": 0,
              "ticks": ""
             }
            },
            "type": "scatterpolargl"
           }
          ],
          "scatterternary": [
           {
            "marker": {
             "colorbar": {
              "outlinewidth": 0,
              "ticks": ""
             }
            },
            "type": "scatterternary"
           }
          ],
          "surface": [
           {
            "colorbar": {
             "outlinewidth": 0,
             "ticks": ""
            },
            "colorscale": [
             [
              0,
              "#0d0887"
             ],
             [
              0.1111111111111111,
              "#46039f"
             ],
             [
              0.2222222222222222,
              "#7201a8"
             ],
             [
              0.3333333333333333,
              "#9c179e"
             ],
             [
              0.4444444444444444,
              "#bd3786"
             ],
             [
              0.5555555555555556,
              "#d8576b"
             ],
             [
              0.6666666666666666,
              "#ed7953"
             ],
             [
              0.7777777777777778,
              "#fb9f3a"
             ],
             [
              0.8888888888888888,
              "#fdca26"
             ],
             [
              1,
              "#f0f921"
             ]
            ],
            "type": "surface"
           }
          ],
          "table": [
           {
            "cells": {
             "fill": {
              "color": "#EBF0F8"
             },
             "line": {
              "color": "white"
             }
            },
            "header": {
             "fill": {
              "color": "#C8D4E3"
             },
             "line": {
              "color": "white"
             }
            },
            "type": "table"
           }
          ]
         },
         "layout": {
          "annotationdefaults": {
           "arrowcolor": "#2a3f5f",
           "arrowhead": 0,
           "arrowwidth": 1
          },
          "coloraxis": {
           "colorbar": {
            "outlinewidth": 0,
            "ticks": ""
           }
          },
          "colorscale": {
           "diverging": [
            [
             0,
             "#8e0152"
            ],
            [
             0.1,
             "#c51b7d"
            ],
            [
             0.2,
             "#de77ae"
            ],
            [
             0.3,
             "#f1b6da"
            ],
            [
             0.4,
             "#fde0ef"
            ],
            [
             0.5,
             "#f7f7f7"
            ],
            [
             0.6,
             "#e6f5d0"
            ],
            [
             0.7,
             "#b8e186"
            ],
            [
             0.8,
             "#7fbc41"
            ],
            [
             0.9,
             "#4d9221"
            ],
            [
             1,
             "#276419"
            ]
           ],
           "sequential": [
            [
             0,
             "#0d0887"
            ],
            [
             0.1111111111111111,
             "#46039f"
            ],
            [
             0.2222222222222222,
             "#7201a8"
            ],
            [
             0.3333333333333333,
             "#9c179e"
            ],
            [
             0.4444444444444444,
             "#bd3786"
            ],
            [
             0.5555555555555556,
             "#d8576b"
            ],
            [
             0.6666666666666666,
             "#ed7953"
            ],
            [
             0.7777777777777778,
             "#fb9f3a"
            ],
            [
             0.8888888888888888,
             "#fdca26"
            ],
            [
             1,
             "#f0f921"
            ]
           ],
           "sequentialminus": [
            [
             0,
             "#0d0887"
            ],
            [
             0.1111111111111111,
             "#46039f"
            ],
            [
             0.2222222222222222,
             "#7201a8"
            ],
            [
             0.3333333333333333,
             "#9c179e"
            ],
            [
             0.4444444444444444,
             "#bd3786"
            ],
            [
             0.5555555555555556,
             "#d8576b"
            ],
            [
             0.6666666666666666,
             "#ed7953"
            ],
            [
             0.7777777777777778,
             "#fb9f3a"
            ],
            [
             0.8888888888888888,
             "#fdca26"
            ],
            [
             1,
             "#f0f921"
            ]
           ]
          },
          "colorway": [
           "#636efa",
           "#EF553B",
           "#00cc96",
           "#ab63fa",
           "#FFA15A",
           "#19d3f3",
           "#FF6692",
           "#B6E880",
           "#FF97FF",
           "#FECB52"
          ],
          "font": {
           "color": "#2a3f5f"
          },
          "geo": {
           "bgcolor": "white",
           "lakecolor": "white",
           "landcolor": "#E5ECF6",
           "showlakes": true,
           "showland": true,
           "subunitcolor": "white"
          },
          "hoverlabel": {
           "align": "left"
          },
          "hovermode": "closest",
          "mapbox": {
           "style": "light"
          },
          "paper_bgcolor": "white",
          "plot_bgcolor": "#E5ECF6",
          "polar": {
           "angularaxis": {
            "gridcolor": "white",
            "linecolor": "white",
            "ticks": ""
           },
           "bgcolor": "#E5ECF6",
           "radialaxis": {
            "gridcolor": "white",
            "linecolor": "white",
            "ticks": ""
           }
          },
          "scene": {
           "xaxis": {
            "backgroundcolor": "#E5ECF6",
            "gridcolor": "white",
            "gridwidth": 2,
            "linecolor": "white",
            "showbackground": true,
            "ticks": "",
            "zerolinecolor": "white"
           },
           "yaxis": {
            "backgroundcolor": "#E5ECF6",
            "gridcolor": "white",
            "gridwidth": 2,
            "linecolor": "white",
            "showbackground": true,
            "ticks": "",
            "zerolinecolor": "white"
           },
           "zaxis": {
            "backgroundcolor": "#E5ECF6",
            "gridcolor": "white",
            "gridwidth": 2,
            "linecolor": "white",
            "showbackground": true,
            "ticks": "",
            "zerolinecolor": "white"
           }
          },
          "shapedefaults": {
           "line": {
            "color": "#2a3f5f"
           }
          },
          "ternary": {
           "aaxis": {
            "gridcolor": "white",
            "linecolor": "white",
            "ticks": ""
           },
           "baxis": {
            "gridcolor": "white",
            "linecolor": "white",
            "ticks": ""
           },
           "bgcolor": "#E5ECF6",
           "caxis": {
            "gridcolor": "white",
            "linecolor": "white",
            "ticks": ""
           }
          },
          "title": {
           "x": 0.05
          },
          "xaxis": {
           "automargin": true,
           "gridcolor": "white",
           "linecolor": "white",
           "ticks": "",
           "title": {
            "standoff": 15
           },
           "zerolinecolor": "white",
           "zerolinewidth": 2
          },
          "yaxis": {
           "automargin": true,
           "gridcolor": "white",
           "linecolor": "white",
           "ticks": "",
           "title": {
            "standoff": 15
           },
           "zerolinecolor": "white",
           "zerolinewidth": 2
          }
         }
        },
        "title": {
         "text": "Homegrown vs Value"
        },
        "xaxis": {
         "anchor": "y",
         "domain": [
          0,
          1
         ],
         "title": {
          "text": "homegrown"
         }
        },
        "yaxis": {
         "anchor": "x",
         "domain": [
          0,
          1
         ],
         "title": {
          "text": "value"
         }
        }
       }
      },
      "text/html": [
       "<div>\n",
       "        \n",
       "        \n",
       "            <div id=\"7cd0d459-8c39-4416-afa9-03d47d364261\" class=\"plotly-graph-div\" style=\"height:600px; width:100%;\"></div>\n",
       "            <script type=\"text/javascript\">\n",
       "                require([\"plotly\"], function(Plotly) {\n",
       "                    window.PLOTLYENV=window.PLOTLYENV || {};\n",
       "                    \n",
       "                if (document.getElementById(\"7cd0d459-8c39-4416-afa9-03d47d364261\")) {\n",
       "                    Plotly.newPlot(\n",
       "                        '7cd0d459-8c39-4416-afa9-03d47d364261',\n",
       "                        [{\"hoverlabel\": {\"namelength\": 0}, \"hovertemplate\": \"club=Liverpool<br>homegrown=%{x}<br>value=%{y}\", \"legendgroup\": \"club=Liverpool\", \"marker\": {\"color\": \"#636efa\", \"symbol\": \"circle\"}, \"mode\": \"markers\", \"name\": \"club=Liverpool\", \"showlegend\": true, \"type\": \"scatter\", \"x\": [5], \"xaxis\": \"x\", \"y\": [1047800000], \"yaxis\": \"y\"}, {\"hoverlabel\": {\"namelength\": 0}, \"hovertemplate\": \"club=Manchester City<br>homegrown=%{x}<br>value=%{y}\", \"legendgroup\": \"club=Manchester City\", \"marker\": {\"color\": \"#EF553B\", \"symbol\": \"circle\"}, \"mode\": \"markers\", \"name\": \"club=Manchester City\", \"showlegend\": true, \"type\": \"scatter\", \"x\": [2], \"xaxis\": \"x\", \"y\": [959500000], \"yaxis\": \"y\"}, {\"hoverlabel\": {\"namelength\": 0}, \"hovertemplate\": \"club=Tottenham Hotspur<br>homegrown=%{x}<br>value=%{y}\", \"legendgroup\": \"club=Tottenham Hotspur\", \"marker\": {\"color\": \"#00cc96\", \"symbol\": \"circle\"}, \"mode\": \"markers\", \"name\": \"club=Tottenham Hotspur\", \"showlegend\": true, \"type\": \"scatter\", \"x\": [4], \"xaxis\": \"x\", \"y\": [790800000], \"yaxis\": \"y\"}, {\"hoverlabel\": {\"namelength\": 0}, \"hovertemplate\": \"club=Chelsea<br>homegrown=%{x}<br>value=%{y}\", \"legendgroup\": \"club=Chelsea\", \"marker\": {\"color\": \"#ab63fa\", \"symbol\": \"circle\"}, \"mode\": \"markers\", \"name\": \"club=Chelsea\", \"showlegend\": true, \"type\": \"scatter\", \"x\": [5], \"xaxis\": \"x\", \"y\": [787500000], \"yaxis\": \"y\"}, {\"hoverlabel\": {\"namelength\": 0}, \"hovertemplate\": \"club=Manchester United<br>homegrown=%{x}<br>value=%{y}\", \"legendgroup\": \"club=Manchester United\", \"marker\": {\"color\": \"#FFA15A\", \"symbol\": \"circle\"}, \"mode\": \"markers\", \"name\": \"club=Manchester United\", \"showlegend\": true, \"type\": \"scatter\", \"x\": [7], \"xaxis\": \"x\", \"y\": [729600000], \"yaxis\": \"y\"}, {\"hoverlabel\": {\"namelength\": 0}, \"hovertemplate\": \"club=Arsenal<br>homegrown=%{x}<br>value=%{y}\", \"legendgroup\": \"club=Arsenal\", \"marker\": {\"color\": \"#19d3f3\", \"symbol\": \"circle\"}, \"mode\": \"markers\", \"name\": \"club=Arsenal\", \"showlegend\": true, \"type\": \"scatter\", \"x\": [6], \"xaxis\": \"x\", \"y\": [541750000], \"yaxis\": \"y\"}, {\"hoverlabel\": {\"namelength\": 0}, \"hovertemplate\": \"club=Everton<br>homegrown=%{x}<br>value=%{y}\", \"legendgroup\": \"club=Everton\", \"marker\": {\"color\": \"#FF6692\", \"symbol\": \"circle\"}, \"mode\": \"markers\", \"name\": \"club=Everton\", \"showlegend\": true, \"type\": \"scatter\", \"x\": [10], \"xaxis\": \"x\", \"y\": [507500000], \"yaxis\": \"y\"}, {\"hoverlabel\": {\"namelength\": 0}, \"hovertemplate\": \"club=Leicester City<br>homegrown=%{x}<br>value=%{y}\", \"legendgroup\": \"club=Leicester City\", \"marker\": {\"color\": \"#B6E880\", \"symbol\": \"circle\"}, \"mode\": \"markers\", \"name\": \"club=Leicester City\", \"showlegend\": true, \"type\": \"scatter\", \"x\": [10], \"xaxis\": \"x\", \"y\": [359250000], \"yaxis\": \"y\"}, {\"hoverlabel\": {\"namelength\": 0}, \"hovertemplate\": \"club=AFC Bournemouth<br>homegrown=%{x}<br>value=%{y}\", \"legendgroup\": \"club=AFC Bournemouth\", \"marker\": {\"color\": \"#FF97FF\", \"symbol\": \"circle\"}, \"mode\": \"markers\", \"name\": \"club=AFC Bournemouth\", \"showlegend\": true, \"type\": \"scatter\", \"x\": [18], \"xaxis\": \"x\", \"y\": [303300000], \"yaxis\": \"y\"}, {\"hoverlabel\": {\"namelength\": 0}, \"hovertemplate\": \"club=West Ham United<br>homegrown=%{x}<br>value=%{y}\", \"legendgroup\": \"club=West Ham United\", \"marker\": {\"color\": \"#FECB52\", \"symbol\": \"circle\"}, \"mode\": \"markers\", \"name\": \"club=West Ham United\", \"showlegend\": true, \"type\": \"scatter\", \"x\": [5], \"xaxis\": \"x\", \"y\": [269500000], \"yaxis\": \"y\"}, {\"hoverlabel\": {\"namelength\": 0}, \"hovertemplate\": \"club=Wolverhampton Wanderers<br>homegrown=%{x}<br>value=%{y}\", \"legendgroup\": \"club=Wolverhampton Wanderers\", \"marker\": {\"color\": \"#636efa\", \"symbol\": \"circle\"}, \"mode\": \"markers\", \"name\": \"club=Wolverhampton Wanderers\", \"showlegend\": true, \"type\": \"scatter\", \"x\": [3], \"xaxis\": \"x\", \"y\": [266250000], \"yaxis\": \"y\"}, {\"hoverlabel\": {\"namelength\": 0}, \"hovertemplate\": \"club=Brighton and Hove Albion<br>homegrown=%{x}<br>value=%{y}\", \"legendgroup\": \"club=Brighton and Hove Albion\", \"marker\": {\"color\": \"#EF553B\", \"symbol\": \"circle\"}, \"mode\": \"markers\", \"name\": \"club=Brighton and Hove Albion\", \"showlegend\": true, \"type\": \"scatter\", \"x\": [8], \"xaxis\": \"x\", \"y\": [250500000], \"yaxis\": \"y\"}, {\"hoverlabel\": {\"namelength\": 0}, \"hovertemplate\": \"club=Crystal Palace<br>homegrown=%{x}<br>value=%{y}\", \"legendgroup\": \"club=Crystal Palace\", \"marker\": {\"color\": \"#00cc96\", \"symbol\": \"circle\"}, \"mode\": \"markers\", \"name\": \"club=Crystal Palace\", \"showlegend\": true, \"type\": \"scatter\", \"x\": [10], \"xaxis\": \"x\", \"y\": [226000000], \"yaxis\": \"y\"}, {\"hoverlabel\": {\"namelength\": 0}, \"hovertemplate\": \"club=Newcastle United<br>homegrown=%{x}<br>value=%{y}\", \"legendgroup\": \"club=Newcastle United\", \"marker\": {\"color\": \"#ab63fa\", \"symbol\": \"circle\"}, \"mode\": \"markers\", \"name\": \"club=Newcastle United\", \"showlegend\": true, \"type\": \"scatter\", \"x\": [9], \"xaxis\": \"x\", \"y\": [184500000], \"yaxis\": \"y\"}, {\"hoverlabel\": {\"namelength\": 0}, \"hovertemplate\": \"club=Southampton<br>homegrown=%{x}<br>value=%{y}\", \"legendgroup\": \"club=Southampton\", \"marker\": {\"color\": \"#FFA15A\", \"symbol\": \"circle\"}, \"mode\": \"markers\", \"name\": \"club=Southampton\", \"showlegend\": true, \"type\": \"scatter\", \"x\": [6], \"xaxis\": \"x\", \"y\": [179200000], \"yaxis\": \"y\"}, {\"hoverlabel\": {\"namelength\": 0}, \"hovertemplate\": \"club=Burnley<br>homegrown=%{x}<br>value=%{y}\", \"legendgroup\": \"club=Burnley\", \"marker\": {\"color\": \"#19d3f3\", \"symbol\": \"circle\"}, \"mode\": \"markers\", \"name\": \"club=Burnley\", \"showlegend\": true, \"type\": \"scatter\", \"x\": [17], \"xaxis\": \"x\", \"y\": [165250000], \"yaxis\": \"y\"}, {\"hoverlabel\": {\"namelength\": 0}, \"hovertemplate\": \"club=Watford<br>homegrown=%{x}<br>value=%{y}\", \"legendgroup\": \"club=Watford\", \"marker\": {\"color\": \"#FF6692\", \"symbol\": \"circle\"}, \"mode\": \"markers\", \"name\": \"club=Watford\", \"showlegend\": true, \"type\": \"scatter\", \"x\": [7], \"xaxis\": \"x\", \"y\": [159150000], \"yaxis\": \"y\"}, {\"hoverlabel\": {\"namelength\": 0}, \"hovertemplate\": \"club=Aston Villa<br>homegrown=%{x}<br>value=%{y}\", \"legendgroup\": \"club=Aston Villa\", \"marker\": {\"color\": \"#B6E880\", \"symbol\": \"circle\"}, \"mode\": \"markers\", \"name\": \"club=Aston Villa\", \"showlegend\": true, \"type\": \"scatter\", \"x\": [4], \"xaxis\": \"x\", \"y\": [47000000], \"yaxis\": \"y\"}, {\"hoverlabel\": {\"namelength\": 0}, \"hovertemplate\": \"club=Sheffield United<br>homegrown=%{x}<br>value=%{y}\", \"legendgroup\": \"club=Sheffield United\", \"marker\": {\"color\": \"#FF97FF\", \"symbol\": \"circle\"}, \"mode\": \"markers\", \"name\": \"club=Sheffield United\", \"showlegend\": true, \"type\": \"scatter\", \"x\": [1], \"xaxis\": \"x\", \"y\": [17000000], \"yaxis\": \"y\"}, {\"hoverlabel\": {\"namelength\": 0}, \"hovertemplate\": \"club=West Bromwich Albion<br>homegrown=%{x}<br>value=%{y}\", \"legendgroup\": \"club=West Bromwich Albion\", \"marker\": {\"color\": \"#FECB52\", \"symbol\": \"circle\"}, \"mode\": \"markers\", \"name\": \"club=West Bromwich Albion\", \"showlegend\": true, \"type\": \"scatter\", \"x\": [1], \"xaxis\": \"x\", \"y\": [15000000], \"yaxis\": \"y\"}, {\"hoverlabel\": {\"namelength\": 0}, \"hovertemplate\": \"club=Norwich City<br>homegrown=%{x}<br>value=%{y}\", \"legendgroup\": \"club=Norwich City\", \"marker\": {\"color\": \"#636efa\", \"symbol\": \"circle\"}, \"mode\": \"markers\", \"name\": \"club=Norwich City\", \"showlegend\": true, \"type\": \"scatter\", \"x\": [2], \"xaxis\": \"x\", \"y\": [12500000], \"yaxis\": \"y\"}, {\"hoverlabel\": {\"namelength\": 0}, \"hovertemplate\": \"club=Liverpool U19<br>homegrown=%{x}<br>value=%{y}\", \"legendgroup\": \"club=Liverpool U19\", \"marker\": {\"color\": \"#EF553B\", \"symbol\": \"circle\"}, \"mode\": \"markers\", \"name\": \"club=Liverpool U19\", \"showlegend\": true, \"type\": \"scatter\", \"x\": [0], \"xaxis\": \"x\", \"y\": [4000000], \"yaxis\": \"y\"}, {\"hoverlabel\": {\"namelength\": 0}, \"hovertemplate\": \"club=Luton Town<br>homegrown=%{x}<br>value=%{y}\", \"legendgroup\": \"club=Luton Town\", \"marker\": {\"color\": \"#00cc96\", \"symbol\": \"circle\"}, \"mode\": \"markers\", \"name\": \"club=Luton Town\", \"showlegend\": true, \"type\": \"scatter\", \"x\": [0], \"xaxis\": \"x\", \"y\": [3000000], \"yaxis\": \"y\"}],\n",
       "                        {\"height\": 600, \"legend\": {\"tracegroupgap\": 0}, \"template\": {\"data\": {\"bar\": [{\"error_x\": {\"color\": \"#2a3f5f\"}, \"error_y\": {\"color\": \"#2a3f5f\"}, \"marker\": {\"line\": {\"color\": \"#E5ECF6\", \"width\": 0.5}}, \"type\": \"bar\"}], \"barpolar\": [{\"marker\": {\"line\": {\"color\": \"#E5ECF6\", \"width\": 0.5}}, \"type\": \"barpolar\"}], \"carpet\": [{\"aaxis\": {\"endlinecolor\": \"#2a3f5f\", \"gridcolor\": \"white\", \"linecolor\": \"white\", \"minorgridcolor\": \"white\", \"startlinecolor\": \"#2a3f5f\"}, \"baxis\": {\"endlinecolor\": \"#2a3f5f\", \"gridcolor\": \"white\", \"linecolor\": \"white\", \"minorgridcolor\": \"white\", \"startlinecolor\": \"#2a3f5f\"}, \"type\": \"carpet\"}], \"choropleth\": [{\"colorbar\": {\"outlinewidth\": 0, \"ticks\": \"\"}, \"type\": \"choropleth\"}], \"contour\": [{\"colorbar\": {\"outlinewidth\": 0, \"ticks\": \"\"}, \"colorscale\": [[0.0, \"#0d0887\"], [0.1111111111111111, \"#46039f\"], [0.2222222222222222, \"#7201a8\"], [0.3333333333333333, \"#9c179e\"], [0.4444444444444444, \"#bd3786\"], [0.5555555555555556, \"#d8576b\"], [0.6666666666666666, \"#ed7953\"], [0.7777777777777778, \"#fb9f3a\"], [0.8888888888888888, \"#fdca26\"], [1.0, \"#f0f921\"]], \"type\": \"contour\"}], \"contourcarpet\": [{\"colorbar\": {\"outlinewidth\": 0, \"ticks\": \"\"}, \"type\": \"contourcarpet\"}], \"heatmap\": [{\"colorbar\": {\"outlinewidth\": 0, \"ticks\": \"\"}, \"colorscale\": [[0.0, \"#0d0887\"], [0.1111111111111111, \"#46039f\"], [0.2222222222222222, \"#7201a8\"], [0.3333333333333333, \"#9c179e\"], [0.4444444444444444, \"#bd3786\"], [0.5555555555555556, \"#d8576b\"], [0.6666666666666666, \"#ed7953\"], [0.7777777777777778, \"#fb9f3a\"], [0.8888888888888888, \"#fdca26\"], [1.0, \"#f0f921\"]], \"type\": \"heatmap\"}], \"heatmapgl\": [{\"colorbar\": {\"outlinewidth\": 0, \"ticks\": \"\"}, \"colorscale\": [[0.0, \"#0d0887\"], [0.1111111111111111, \"#46039f\"], [0.2222222222222222, \"#7201a8\"], [0.3333333333333333, \"#9c179e\"], [0.4444444444444444, \"#bd3786\"], [0.5555555555555556, \"#d8576b\"], [0.6666666666666666, \"#ed7953\"], [0.7777777777777778, \"#fb9f3a\"], [0.8888888888888888, \"#fdca26\"], [1.0, \"#f0f921\"]], \"type\": \"heatmapgl\"}], \"histogram\": [{\"marker\": {\"colorbar\": {\"outlinewidth\": 0, \"ticks\": \"\"}}, \"type\": \"histogram\"}], \"histogram2d\": [{\"colorbar\": {\"outlinewidth\": 0, \"ticks\": \"\"}, \"colorscale\": [[0.0, \"#0d0887\"], [0.1111111111111111, \"#46039f\"], [0.2222222222222222, \"#7201a8\"], [0.3333333333333333, \"#9c179e\"], [0.4444444444444444, \"#bd3786\"], [0.5555555555555556, \"#d8576b\"], [0.6666666666666666, \"#ed7953\"], [0.7777777777777778, \"#fb9f3a\"], [0.8888888888888888, \"#fdca26\"], [1.0, \"#f0f921\"]], \"type\": \"histogram2d\"}], \"histogram2dcontour\": [{\"colorbar\": {\"outlinewidth\": 0, \"ticks\": \"\"}, \"colorscale\": [[0.0, \"#0d0887\"], [0.1111111111111111, \"#46039f\"], [0.2222222222222222, \"#7201a8\"], [0.3333333333333333, \"#9c179e\"], [0.4444444444444444, \"#bd3786\"], [0.5555555555555556, \"#d8576b\"], [0.6666666666666666, \"#ed7953\"], [0.7777777777777778, \"#fb9f3a\"], [0.8888888888888888, \"#fdca26\"], [1.0, \"#f0f921\"]], \"type\": \"histogram2dcontour\"}], \"mesh3d\": [{\"colorbar\": {\"outlinewidth\": 0, \"ticks\": \"\"}, \"type\": \"mesh3d\"}], \"parcoords\": [{\"line\": {\"colorbar\": {\"outlinewidth\": 0, \"ticks\": \"\"}}, \"type\": \"parcoords\"}], \"pie\": [{\"automargin\": true, \"type\": \"pie\"}], \"scatter\": [{\"marker\": {\"colorbar\": {\"outlinewidth\": 0, \"ticks\": \"\"}}, \"type\": \"scatter\"}], \"scatter3d\": [{\"line\": {\"colorbar\": {\"outlinewidth\": 0, \"ticks\": \"\"}}, \"marker\": {\"colorbar\": {\"outlinewidth\": 0, \"ticks\": \"\"}}, \"type\": \"scatter3d\"}], \"scattercarpet\": [{\"marker\": {\"colorbar\": {\"outlinewidth\": 0, \"ticks\": \"\"}}, \"type\": \"scattercarpet\"}], \"scattergeo\": [{\"marker\": {\"colorbar\": {\"outlinewidth\": 0, \"ticks\": \"\"}}, \"type\": \"scattergeo\"}], \"scattergl\": [{\"marker\": {\"colorbar\": {\"outlinewidth\": 0, \"ticks\": \"\"}}, \"type\": \"scattergl\"}], \"scattermapbox\": [{\"marker\": {\"colorbar\": {\"outlinewidth\": 0, \"ticks\": \"\"}}, \"type\": \"scattermapbox\"}], \"scatterpolar\": [{\"marker\": {\"colorbar\": {\"outlinewidth\": 0, \"ticks\": \"\"}}, \"type\": \"scatterpolar\"}], \"scatterpolargl\": [{\"marker\": {\"colorbar\": {\"outlinewidth\": 0, \"ticks\": \"\"}}, \"type\": \"scatterpolargl\"}], \"scatterternary\": [{\"marker\": {\"colorbar\": {\"outlinewidth\": 0, \"ticks\": \"\"}}, \"type\": \"scatterternary\"}], \"surface\": [{\"colorbar\": {\"outlinewidth\": 0, \"ticks\": \"\"}, \"colorscale\": [[0.0, \"#0d0887\"], [0.1111111111111111, \"#46039f\"], [0.2222222222222222, \"#7201a8\"], [0.3333333333333333, \"#9c179e\"], [0.4444444444444444, \"#bd3786\"], [0.5555555555555556, \"#d8576b\"], [0.6666666666666666, \"#ed7953\"], [0.7777777777777778, \"#fb9f3a\"], [0.8888888888888888, \"#fdca26\"], [1.0, \"#f0f921\"]], \"type\": \"surface\"}], \"table\": [{\"cells\": {\"fill\": {\"color\": \"#EBF0F8\"}, \"line\": {\"color\": \"white\"}}, \"header\": {\"fill\": {\"color\": \"#C8D4E3\"}, \"line\": {\"color\": \"white\"}}, \"type\": \"table\"}]}, \"layout\": {\"annotationdefaults\": {\"arrowcolor\": \"#2a3f5f\", \"arrowhead\": 0, \"arrowwidth\": 1}, \"coloraxis\": {\"colorbar\": {\"outlinewidth\": 0, \"ticks\": \"\"}}, \"colorscale\": {\"diverging\": [[0, \"#8e0152\"], [0.1, \"#c51b7d\"], [0.2, \"#de77ae\"], [0.3, \"#f1b6da\"], [0.4, \"#fde0ef\"], [0.5, \"#f7f7f7\"], [0.6, \"#e6f5d0\"], [0.7, \"#b8e186\"], [0.8, \"#7fbc41\"], [0.9, \"#4d9221\"], [1, \"#276419\"]], \"sequential\": [[0.0, \"#0d0887\"], [0.1111111111111111, \"#46039f\"], [0.2222222222222222, \"#7201a8\"], [0.3333333333333333, \"#9c179e\"], [0.4444444444444444, \"#bd3786\"], [0.5555555555555556, \"#d8576b\"], [0.6666666666666666, \"#ed7953\"], [0.7777777777777778, \"#fb9f3a\"], [0.8888888888888888, \"#fdca26\"], [1.0, \"#f0f921\"]], \"sequentialminus\": [[0.0, \"#0d0887\"], [0.1111111111111111, \"#46039f\"], [0.2222222222222222, \"#7201a8\"], [0.3333333333333333, \"#9c179e\"], [0.4444444444444444, \"#bd3786\"], [0.5555555555555556, \"#d8576b\"], [0.6666666666666666, \"#ed7953\"], [0.7777777777777778, \"#fb9f3a\"], [0.8888888888888888, \"#fdca26\"], [1.0, \"#f0f921\"]]}, \"colorway\": [\"#636efa\", \"#EF553B\", \"#00cc96\", \"#ab63fa\", \"#FFA15A\", \"#19d3f3\", \"#FF6692\", \"#B6E880\", \"#FF97FF\", \"#FECB52\"], \"font\": {\"color\": \"#2a3f5f\"}, \"geo\": {\"bgcolor\": \"white\", \"lakecolor\": \"white\", \"landcolor\": \"#E5ECF6\", \"showlakes\": true, \"showland\": true, \"subunitcolor\": \"white\"}, \"hoverlabel\": {\"align\": \"left\"}, \"hovermode\": \"closest\", \"mapbox\": {\"style\": \"light\"}, \"paper_bgcolor\": \"white\", \"plot_bgcolor\": \"#E5ECF6\", \"polar\": {\"angularaxis\": {\"gridcolor\": \"white\", \"linecolor\": \"white\", \"ticks\": \"\"}, \"bgcolor\": \"#E5ECF6\", \"radialaxis\": {\"gridcolor\": \"white\", \"linecolor\": \"white\", \"ticks\": \"\"}}, \"scene\": {\"xaxis\": {\"backgroundcolor\": \"#E5ECF6\", \"gridcolor\": \"white\", \"gridwidth\": 2, \"linecolor\": \"white\", \"showbackground\": true, \"ticks\": \"\", \"zerolinecolor\": \"white\"}, \"yaxis\": {\"backgroundcolor\": \"#E5ECF6\", \"gridcolor\": \"white\", \"gridwidth\": 2, \"linecolor\": \"white\", \"showbackground\": true, \"ticks\": \"\", \"zerolinecolor\": \"white\"}, \"zaxis\": {\"backgroundcolor\": \"#E5ECF6\", \"gridcolor\": \"white\", \"gridwidth\": 2, \"linecolor\": \"white\", \"showbackground\": true, \"ticks\": \"\", \"zerolinecolor\": \"white\"}}, \"shapedefaults\": {\"line\": {\"color\": \"#2a3f5f\"}}, \"ternary\": {\"aaxis\": {\"gridcolor\": \"white\", \"linecolor\": \"white\", \"ticks\": \"\"}, \"baxis\": {\"gridcolor\": \"white\", \"linecolor\": \"white\", \"ticks\": \"\"}, \"bgcolor\": \"#E5ECF6\", \"caxis\": {\"gridcolor\": \"white\", \"linecolor\": \"white\", \"ticks\": \"\"}}, \"title\": {\"x\": 0.05}, \"xaxis\": {\"automargin\": true, \"gridcolor\": \"white\", \"linecolor\": \"white\", \"ticks\": \"\", \"title\": {\"standoff\": 15}, \"zerolinecolor\": \"white\", \"zerolinewidth\": 2}, \"yaxis\": {\"automargin\": true, \"gridcolor\": \"white\", \"linecolor\": \"white\", \"ticks\": \"\", \"title\": {\"standoff\": 15}, \"zerolinecolor\": \"white\", \"zerolinewidth\": 2}}}, \"title\": {\"text\": \"Homegrown vs Value\"}, \"xaxis\": {\"anchor\": \"y\", \"domain\": [0.0, 1.0], \"title\": {\"text\": \"homegrown\"}}, \"yaxis\": {\"anchor\": \"x\", \"domain\": [0.0, 1.0], \"title\": {\"text\": \"value\"}}},\n",
       "                        {\"responsive\": true}\n",
       "                    ).then(function(){\n",
       "                            \n",
       "var gd = document.getElementById('7cd0d459-8c39-4416-afa9-03d47d364261');\n",
       "var x = new MutationObserver(function (mutations, observer) {{\n",
       "        var display = window.getComputedStyle(gd).display;\n",
       "        if (!display || display === 'none') {{\n",
       "            console.log([gd, 'removed!']);\n",
       "            Plotly.purge(gd);\n",
       "            observer.disconnect();\n",
       "        }}\n",
       "}});\n",
       "\n",
       "// Listen for the removal of the full notebook cells\n",
       "var notebookContainer = gd.closest('#notebook-container');\n",
       "if (notebookContainer) {{\n",
       "    x.observe(notebookContainer, {childList: true});\n",
       "}}\n",
       "\n",
       "// Listen for the clearing of the current output cell\n",
       "var outputEl = gd.closest('.output');\n",
       "if (outputEl) {{\n",
       "    x.observe(outputEl, {childList: true});\n",
       "}}\n",
       "\n",
       "                        })\n",
       "                };\n",
       "                });\n",
       "            </script>\n",
       "        </div>"
      ]
     },
     "metadata": {},
     "output_type": "display_data"
    }
   ],
   "source": [
    "fig = px.scatter(clubs,x='homegrown', y='value',title='Homegrown vs Value', color='club')\n",
    "fig.show()"
   ]
  },
  {
   "cell_type": "code",
   "execution_count": 235,
   "metadata": {},
   "outputs": [],
   "source": [
    "df.to_pickle('df')\n",
    "merged.to_pickle('merged')\n",
    "submerge.to_pickle('submerged')\n",
    "subdf1.to_pickle('subdf1')\n",
    "subdf2.to_pickle('subdf2')\n",
    "subdf3.to_pickle('subdf3')\n",
    "subdf4.to_pickle('subdf4')\n",
    "subdf5.to_pickle('subdf5')\n",
    "subdf6.to_pickle('subdf5')\n",
    "clubs.to_pickle('clubs')"
   ]
  }
 ],
 "metadata": {
  "kernelspec": {
   "display_name": "Python 3",
   "language": "python",
   "name": "python3"
  },
  "language_info": {
   "codemirror_mode": {
    "name": "ipython",
    "version": 3
   },
   "file_extension": ".py",
   "mimetype": "text/x-python",
   "name": "python",
   "nbconvert_exporter": "python",
   "pygments_lexer": "ipython3",
   "version": "3.7.4"
  }
 },
 "nbformat": 4,
 "nbformat_minor": 2
}
