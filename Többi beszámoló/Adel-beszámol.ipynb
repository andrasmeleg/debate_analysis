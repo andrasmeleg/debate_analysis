{
 "cells": [
  {
   "cell_type": "markdown",
   "metadata": {},
   "source": [
    "# TreePlanter ##"
   ]
  },
  {
   "cell_type": "markdown",
   "metadata": {},
   "source": [
    "Ez a kód azt csinálja, hogy elindít az ecosia.org-on egy végtelen keresést, illetve annyira végtelen ameddig el nem jut a célszámunkig. Az ecosia.org egy olyan kereső szoftver, mint a\n",
    "Google, vagy a Bing azzal a különbséggel, hogy bizonyos keresési számok után elültet egy fát.\n",
    "Ez figyelhető meg a honlap jobb felső sarkában lévő kis fa alatti számon, hogy eddig mennyi fát ültettünk el\n",
    "pusztán azzal, hogy keresgéltünk a neten."
   ]
  },
  {
   "cell_type": "code",
   "execution_count": 7,
   "metadata": {},
   "outputs": [],
   "source": [
    "import os\n",
    "import time \n",
    "import pynput #ehhez előtte promptban telepítettem a pynputot így, hogy beírtam ezt: pip install pynput\n",
    "from helpers import get_download_dir, chromedriver_download\n",
    "\n",
    "chromedriver_download()\n",
    "os.environ['PATH'] += ';' + get_download_dir()"
   ]
  },
  {
   "cell_type": "code",
   "execution_count": 8,
   "metadata": {},
   "outputs": [],
   "source": [
    "from selenium import webdriver\n",
    "from selenium.common.exceptions import NoSuchElementException\n",
    "from selenium.webdriver.common.action_chains import ActionChains\n",
    "from selenium.webdriver.common.actions.interaction import KEY\n",
    "from selenium.webdriver.common import keys\n",
    "from pynput.keyboard import Key, Controller"
   ]
  },
  {
   "cell_type": "markdown",
   "metadata": {},
   "source": [
    "number of trees to be planted:"
   ]
  },
  {
   "cell_type": "code",
   "execution_count": 9,
   "metadata": {},
   "outputs": [],
   "source": [
    "NOTTBP = 5"
   ]
  },
  {
   "cell_type": "code",
   "execution_count": 10,
   "metadata": {},
   "outputs": [
    {
     "name": "stdout",
     "output_type": "stream",
     "text": [
      "1\n",
      "2\n"
     ]
    },
    {
     "ename": "AttributeError",
     "evalue": "module 'selenium.webdriver' has no attribute 'Close'",
     "output_type": "error",
     "traceback": [
      "\u001b[1;31m---------------------------------------------------------------------------\u001b[0m",
      "\u001b[1;31mAttributeError\u001b[0m                            Traceback (most recent call last)",
      "\u001b[1;32m<ipython-input-10-a580d46f9ee6>\u001b[0m in \u001b[0;36m<module>\u001b[1;34m\u001b[0m\n\u001b[0;32m     51\u001b[0m         \u001b[0mfaszám\u001b[0m \u001b[1;33m=\u001b[0m \u001b[0mint\u001b[0m\u001b[1;33m(\u001b[0m\u001b[0ma\u001b[0m\u001b[1;33m)\u001b[0m\u001b[1;33m\u001b[0m\u001b[1;33m\u001b[0m\u001b[0m\n\u001b[0;32m     52\u001b[0m         \u001b[0mprint\u001b[0m\u001b[1;33m(\u001b[0m\u001b[0mfaszám\u001b[0m\u001b[1;33m)\u001b[0m\u001b[1;33m\u001b[0m\u001b[1;33m\u001b[0m\u001b[0m\n\u001b[1;32m---> 53\u001b[1;33m \u001b[0mwebdriver\u001b[0m\u001b[1;33m.\u001b[0m\u001b[0mClose\u001b[0m\u001b[1;33m(\u001b[0m\u001b[1;33m)\u001b[0m\u001b[1;33m\u001b[0m\u001b[1;33m\u001b[0m\u001b[0m\n\u001b[0m",
      "\u001b[1;31mAttributeError\u001b[0m: module 'selenium.webdriver' has no attribute 'Close'"
     ]
    }
   ],
   "source": [
    "driver = webdriver.Chrome()\n",
    "driver.get('https://www.ecosia.org/')\n",
    "\n",
    "driver.set_window_size(1366, 780)\n",
    "\n",
    "search_field = driver.find_element_by_css_selector('.input-wrapper input[name=q]')\n",
    "\n",
    "search_field.send_keys('Fiat Multipla')\n",
    "\n",
    "submit_button = driver.find_element_by_css_selector('.buttons-wrapper button[type=submit]')\n",
    "submit_button.click()\n",
    "\n",
    "keyboard = Controller() \n",
    "\n",
    "keyboard.press(Key.ctrl)\n",
    "keyboard.press(Key.shift)\n",
    "keyboard.press('i')\n",
    "keyboard.release(Key.ctrl)\n",
    "keyboard.release(Key.shift)\n",
    "keyboard.release('i')\n",
    "\n",
    "time.sleep(5)\n",
    "\n",
    "urls = []\n",
    "for article in driver.find_elements_by_class_name('tree-counter'):\n",
    "    urls.append(article.find_element_by_tag_name('p'))\n",
    "faszám = int(urls[0].text)\n",
    "\n",
    "a=urls[0].text\n",
    "int(a)\n",
    "\n",
    "while faszám<NOTTBP:\n",
    "    driver.get('https://www.ecosia.org/')\n",
    "    \n",
    "    time.sleep(2)\n",
    "    \n",
    "    search_field = driver.find_element_by_css_selector('.input-wrapper input[name=q]')\n",
    "    search_field.send_keys('My life is green')\n",
    "    \n",
    "    time.sleep(2)\n",
    "    \n",
    "    submit_button = driver.find_element_by_css_selector('.buttons-wrapper button[type=submit]')\n",
    "    submit_button.click()\n",
    "    \n",
    "    time.sleep(5)\n",
    "    \n",
    "    urls = []\n",
    "    for article in driver.find_elements_by_id('treeCounter'):\n",
    "        urls.append(article.find_element_by_tag_name('p'))\n",
    "        a = urls[0].text\n",
    "        faszám = int(a)\n",
    "        print(faszám)\n",
    "webdriver.Close()        "
   ]
  },
  {
   "cell_type": "code",
   "execution_count": null,
   "metadata": {},
   "outputs": [],
   "source": []
  }
 ],
 "metadata": {
  "kernelspec": {
   "display_name": "Python 3",
   "language": "python",
   "name": "python3"
  },
  "language_info": {
   "codemirror_mode": {
    "name": "ipython",
    "version": 3
   },
   "file_extension": ".py",
   "mimetype": "text/x-python",
   "name": "python",
   "nbconvert_exporter": "python",
   "pygments_lexer": "ipython3",
   "version": "3.7.3"
  }
 },
 "nbformat": 4,
 "nbformat_minor": 2
}
